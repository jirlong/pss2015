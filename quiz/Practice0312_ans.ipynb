{
 "cells": [
  {
   "cell_type": "markdown",
   "metadata": {
    "collapsed": true
   },
   "source": [
    "# Accumulating\n",
    "* 0312課堂上計算了台北市共有幾處Youbike服務，也計算了台北市共有幾台腳踏車、幾個停車格。現在要做的是，累計台北市不同的區（例如松山區、大安區），各有幾台腳踏車，並列印出來。\n",
    "    * 想法：試著回想一下「數水果有幾個」的例子，在那個例子中，從袋中依序拿出一個水果，看一看，他是蘋果，若蘋果沒出現在表上，就登記為0，然後累計+1。\n",
    "    * 而你現在要做的是，從所有資料，依序列數一個腳踏車站，看一看，這個站是信義區，若信義區沒出現在表上，就登記為0，然後累計「該站的腳踏車數量」。"
   ]
  },
  {
   "cell_type": "code",
   "execution_count": 2,
   "metadata": {
    "collapsed": true
   },
   "outputs": [],
   "source": [
    "import urllib2\n",
    "import json\n",
    "response = urllib2.urlopen('http://opendata.dot.taipei.gov.tw/opendata/gwjs_cityhall.json')\n",
    "data = json.load(response)"
   ]
  },
  {
   "cell_type": "code",
   "execution_count": 8,
   "metadata": {
    "collapsed": false
   },
   "outputs": [
    {
     "name": "stdout",
     "output_type": "stream",
     "text": [
      "信義區\n"
     ]
    }
   ],
   "source": [
    "print data['retVal'][0]['sarea']"
   ]
  },
  {
   "cell_type": "markdown",
   "metadata": {},
   "source": [
    "* 先想想你現在有什麼\n",
    "    * 你可以用for列舉所有的site\n",
    "    * 每個site是一個dictionary\n",
    "    * 用sarea為key可對映（map）至每個site的行政區、用sbi作為key可對應至每個site的腳踏車數量\n",
    "* 再想想你要做什麼\n",
    "    * 要統計每個行政區目前會有多少台腳踏車，所以是行政區和腳踏車數量的對應。\n",
    "    * 所以你要造一個dictionary對應，來存放每個腳踏車對應到他的數量。\n",
    "    * 此時，你可以想像每個腳踏車站site都是一袋水果，裡面有site['sbi']顆某水果，只是你不知道他是哪一種水果site['sarea']\n",
    "    * 於是你要做的事情就是，從那個大列表裡面，取出一袋水果，看看這個水果是否曾經出現在列表上，有出現就把水果的數量加上去，沒出現過，就新增一個欄位預設為0，然後把該袋水果的數量登記上去。"
   ]
  },
  {
   "cell_type": "code",
   "execution_count": 6,
   "metadata": {
    "collapsed": false
   },
   "outputs": [],
   "source": [
    "# Advanced: Print the number of bicycles in each \"AREA\"\n",
    "area_dict = {}\n",
    "for site in data['retVal']:\n",
    "    area_dict.setdefault(site['sarea'], 0)\n",
    "    area_dict[site['sarea']] += int(site['sbi'])"
   ]
  },
  {
   "cell_type": "code",
   "execution_count": 7,
   "metadata": {
    "collapsed": false
   },
   "outputs": [
    {
     "name": "stdout",
     "output_type": "stream",
     "text": [
      "中山區 298\n",
      "松山區 175\n",
      "蘆洲區 140\n",
      "士林區 276\n",
      "大同區 173\n",
      "永和區 257\n",
      "內湖區 172\n",
      "萬華區 241\n",
      "信義區 192\n",
      "三重區 230\n",
      "北投區 220\n",
      "新莊區 231\n",
      "文山區 213\n",
      "新店區 239\n",
      "大安區 180\n",
      "中正區 168\n",
      "中和區 110\n",
      "南港區 127\n",
      "汐止區 317\n"
     ]
    }
   ],
   "source": [
    "# Sample output\n",
    "for a in area_dict:\n",
    "    print a, area_dict[a]"
   ]
  },
  {
   "cell_type": "markdown",
   "metadata": {},
   "source": [
    "#Checking date format\n",
    "* 延續if-else中核對日期格式是否正確的例子。如果今天希望，要依照不同月份的天數來區分的話，那要怎麼做？（HINT: Using dictionary）\n",
    "* 想想看你現在有什麼？年、月、日。\n",
    "    * 日的限制哪裡來？是由月來。\n",
    "    * 而我們所知道的是，每個月應該有幾天，所以就造出這個對應。\n",
    "    * 然後在判斷式裡面用月去對應日該有幾天作為邊界判斷。"
   ]
  },
  {
   "cell_type": "code",
   "execution_count": 9,
   "metadata": {
    "collapsed": false
   },
   "outputs": [
    {
     "name": "stdout",
     "output_type": "stream",
     "text": [
      "please input a number: 20080631\n",
      "ERROR: DATE 31 (SHOULD BE 1<=Day<=30)\n"
     ]
    }
   ],
   "source": [
    "a = input(\"please input a number: \")\n",
    "suc = True\n",
    "mdict = {1:31, 2:28, 3:31, 4:30, 5:31, 6:30, 7:31, 8:31, 9:30, 10:31, 11:30, 12:31}\n",
    "if not 10000000 <= a < 100000000:\n",
    "    print \"ERROR: %d (NOT TYPYCAL DATE FORMAT)\"%(a)\n",
    "else:\n",
    "    if not 20010000 < a < 20160000:\n",
    "        print \"ERROR: YEAR %d (SHOULD BE 2001<=Year<=2015)\"%(a/10000)\n",
    "        suc = False\n",
    "    if not 1 <= a%10000/100 <= 12:\n",
    "        print \"ERROR: MONTH %d (SHOULD BE 1<=Month<=12)\"%(a%10000/100)\n",
    "        suc = False\n",
    "    if not 1 <= a%100 <= mdict[a%10000/100]: # MODIFY THIS LINE\n",
    "        print \"ERROR: DATE %d (SHOULD BE 1<=Day<=%d)\"%(a%100, mdict[a%10000/100]) # MODIFY THIS LINE\n",
    "        suc = False\n",
    "    if suc: \n",
    "        print \"VALIDATED: YMD = %d/%d/%d\"%(a/10000, a%10000/100, a%100)\n",
    "        \n",
    "# SAMPLE OUTPUT\n",
    "# Please intput a number:20140631\n",
    "# ERROR: DATA 31 (SHOULD BE 1<=Day<=30)"
   ]
  },
  {
   "cell_type": "markdown",
   "metadata": {},
   "source": [
    "# For-each\n",
    "## Fibonacci number\n",
    "* 求取費式數列的第n項，假設第1項為0、第2項為1。\n",
    "* 費式數列除了第1~2項以外，其他每一項都是前兩項和。\n",
    "* 0, 1, 1, 2, 3, 5, 8, 13, 21, ...\n",
    "* 相鄰兩項，若比較大的項是b，比較小的是a，\n",
    "* 在下一回合，比較大的會變成a+b，比較小的會變成b。\n",
    "* 所以a, b = a+b, a"
   ]
  },
  {
   "cell_type": "code",
   "execution_count": 13,
   "metadata": {
    "collapsed": false
   },
   "outputs": [
    {
     "name": "stdout",
     "output_type": "stream",
     "text": [
      "Enter a number: 10\n",
      "3th term = 1\n",
      "4th term = 2\n",
      "5th term = 3\n",
      "6th term = 5\n",
      "7th term = 8\n",
      "8th term = 13\n",
      "9th term = 21\n",
      "10th term = 34\n"
     ]
    }
   ],
   "source": [
    "n = input(\"Enter a number: \")\n",
    "a, b = 0, 1\n",
    "for i in range(n-2):\n",
    "    b, a = a+b, b\n",
    "    print \"%dth term = %d\"%(i+3, b)\n",
    "\n",
    "# Print the fibonacci number in this way?\n",
    "# 3th term = 1\n",
    "# 4th term = 2\n",
    "# 5th term = 3\n",
    "# 6th term = 5\n",
    "# 7th term = 8\n",
    "# 8th term = 13\n",
    "# 9th term = 21\n",
    "# 10th term = 34"
   ]
  }
 ],
 "metadata": {
  "kernelspec": {
   "display_name": "Python 2",
   "language": "python",
   "name": "python2"
  },
  "language_info": {
   "codemirror_mode": {
    "name": "ipython",
    "version": 2
   },
   "file_extension": ".py",
   "mimetype": "text/x-python",
   "name": "python",
   "nbconvert_exporter": "python",
   "pygments_lexer": "ipython2",
   "version": "2.7.6"
  }
 },
 "nbformat": 4,
 "nbformat_minor": 0
}
