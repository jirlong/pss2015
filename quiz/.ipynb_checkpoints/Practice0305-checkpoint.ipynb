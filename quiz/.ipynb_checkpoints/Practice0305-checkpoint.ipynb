{
 "cells": [
  {
   "cell_type": "markdown",
   "metadata": {},
   "source": [
    "# +-*/"
   ]
  },
  {
   "cell_type": "code",
   "execution_count": 78,
   "metadata": {
    "collapsed": false
   },
   "outputs": [
    {
     "name": "stdout",
     "output_type": "stream",
     "text": [
      "22\n",
      "49\n"
     ]
    }
   ],
   "source": [
    "import time\n",
    "now =  time.time()\n",
    "print int(now)/60%60\n",
    "print int(now)%60"
   ]
  },
  {
   "cell_type": "code",
   "execution_count": null,
   "metadata": {
    "collapsed": true
   },
   "outputs": [],
   "source": []
  },
  {
   "cell_type": "code",
   "execution_count": 102,
   "metadata": {
    "collapsed": false
   },
   "outputs": [
    {
     "name": "stdout",
     "output_type": "stream",
     "text": [
      "Enter a day between 2001~2013: 20121523\n",
      "ERROR: 15 MONTH (1~12)\n"
     ]
    }
   ],
   "source": [
    "a = input(\"Enter a day between 2001~2013: \")\n",
    "if 10000000 <= a < 100000000:\n",
    "    b = True\n",
    "    if not 2001<= a/10000 <= 2013:\n",
    "        print \"ERROR: %s YEAR (2001~2013)\"%(a/10000)\n",
    "        b = False\n",
    "    if not 1 <= a%10000/100 <= 12:\n",
    "        print \"ERROR: %s MONTH (1~12)\"%(a%10000/100)\n",
    "        b = False\n",
    "    if not 1 <= a%100 <= 31:\n",
    "        print \"ERROR: %s DATE (1~31)\"%(a%100)\n",
    "        b = False\n",
    "    if b:\n",
    "        print \"YEAR:%s\\tMONTH:%s\\tDATE:%s\"%(a/10000, a%10000/100, a%100)\n",
    "else:\n",
    "    print \"ERROR: Please input a right format(XXXXXXXX)\""
   ]
  },
  {
   "cell_type": "code",
   "execution_count": 103,
   "metadata": {
    "collapsed": false
   },
   "outputs": [
    {
     "name": "stdout",
     "output_type": "stream",
     "text": [
      "True\n"
     ]
    }
   ],
   "source": [
    "c = 1\n",
    "print c == 1"
   ]
  },
  {
   "cell_type": "raw",
   "metadata": {},
   "source": [
    "12 --> 31\n",
    "11 --> 30\n",
    "10 --> 31\n",
    "9 --> 30"
   ]
  },
  {
   "cell_type": "markdown",
   "metadata": {},
   "source": [
    "# Variable and Data type\n",
    "* Considering the following code...\n",
    "* List all variables: \n",
    "* Write down all variable type in the example:\n",
    "* List all reserved keywords "
   ]
  },
  {
   "cell_type": "code",
   "execution_count": null,
   "metadata": {
    "collapsed": false
   },
   "outputs": [],
   "source": [
    "import string\n",
    "sentences = 'All men have stars, but they are not the same things for different people'\n",
    "sentences = sentences.translate(None, string.punctuation)\n",
    "sentences = sentences.lower()\n",
    "wdict = {}\n",
    "for word in sentences.split():\n",
    "    if not wdict.has_key(word):\n",
    "        wdict[word] = 0\n",
    "    wdict[word] += 1\n",
    "for f, q in sorted(((freq, word) for word, freq in wdict.items()), reverse=True):\n",
    "    print f, q"
   ]
  },
  {
   "cell_type": "markdown",
   "metadata": {},
   "source": [
    "# Accessing json\n",
    "* 底下是一個dictionary中還有dictionary還有list的變數，看似非常複雜。\n",
    "* 內容是台北市兩個抽水站的「抽驗日期、抽驗時間、抽水站名稱、經緯度、濁度、氯含量、酸度」\n",
    "* 請用print列印出\n",
    "    * 這兩個抽水站的名稱，\n",
    "    * 第三個指標值是酸度，請把JT50這個抽水站的酸度印出來"
   ]
  },
  {
   "cell_type": "code",
   "execution_count": 4,
   "metadata": {
    "collapsed": false
   },
   "outputs": [
    {
     "name": "stdout",
     "output_type": "stream",
     "text": [
      "{u'JT54': {'index': [0.05, 0.42, 7.2], 'time': [u'2015-03-04', u'01:15:00'], 'location': [25.14058, 121.54186], 'name': u'\\u6c11\\u751f\\u52a0\\u58d3\\u7ad9'}, u'JT50': {'index': [0.06, 0.39, 7.2], 'time': [u'2015-03-04', u'01:15:00'], 'location': [25.06639, 121.55965], 'name': u'\\u677e\\u5c71\\u52a0\\u58d3\\u7ad9'}}\n"
     ]
    }
   ],
   "source": [
    "data = {u'JT50': {'index': [0.06, 0.39, 7.2], 'location': [25.06639, 121.55965], 'name': u'\\u677e\\u5c71\\u52a0\\u58d3\\u7ad9', 'time': [u'2015-03-04', u'01:15:00']}, u'JT54': {'index': [0.05, 0.42, 7.2], 'location': [25.14058, 121.54186], 'name': u'\\u6c11\\u751f\\u52a0\\u58d3\\u7ad9', 'time': [u'2015-03-04', u'01:15:00']}}\n",
    "print data"
   ]
  },
  {
   "cell_type": "code",
   "execution_count": 9,
   "metadata": {
    "collapsed": false
   },
   "outputs": [
    {
     "name": "stdout",
     "output_type": "stream",
     "text": [
      "民生加壓站 松山加壓站\n",
      "site 松山加壓站 with ph 7.2\n"
     ]
    }
   ],
   "source": [
    "# Print the name of 'JT54'\n",
    "'''print data['JT54'][____________________]'''\n",
    "'''print data['JT50'][____________________]'''\n",
    "print data['JT54']['name'], data['JT50']['name']\n",
    "# print the ph value of JT50\n",
    "'''print data[________][____________________][____________]'''\n",
    "print \"site %s with ph %s\"%(data['JT50']['name'], data['JT50']['index'][2])"
   ]
  },
  {
   "cell_type": "markdown",
   "metadata": {},
   "source": [
    "# Assignment 0305\n",
    "* Find one open data with json format from http://data.gov.tw/\n",
    "* Using the following code to load the json and print the data directly.\n",
    "* Try to discover and report the structure of the data"
   ]
  },
  {
   "cell_type": "code",
   "execution_count": null,
   "metadata": {
    "collapsed": false
   },
   "outputs": [],
   "source": [
    "import urllib2\n",
    "import json\n",
    "import time\n",
    "t = time.time()\n",
    "now_str = time.strftime('%y%m%d%H%M', time.localtime(t))\n",
    "response = urllib2.urlopen('http://opendata.dot.taipei.gov.tw/opendata/gwjs_cityhall.json')\n",
    "data = json.load(response)\n",
    "print data"
   ]
  }
 ],
 "metadata": {
  "kernelspec": {
   "display_name": "Python 2",
   "language": "python",
   "name": "python2"
  },
  "language_info": {
   "codemirror_mode": {
    "name": "ipython",
    "version": 2
   },
   "file_extension": ".py",
   "mimetype": "text/x-python",
   "name": "python",
   "nbconvert_exporter": "python",
   "pygments_lexer": "ipython2",
   "version": "2.7.6"
  }
 },
 "nbformat": 4,
 "nbformat_minor": 0
}
