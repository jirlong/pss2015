{
 "cells": [
  {
   "cell_type": "markdown",
   "metadata": {},
   "source": [
    "# 9X9 Table\n",
    "* 以下是一個3/19所上過的9X9乘法表的範例，目的是讓你了解for-each作為一個模組被包含在另一個for-each裡面的情形。有助於了解for-each的使用概念。"
   ]
  },
  {
   "cell_type": "code",
   "execution_count": 20,
   "metadata": {
    "collapsed": false
   },
   "outputs": [
    {
     "name": "stdout",
     "output_type": "stream",
     "text": [
      "1*1= 1 1*2= 2 1*3= 3 1*4= 4 1*5= 5 1*6= 6 1*7= 7 1*8= 8 1*9= 9\n",
      "2*1= 2 2*2= 4 2*3= 6 2*4= 8 2*5=10 2*6=12 2*7=14 2*8=16 2*9=18\n",
      "3*1= 3 3*2= 6 3*3= 9 3*4=12 3*5=15 3*6=18 3*7=21 3*8=24 3*9=27\n",
      "4*1= 4 4*2= 8 4*3=12 4*4=16 4*5=20 4*6=24 4*7=28 4*8=32 4*9=36\n",
      "5*1= 5 5*2=10 5*3=15 5*4=20 5*5=25 5*6=30 5*7=35 5*8=40 5*9=45\n",
      "6*1= 6 6*2=12 6*3=18 6*4=24 6*5=30 6*6=36 6*7=42 6*8=48 6*9=54\n",
      "7*1= 7 7*2=14 7*3=21 7*4=28 7*5=35 7*6=42 7*7=49 7*8=56 7*9=63\n",
      "8*1= 8 8*2=16 8*3=24 8*4=32 8*5=40 8*6=48 8*7=56 8*8=64 8*9=72\n",
      "9*1= 9 9*2=18 9*3=27 9*4=36 9*5=45 9*6=54 9*7=63 9*8=72 9*9=81\n"
     ]
    }
   ],
   "source": [
    "for i in range(1, 10):\n",
    "    for j in range(1, 10):\n",
    "        print \"%d*%d=%2d\"%(i, j, i*j),\n",
    "    print"
   ]
  },
  {
   "cell_type": "markdown",
   "metadata": {},
   "source": [
    "## Question 1\n",
    "* 如果我希望九九乘法表是像下面這樣呈現，而不是上面的樣子（也就是行和列互換），那要怎麼印？\n",
    "        1*1= 1 2*1= 2 3*1= 3 4*1= 4 5*1= 5 6*1= 6 7*1= 7 8*1= 8 9*1= 9\n",
    "        1*2= 2 2*2= 4 3*2= 6 4*2= 8 5*2=10 6*2=12 7*2=14 8*2=16 9*2=18\n",
    "        1*3= 3 2*3= 6 3*3= 9 4*3=12 5*3=15 6*3=18 7*3=21 8*3=24 9*3=27\n",
    "        1*4= 4 2*4= 8 3*4=12 4*4=16 5*4=20 6*4=24 7*4=28 8*4=32 9*4=36\n",
    "        1*5= 5 2*5=10 3*5=15 4*5=20 5*5=25 6*5=30 7*5=35 8*5=40 9*5=45\n",
    "        1*6= 6 2*6=12 3*6=18 4*6=24 5*6=30 6*6=36 7*6=42 8*6=48 9*6=54\n",
    "        1*7= 7 2*7=14 3*7=21 4*7=28 5*7=35 6*7=42 7*7=49 8*7=56 9*7=63\n",
    "        1*8= 8 2*8=16 3*8=24 4*8=32 5*8=40 6*8=48 7*8=56 8*8=64 9*8=72\n",
    "        1*9= 9 2*9=18 3*9=27 4*9=36 5*9=45 6*9=54 7*9=63 8*9=72 9*9=81"
   ]
  },
  {
   "cell_type": "code",
   "execution_count": 2,
   "metadata": {
    "collapsed": false
   },
   "outputs": [
    {
     "name": "stdout",
     "output_type": "stream",
     "text": [
      "1*1= 1 2*1= 2 3*1= 3 4*1= 4 5*1= 5 6*1= 6 7*1= 7 8*1= 8 9*1= 9\n",
      "1*2= 2 2*2= 4 3*2= 6 4*2= 8 5*2=10 6*2=12 7*2=14 8*2=16 9*2=18\n",
      "1*3= 3 2*3= 6 3*3= 9 4*3=12 5*3=15 6*3=18 7*3=21 8*3=24 9*3=27\n",
      "1*4= 4 2*4= 8 3*4=12 4*4=16 5*4=20 6*4=24 7*4=28 8*4=32 9*4=36\n",
      "1*5= 5 2*5=10 3*5=15 4*5=20 5*5=25 6*5=30 7*5=35 8*5=40 9*5=45\n",
      "1*6= 6 2*6=12 3*6=18 4*6=24 5*6=30 6*6=36 7*6=42 8*6=48 9*6=54\n",
      "1*7= 7 2*7=14 3*7=21 4*7=28 5*7=35 6*7=42 7*7=49 8*7=56 9*7=63\n",
      "1*8= 8 2*8=16 3*8=24 4*8=32 5*8=40 6*8=48 7*8=56 8*8=64 9*8=72\n",
      "1*9= 9 2*9=18 3*9=27 4*9=36 5*9=45 6*9=54 7*9=63 8*9=72 9*9=81\n"
     ]
    }
   ],
   "source": [
    "for i in range(1, 10):\n",
    "    for j in range(1, 10):\n",
    "        print \"%d*%d=%2d\"%(j, i, i*j),\n",
    "    print"
   ]
  },
  {
   "cell_type": "markdown",
   "metadata": {},
   "source": [
    "## Question 2\n",
    "* 如果我嫌這樣的資訊過於冗贅（redundant），例如9X5和5X9不用重複出現，只需要像下面一樣，出現一次就好，那要怎麼印？\n",
    "        1*1= 1\n",
    "        2*1= 2 2*2= 4\n",
    "        3*1= 3 3*2= 6 3*3= 9\n",
    "        4*1= 4 4*2= 8 4*3=12 4*4=16\n",
    "        5*1= 5 5*2=10 5*3=15 5*4=20 5*5=25\n",
    "        6*1= 6 6*2=12 6*3=18 6*4=24 6*5=30 6*6=36\n",
    "        7*1= 7 7*2=14 7*3=21 7*4=28 7*5=35 7*6=42 7*7=49\n",
    "        8*1= 8 8*2=16 8*3=24 8*4=32 8*5=40 8*6=48 8*7=56 8*8=64\n",
    "        9*1= 9 9*2=18 9*3=27 9*4=36 9*5=45 9*6=54 9*7=63 9*8=72 9*9=81"
   ]
  },
  {
   "cell_type": "code",
   "execution_count": 5,
   "metadata": {
    "collapsed": false
   },
   "outputs": [
    {
     "name": "stdout",
     "output_type": "stream",
     "text": [
      "1*1= 1\n",
      "2*1= 2 2*2= 4\n",
      "3*1= 3 3*2= 6 3*3= 9\n",
      "4*1= 4 4*2= 8 4*3=12 4*4=16\n",
      "5*1= 5 5*2=10 5*3=15 5*4=20 5*5=25\n",
      "6*1= 6 6*2=12 6*3=18 6*4=24 6*5=30 6*6=36\n",
      "7*1= 7 7*2=14 7*3=21 7*4=28 7*5=35 7*6=42 7*7=49\n",
      "8*1= 8 8*2=16 8*3=24 8*4=32 8*5=40 8*6=48 8*7=56 8*8=64\n",
      "9*1= 9 9*2=18 9*3=27 9*4=36 9*5=45 9*6=54 9*7=63 9*8=72 9*9=81\n"
     ]
    }
   ],
   "source": [
    "for i in range(1, 10):\n",
    "    for j in range(1, i+1):\n",
    "        print \"%d*%d=%2d\"%(i, j, i*j),\n",
    "    print"
   ]
  },
  {
   "cell_type": "markdown",
   "metadata": {},
   "source": [
    "# Air Quality\n",
    "* Link: http://opendata.epa.gov.tw/ws/Data/AQX/?format=json\n",
    "* Field names: \n",
    "    * 測站名稱(SiteName)、縣市(County)、發布時間(PublishTime)\n",
    "    * 空氣污染指標(PSI)、指標污染物(MajorPollutant)、狀態(Status)、二氧化硫濃度(SO2)、一氧化碳濃度(CO)、臭氧濃度(O3)、懸浮微粒濃度(PM10)、細懸浮微粒濃度(PM2.5)、二氧化氮濃度(NO2)、風速(WindSpeed)、風向(WindDirec)、細懸浮微粒指標(FPMI)"
   ]
  },
  {
   "cell_type": "code",
   "execution_count": 8,
   "metadata": {
    "collapsed": false
   },
   "outputs": [
    {
     "name": "stdout",
     "output_type": "stream",
     "text": [
      "76\n"
     ]
    }
   ],
   "source": [
    "import urllib2\n",
    "import json\n",
    "response = urllib2.urlopen('http://opendata.epa.gov.tw/ws/Data/AQX/?format=json')\n",
    "aqx = json.load(response)\n",
    "print len(aqx)"
   ]
  },
  {
   "cell_type": "markdown",
   "metadata": {},
   "source": [
    "## Question 3\n",
    "* 上述為空污資訊的json資料連結、資料欄位說明、以及取得json資料的程式碼。請利用面的程式碼列印出各地PM2.5的值、站名、與縣市名稱並排序如下。"
   ]
  },
  {
   "cell_type": "code",
   "execution_count": 6,
   "metadata": {
    "collapsed": false
   },
   "outputs": [
    {
     "name": "stdout",
     "output_type": "stream",
     "text": [
      "<type 'list'>\n"
     ]
    }
   ],
   "source": [
    "import urllib2\n",
    "import json\n",
    "response = urllib2.urlopen('http://opendata.epa.gov.tw/ws/Data/AQX/?format=json')\n",
    "aqx = json.load(response)"
   ]
  },
  {
   "cell_type": "code",
   "execution_count": 11,
   "metadata": {
    "collapsed": false
   },
   "outputs": [
    {
     "name": "stdout",
     "output_type": "stream",
     "text": [
      "<type 'list'>\n",
      "<type 'dict'>\n",
      "陽明 臺北市 \n",
      "善化 臺南市 25\n",
      "麥寮 雲林縣 20\n",
      "關山 臺東縣 6\n",
      "馬公 澎湖縣 12\n",
      "金門 金門縣 24\n",
      "馬祖 連江縣 18\n",
      "埔里 南投縣 35\n",
      "復興 高雄市 \n",
      "永和 新北市 5\n"
     ]
    }
   ],
   "source": [
    "print type(aqx)\n",
    "print type(aqx[0])\n",
    "for site in aqx[:10]:\n",
    "    print site['SiteName'], site['County'], site['PM2.5']"
   ]
  },
  {
   "cell_type": "raw",
   "metadata": {},
   "source": [
    "善化 96 臺南市\n",
    "左營 91 高雄市\n",
    "竹山 90 南投縣\n",
    "南投 88 南投縣\n",
    "彰化 84 彰化縣\n",
    "嘉義 83 嘉義市\n",
    "崙背 79 雲林縣\n",
    "潮州 77 屏東縣\n",
    "大里 77 臺中市\n",
    "忠明 76 臺中市    "
   ]
  },
  {
   "cell_type": "markdown",
   "metadata": {},
   "source": [
    "## Question 4\n",
    "0.  下面這個問題用目前教過的技巧就可以解決，卻會讓初學的你充滿挫折感，但我覺得這是學程式必經的過程，不如就嘗試看看。\n",
    "1. 問題：你會遇到這個問題，你覺得這時候可以怎麼處理？某些站台有時候不會回傳資料（例如下面例子中，「陽明」站所傳回的PM2.5的值是\"\"，，也就是空的字串。我寫程式的時候，特別去偵測這樣的情形，把他的PM2.5的值改為-1），所以你必須要嘗試把這些空字串地傳回值特別處理。有一個方法是利用字串的函式偵測是否len(astr)==0。或者偵測是否astr == \"\"。\n",
    "2.  題目：事實上上面PM2.5是濃度的平均數，但是，通常在報導的時候會對應到一個表格，分別標示現在PM2.5濃度對應到的指標為多少（1~10），並據此分為低（L）、中（M）、高（H）、非常高（vH）四個等級。請利用list、dictionary、或者是if-else，想辦法把上述的濃度所對應到的指標（1~10）與等級（L, M, H, vH）列印出來。\n",
    "    * 對應連結如下：http://taqm.epa.gov.tw/taqm/tw/fpmi.aspx\n",
    "3. 最好的狀況是你可以印出下面這個樣子。"
   ]
  },
  {
   "cell_type": "code",
   "execution_count": 23,
   "metadata": {
    "collapsed": false
   },
   "outputs": [
    {
     "name": "stdout",
     "output_type": "stream",
     "text": [
      "前金\t高雄市\t43\t5\tM\n",
      "潮州\t屏東縣\t40\t4\tM\n",
      "埔里\t南投縣\t35\t3\tL\n",
      "大寮\t高雄市\t30\t3\tL\n",
      "左營\t高雄市\t28\t3\tL\n",
      "屏東\t屏東縣\t26\t3\tL\n",
      "南投\t南投縣\t26\t3\tL\n",
      "善化\t臺南市\t25\t3\tL\n",
      "金門\t金門縣\t24\t3\tL\n",
      "竹山\t南投縣\t22\t2\tL\n",
      "鳳山\t高雄市\t21\t2\tL\n",
      "美濃\t高雄市\t21\t2\tL\n",
      "小港\t高雄市\t21\t2\tL\n",
      "麥寮\t雲林縣\t20\t2\tL\n",
      "豐原\t臺中市\t19\t2\tL\n",
      "仁武\t高雄市\t19\t2\tL\n",
      "馬祖\t連江縣\t18\t2\tL\n",
      "大里\t臺中市\t18\t2\tL\n",
      "苗栗\t苗栗縣\t17\t2\tL\n",
      "線西\t彰化縣\t17\t2\tL\n",
      "新營\t臺南市\t16\t2\tL\n",
      "斗六\t雲林縣\t16\t2\tL\n",
      "安南\t臺南市\t15\t2\tL\n",
      "臺南\t臺南市\t14\t2\tL\n",
      "橋頭\t高雄市\t14\t2\tL\n",
      "嘉義\t嘉義市\t14\t2\tL\n",
      "馬公\t澎湖縣\t12\t2\tL\n",
      "竹東\t新竹縣\t12\t2\tL\n",
      "朴子\t嘉義縣\t12\t2\tL\n",
      "新竹\t新竹市\t12\t2\tL\n",
      "二林\t彰化縣\t12\t2\tL\n",
      "忠明\t臺中市\t11\t1\tL\n",
      "崙背\t雲林縣\t10\t1\tL\n",
      "沙鹿\t臺中市\t9\t1\tL\n",
      "新港\t嘉義縣\t9\t1\tL\n",
      "士林\t臺北市\t9\t1\tL\n",
      "土城\t新北市\t9\t1\tL\n",
      "龍潭\t桃園市\t8\t1\tL\n",
      "頭份\t苗栗縣\t8\t1\tL\n",
      "西屯\t臺中市\t8\t1\tL\n",
      "臺西\t雲林縣\t8\t1\tL\n",
      "汐止\t新北市\t8\t1\tL\n",
      "林口\t新北市\t8\t1\tL\n",
      "松山\t臺北市\t8\t1\tL\n",
      "新店\t新北市\t8\t1\tL\n",
      "林園\t高雄市\t7\t1\tL\n",
      "古亭\t臺北市\t7\t1\tL\n",
      "前鎮\t高雄市\t7\t1\tL\n",
      "中壢\t桃園市\t7\t1\tL\n",
      "關山\t臺東縣\t6\t1\tL\n",
      "萬里\t新北市\t6\t1\tL\n",
      "平鎮\t桃園市\t6\t1\tL\n",
      "大同\t臺北市\t6\t1\tL\n",
      "永和\t新北市\t5\t1\tL\n",
      "彰化\t彰化縣\t5\t1\tL\n",
      "冬山\t宜蘭縣\t5\t1\tL\n",
      "三義\t苗栗縣\t5\t1\tL\n",
      "觀音\t桃園市\t4\t1\tL\n",
      "臺東\t臺東縣\t4\t1\tL\n",
      "板橋\t新北市\t4\t1\tL\n",
      "大園\t桃園市\t4\t1\tL\n",
      "萬華\t臺北市\t3\t1\tL\n",
      "湖口\t新竹縣\t3\t1\tL\n",
      "新莊\t新北市\t3\t1\tL\n",
      "恆春\t屏東縣\t3\t1\tL\n",
      "宜蘭\t宜蘭縣\t3\t1\tL\n",
      "菜寮\t新北市\t2\t1\tL\n",
      "基隆\t基隆市\t1\t1\tL\n",
      "花蓮\t花蓮縣\t0\t1\tL\n",
      "淡水\t新北市\t0\t1\tL\n",
      "中山\t臺北市\t0\t1\tL\n",
      "陽明\t臺北市\t-1\t0\tNO_VALUE\n",
      "楠梓\t高雄市\t-1\t0\tNO_VALUE\n",
      "桃園\t桃園市\t-1\t0\tNO_VALUE\n",
      "復興\t高雄市\t-1\t0\tNO_VALUE\n",
      "三重\t新北市\t-1\t0\tNO_VALUE\n"
     ]
    }
   ],
   "source": [
    "degreelist = [0, 12, 24, 36, 42, 48, 54, 59, 65, 71]\n",
    "leveldict = {1:'L', 2:'L', 3:'L', 4:'M', 5:'M', 6:'M', 7:'H', 8:'H', 9:'H', 10:'vH'}\n",
    "totlist = []\n",
    "for site in aqx:\n",
    "    if len(site['PM2.5']) <= 0:\n",
    "        totlist.append([-1, 0, 'NO_VALUE', site['SiteName'], site['County']])\n",
    "    else:\n",
    "        degree = 10\n",
    "        for i in range(len(degreelist)-1):\n",
    "            if degreelist[i] <= int(site['PM2.5']) < degreelist[i+1]:\n",
    "                degree = i+1\n",
    "        totlist.append([int(site['PM2.5']), degree, leveldict[degree], site['SiteName'], site['County']])\n",
    "for data in sorted(totlist, reverse=True):\n",
    "#     print data\n",
    "    print \"%s\\t%s\\t%s\\t%s\\t%s\"%(data[3], data[4], data[0], data[1], data[2])"
   ]
  },
  {
   "cell_type": "raw",
   "metadata": {
    "collapsed": false
   },
   "source": [
    "97 10 vH 埔里 南投縣\n",
    "77 10 vH 竹山 南投縣\n",
    "65 9 H 南投 南投縣\n",
    "62 8 H 大里 臺中市\n",
    "57 7 H 忠明 臺中市\n",
    "55 7 H 潮州 屏東縣\n",
    "55 7 H 嘉義 嘉義市\n",
    "52 6 M 左營 高雄市\n",
    "46 5 M 崙背 雲林縣\n",
    "45 5 M 金門 金門縣\n",
    "45 5 M 新營 臺南市\n",
    "43 5 M 西屯 臺中市\n",
    "42 5 M 復興 高雄市\n",
    "42 5 M 前金 高雄市\n",
    "40 4 M 豐原 臺中市\n",
    "40 4 M 彰化 彰化縣\n",
    "39 4 M 麥寮 雲林縣\n",
    "37 4 M 鳳山 高雄市\n",
    "37 4 M 二林 彰化縣\n",
    "36 4 M 臺南 臺南市\n",
    "36 4 M 楠梓 高雄市\n",
    "36 4 M 新港 嘉義縣\n",
    "36 4 M 安南 臺南市\n",
    "34 3 L 仁武 高雄市\n",
    "31 3 L 善化 臺南市\n",
    "31 3 L 冬山 宜蘭縣\n",
    "30 3 L 橋頭 高雄市\n",
    "30 3 L 朴子 嘉義縣\n",
    "30 3 L 宜蘭 宜蘭縣\n",
    "28 3 L 大寮 高雄市\n",
    "27 3 L 林園 高雄市\n",
    "26 3 L 馬祖 連江縣\n",
    "25 3 L 臺西 雲林縣\n",
    "25 3 L 線西 彰化縣\n",
    "23 2 L 馬公 澎湖縣\n",
    "23 2 L 觀音 桃園市\n",
    "21 2 L 龍潭 桃園市\n",
    "21 2 L 三義 苗栗縣\n",
    "19 2 L 花蓮 花蓮縣\n",
    "18 2 L 苗栗 苗栗縣\n",
    "18 2 L 汐止 新北市\n",
    "17 2 L 關山 臺東縣\n",
    "17 2 L 新竹 新竹市\n",
    "16 2 L 萬里 新北市\n",
    "16 2 L 臺東 臺東縣\n",
    "16 2 L 新莊 新北市\n",
    "15 2 L 沙鹿 臺中市\n",
    "14 2 L 桃園 桃園市\n",
    "14 2 L 板橋 新北市\n",
    "14 2 L 新店 新北市\n",
    "14 2 L 大同 臺北市\n",
    "13 2 L 頭份 苗栗縣\n",
    "13 2 L 萬華 臺北市\n",
    "13 2 L 大園 桃園市\n",
    "13 2 L 基隆 基隆市\n",
    "12 2 L 中壢 桃園市\n",
    "11 1 L 竹東 新竹縣\n",
    "11 1 L 湖口 新竹縣\n",
    "11 1 L 永和 新北市\n",
    "9 1 L 三重 新北市\n",
    "8 1 L 菜寮 新北市\n",
    "8 1 L 林口 新北市\n",
    "8 1 L 松山 臺北市\n",
    "7 1 L 士林 臺北市\n",
    "7 1 L 中山 臺北市\n",
    "5 1 L 淡水 新北市\n",
    "-1 -1 unknown 陽明 臺北市\n",
    "-1 -1 unknown 美濃 高雄市\n",
    "-1 -1 unknown 斗六 雲林縣\n",
    "-1 -1 unknown 恆春 屏東縣\n",
    "-1 -1 unknown 平鎮 桃園市\n",
    "-1 -1 unknown 屏東 屏東縣\n",
    "-1 -1 unknown 小港 高雄市\n",
    "-1 -1 unknown 土城 新北市\n",
    "-1 -1 unknown 古亭 臺北市\n",
    "-1 -1 unknown 前鎮 高雄市         "
   ]
  }
 ],
 "metadata": {
  "kernelspec": {
   "display_name": "Python 2",
   "language": "python",
   "name": "python2"
  },
  "language_info": {
   "codemirror_mode": {
    "name": "ipython",
    "version": 2
   },
   "file_extension": ".py",
   "mimetype": "text/x-python",
   "name": "python",
   "nbconvert_exporter": "python",
   "pygments_lexer": "ipython2",
   "version": "2.7.6"
  }
 },
 "nbformat": 4,
 "nbformat_minor": 0
}
