{
 "cells": [
  {
   "cell_type": "markdown",
   "metadata": {},
   "source": [
    "# Air Quality\n",
    "* Link: http://opendata.epa.gov.tw/ws/Data/AQX/?format=json\n",
    "* Field names: \n",
    "    * 測站名稱(SiteName)、縣市(County)、發布時間(PublishTime)\n",
    "    * 空氣污染指標(PSI)、指標污染物(MajorPollutant)、狀態(Status)、二氧化硫濃度(SO2)、一氧化碳濃度(CO)、臭氧濃度(O3)、懸浮微粒濃度(PM10)、細懸浮微粒濃度(PM2.5)、二氧化氮濃度(NO2)、風速(WindSpeed)、風向(WindDirec)、細懸浮微粒指標(FPMI)"
   ]
  },
  {
   "cell_type": "code",
   "execution_count": 6,
   "metadata": {
    "collapsed": false
   },
   "outputs": [
    {
     "name": "stdout",
     "output_type": "stream",
     "text": [
      "76\n",
      "39 麥寮\n",
      "17 關山\n",
      "23 馬公\n",
      "45 金門\n",
      "26 馬祖\n",
      "97 埔里\n",
      "42 復興\n",
      "11 永和\n",
      "77 竹山\n",
      "12 中壢\n",
      "9 三重\n",
      "31 冬山\n",
      "30 宜蘭\n",
      " 陽明\n",
      "19 花蓮\n",
      "16 臺東\n",
      " 恆春\n",
      "55 潮州\n",
      " 屏東\n",
      " 小港\n",
      " 前鎮\n",
      "42 前金\n",
      "52 左營\n",
      "36 楠梓\n",
      "27 林園\n",
      "28 大寮\n",
      "37 鳳山\n",
      "34 仁武\n",
      "30 橋頭\n",
      " 美濃\n",
      "36 臺南\n",
      "36 安南\n",
      "31 善化\n",
      "45 新營\n",
      "55 嘉義\n",
      "25 臺西\n",
      "30 朴子\n",
      "36 新港\n",
      "46 崙背\n",
      " 斗六\n",
      "65 南投\n",
      "37 二林\n",
      "25 線西\n",
      "40 彰化\n",
      "43 西屯\n",
      "57 忠明\n",
      "62 大里\n",
      "15 沙鹿\n",
      "40 豐原\n",
      "21 三義\n",
      "18 苗栗\n",
      "13 頭份\n",
      "17 新竹\n",
      "11 竹東\n",
      "11 湖口\n",
      "21 龍潭\n",
      " 平鎮\n",
      "13 大園\n",
      "14 桃園\n",
      "8 松山\n",
      " 古亭\n",
      "13 萬華\n",
      "7 中山\n",
      "7 士林\n",
      "5 淡水\n",
      "8 林口\n",
      "8 菜寮\n",
      "16 新莊\n",
      "14 板橋\n",
      " 土城\n",
      "14 新店\n",
      "16 萬里\n",
      "18 汐止\n",
      "13 基隆\n",
      "23 觀音\n",
      "14 大同\n"
     ]
    }
   ],
   "source": [
    "import urllib2\n",
    "import json\n",
    "response = urllib2.urlopen('http://opendata.epa.gov.tw/ws/Data/AQX/?format=json')\n",
    "aqx = json.load(response)\n",
    "print len(aqx)\n",
    "for site in aqx:\n",
    "    print site['PM2.5'], site['SiteName']"
   ]
  }
 ],
 "metadata": {
  "kernelspec": {
   "display_name": "Python 2",
   "language": "python",
   "name": "python2"
  },
  "language_info": {
   "codemirror_mode": {
    "name": "ipython",
    "version": 2
   },
   "file_extension": ".py",
   "mimetype": "text/x-python",
   "name": "python",
   "nbconvert_exporter": "python",
   "pygments_lexer": "ipython2",
   "version": "2.7.6"
  }
 },
 "nbformat": 4,
 "nbformat_minor": 0
}
