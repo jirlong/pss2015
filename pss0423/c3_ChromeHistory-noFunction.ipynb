{
 "cells": [
  {
   "cell_type": "markdown",
   "metadata": {},
   "source": [
    "# 0. What is visit history?\n",
    "* Ｇoal: 分析Chrome瀏覽器的使用歷程檔\n",
    "* What-is: 瀏覽器的log（即所謂的使用歷程檔）是什麼？上面有什麼資訊？請依照以以下連結的指示，開啟Chrome瀏覽器，找到右上角的工具選項，打開「記錄」。 http://www.googlechrometutorial.com/google-chrome-general-settings/Google-chrome-web-browser-history.html\n",
    "* Reference\n",
    "    * [How Google Chrome stores web history](http://lowmanio.co.uk/blog/entries/how-google-chrome-stores-web-history/)\n",
    "    * http://superuser.com/questions/627253/storing-browser-history-for-personal-analytics\n",
    "    * http://www.v2ex.com/t/60255\n",
    "\n",
    "#1. Copy chrome history out\n",
    "* 如何獲取Chrome History檔案？\n",
    "* 「access chrome history data」，之後應可找到下列網址 ",
    "http://stackoverflow.com/questions/2562092/how-to-access-google-chrome-browser-history-programmatically-on-local-machine\n",
    "解釋】從上面鏈結可獲知Chrome History以sqlite資料庫的檔案形態放在使用者個人電腦端（並非在雲端）\n",
    "\n",
    "## Windows\n",
    "* 如果是Windows的話是放在「C:\\Documents and Settings\\Local Settings\\Application Data\\Google\\Chrome\\User Data\\Default」檔名為History。\n",
    "* 該檔案可能是隱藏檔，所以你必須自「資料夾選項」中開啟可看見隱藏檔的選項（以下資訊參考http://www.chromium.org/user-experience/user-data-directory）。\n",
    "* __Win8__:  C:\\Documents and Settings\\Local Settings\\Application Data\\Google\\Chrome\\User Data\\Default\n",
    "* __Win 7__: C:\\Users\\[USERNAME]\\AppData\\Local\\Google\\Chrome\\User Data\\Default\n",
    "* __WinXP__: C:\\Documents and Settings\\[USERNAME]\\Local Settings\\Application Data\\Google\\Chrome\\User Data\\Default\n",
    "\n",
    "##  Mac\n",
    "* 若使用Mac電腦的話，History檔可能會放置在以下兩個位址：\n",
    "    * /Library（資源庫）/Application Support/Google/Chrome/Default/History\n",
    "    * /Users/[Your name]/Library（資源庫）/Application Support/Google/Chrome/Default/History\n",
    "* Mac的History檔為隱藏檔，需要用以下的方法取消隱藏\n",
    "    * 如果該檔案被隱藏無法搜尋的話，請在spotlight搜尋terminor，會開啟如下視窗（方法來源：view hidden folders on your mac using terminal０）\n",
    "        * 輸入defaults write com.apple.finder AppleShowAllFiles TRUE \n",
    "        * 輸入killall Finder即可找到該資料夾\n",
    "        * 之後請再輸入defaults write com.apple.finder AppleShowAllFiles FALSE \n",
    "        * 再輸入killall Finder即可恢復原狀。\n",
    "    * <font color = red>或者用這方法：打開Finder後，按住Option，點選上方「前往」中的「前往資料夾」，然後直接貼上上述兩個網址之一，注意要把（資源庫）拿掉，並且把你的使用者名稱貼上。例如：rawdata/Users/jirlong/Library/Application Support/Google/Chrome/Default/History</font>"
   ]
  },
  {
   "cell_type": "markdown",
   "metadata": {},
   "source": [
    "#2. Browse the History file\n",
    "* Chrome history是sqlite檔而無法被一般的程式（例如NotePad）開啟。 那麼，何謂sqlite檔案？他和一般資料庫檔案（例如.mdb）有何不同？\n",
    "* 無論是Firefox或Chrome history均以sqlite的資料庫格式儲存成為一個檔案，所以現在需要用一個sqlite browser來開啟所下載的history檔。\n",
    "* 請上網搜尋\"sqlite reader mac\"或\"sqlite reader windows\"（Mac或Windows視你所用的系統而定，關鍵字reader可改為browser），下載並安裝。http://sourceforge.net/projects/sqlitebrowser/\n",
    "* 下載該工具並且打開你所下載的History檔案。觀查History的內容，並告訴我裡面記錄了哪些資料，又以何種形式來記錄？\n",
    "\n",
    "##2.1 Brief introduction to chrome history\n",
    "* 安裝完畢後用其打開你所下載的History檔案，應可見到如下的界面。共分為三個主要部分，分別為：\n",
    "    * Database Structure：用以觀看整個資料庫的綱要或欄位\n",
    "    * Browse Data：用以瀏覽資料庫內存的資料<--我們最主要要看這個資料。\n",
    "    * Execute SQL：允許你用這個界面操作SQL指令以查詢\n",
    "    * <img src=\"Figures/sqlbrowser.png\" style=\"width: 50%; height: 50%\"/>\n",
    "* 點選Browse Data後應可見到以下界面，開啟Table的下拉式選單，一共可發現以下資料庫的資料表：\n",
    "    * meta\n",
    "    * downloads：下載的檔案\n",
    "    * download_url_chains\n",
    "    * urls：曾經拜訪過的urls的ID與網址對照表\n",
    "    * visits：主要的瀏覽歷程資料表，其中需要以ID查詢瀏覽時所拜訪的urls（查詢前項urls資料表）\n",
    "    * visit_source\n",
    "    * keyword_search_terms：查詢關鍵字\n",
    "    * segments\n",
    "    * segment_usage\n",
    "* 請開啟urls資料表並開啟「檔案>export」的選項將該資料表另存為csv（comma-separated value）檔。再開啟visits資料表，並用上述的方法另存為csv檔。只要儲存為csv檔後，不僅易於程式處理，而且匯入Excel也會十分方便。\n",
    "\n",
    "##2.2 Tables of chrome history\n",
    "* History Table – urls. urls資料表主要記錄了你所曾經拜訪過的所有的網頁網址，每一筆記錄就是一筆唯一的網址，如果你曾經拜訪過某網址兩次，他也只會有一筆記錄，它記錄了以下欄位：\n",
    "    * id：該網址的id，用以索引\n",
    "    * url：該網址本身\n",
    "    * title：該網頁的title（可能會從缺）\n",
    "    * visit_count：使用者在這段時間中一共拜訪該網頁幾次\n",
    "    * typed_count\n",
    "    * last_visit_time：使用者最後一次拜訪該網頁的時間（你在看網頁的時候，他有時候會告訴你「您最近一次拜訪時間為...」就是看這個欄位）\n",
    "    * hidden：是否為隱藏的記錄\n",
    "    * favicon_id\n",
    "\n",
    "## 2.3 SQL queries to retrieve data\n",
    "* 通常類似的SQLite Database Browser都會提供輸入資料庫查詢命令的功能，點選Execute SQL後即可看到輸入SQL查詢命令的欄位。例如我們希望查詢urls這個表中，究竟有哪些網址，並且按照該網址的拜訪次數來排序的話，可以輸入「select visit_count, url from urls order by visit_count」測試之。\n",
    "    * 查詢一：我希望從urls這個表格中把visit_count和url這兩個欄位的資料給選擇出來，並且按照url這個欄位進行排序。\n",
    "            select visit_count, url from urls order by url \n",
    "    * 查詢二：我希望從visits這個表格中把所有的visit給找出來，並且找出url, visit_time(拜訪時間), from_visit(從哪個URL跳過來), transition(怎麼跳過來), visit_duration(拜訪多久)。且所有的結果照著id來排序。\n",
    "            select url,visit_time, from_visit, transition, visit_duration from visits order by id;\n",
    "    * 查詢三：我希望整合visits和urls這兩個表的資料，依據是visits表的url等於urls表的id。同時找出visits表的拜訪時間、拜訪時間長，以及這個urls表的url（因為visits表的url存的是一個編碼）。\n",
    "            SELECT visits.id, visits.visit_time, visits.visit_duration, urls.url FROM visits INNER JOIN urls ON visits.url=urls.id;\n",
    "* 如果我今天想要查詢資料表visits中的拜訪時間、拜訪的持續時間、拜訪的網址那要怎麼做？此時你若打開資料表visits會發現拜訪網址欄位為url，其內容是一個編號，這個id必須參考對照資料表urls的id和url欄位。因此必須要輸入以下指令：\n",
    "        SELECT visits.id, visits.visit_time, visits.visit_duration, urls.url\n",
    "        FROM visits\n",
    "        INNER JOIN urls\n",
    "        ON visits.url=urls.id;\n",
    "\n"
   ]
  },
  {
   "cell_type": "markdown",
   "metadata": {},
   "source": [
    "#3. Read Chrome history by python\n",
    "##3.1  import sqlite3\n",
    "* 為了讀SQLite檔案，必須import sqlite3函式庫，該函式庫為Python安裝時所內建的函式庫，只需import不用另外安裝。\n",
    "* 把下載下來的History檔案放在同資料中如下圖即可讀取。之後參見https://docs.python.org/2/library/sqlite3.html，\n",
    "* 該文件的內容說明了sqlite3這個函式庫可以讓使用者建立table、寫入資料並讀取資料庫。"
   ]
  },
  {
   "cell_type": "code",
   "execution_count": 2,
   "metadata": {
    "collapsed": true
   },
   "outputs": [],
   "source": [
    "import sqlite3\n",
    "# import urlparse\n",
    "# import datetime"
   ]
  },
  {
   "cell_type": "markdown",
   "metadata": {},
   "source": [
    "##3.2 Connect to history sqlite file"
   ]
  },
  {
   "cell_type": "code",
   "execution_count": 3,
   "metadata": {
    "collapsed": false
   },
   "outputs": [],
   "source": [
    "# conn=sqlite3.connect(\"History\")\n",
    "conn=sqlite3.connect(\"../../log_ChromeHistory/History\")\n",
    "cu = conn.cursor()"
   ]
  },
  {
   "cell_type": "markdown",
   "metadata": {},
   "source": [
    "##3.3 執行sql查詢（Send a sql query to cu）\n",
    "* w3school SQL Introduction http://www.w3schools.com/sql/sql_intro.asp\n",
    "* An example: 從（from）urls這個表中，依序選出（select）visit_count與url這兩個欄位，並且照url排序（order by）\n",
    "        select visit_count, url from urls order by url;"
   ]
  },
  {
   "cell_type": "raw",
   "metadata": {
    "collapsed": false
   },
   "source": [
    "import json\n",
    "sql = \"select visit_count, url from urls order by visit_count;\"\n",
    "cu.execute(sql)\n",
    "res = cu.fetchall()\n",
    "print \"[COMMAND(num_of_res=%d)]:%s\"%(len(res), sql)\n",
    "\n",
    "\n",
    "# print res[:10]\n",
    "fout = open(\"data.json\", 'w')\n",
    "json.dump(res, fout)\n",
    "fout.close()\n",
    "fin = open('data.json', 'r')\n",
    "res = json.load(fin)\n",
    "print res\n",
    "\n",
    "for r in sorted(res, reverse=True)[:10]:\n",
    "    print \"%s\\t%s\"%(r[0], r[1])"
   ]
  },
  {
   "cell_type": "markdown",
   "metadata": {},
   "source": [
    "## 3.4 網址的處理 Combine urls according to their hosts\n",
    "* 注意看下面query後的結果，顯然如果是mail.google.com開頭的網址，應該都算進mail.google.com就好，不要有那麼多個不一樣的網址。\n",
    "        874\thttp://mail.google.com/\n",
    "        654\thttps://www.facebook.com/\n",
    "        500\thttp://www.facebook.com/\n",
    "        429\thttps://mail.google.com/\n",
    "        407\thttps://mail.google.com/mail/\n",
    "        403\thttps://mail.google.com/mail/u/0/\n",
    "        292\thttps://mail.google.com/mail/u/0/#label/%5Bntnulib%5D\n",
    "        270\thttp://comic.sfacg.com/\n",
    "        255\thttp://www.yahoo.com.tw/\n",
    "        219\thttp://tw.yahoo.com/\n",
    "* 所以我現在希望能夠把前面開頭是mail.google.com的都算成是拜訪同一個網址，並且累計總共拜訪幾次。\n",
    "* 相當於要建一個dictionary 把網址前段mapping到出現次數的加總。\n",
    "* 而現在的問題是要怎麼把網址斷開？\n",
    "\n",
    "### 3.4.1 string operations\n",
    "* 各位是否還記得我們曾經看過一個程式如下，他用sentences.split()把所有的字通通斷開了。\n",
    "    1. 把所有的奇怪的字元刪除，包含\n",
    "        >!\"#$%&'()*+,-./:;<=>?@[\\]^_`{|}~\n",
    "            sentences = sentences.translate(None, string.punctuation)\n",
    "    2. 把所有的字轉小寫\n",
    "            sentences = sentences.lower()\n",
    "    3. 把要輸入的字串依照空白斷開\n",
    "            wordlist = sentences.split()\n",
    "    4. 用for-each讀取wordlist中的每一個word，看他出現幾次。"
   ]
  },
  {
   "cell_type": "raw",
   "metadata": {
    "collapsed": false
   },
   "source": [
    "import string\n",
    "sentences = 'All men have stars, but they are not the same things for different people. For some, who are travelers, the stars are guides. For others they are no more than little lights in the sky. For others, who are scholars, they are problems... But all these stars are silent. You-You alone will have stars as no one else has them... In one of the stars I shall be living. In one of them I shall be laughing. And so it will be as if all the stars will be laughing when you look at the sky at night..You, only you, will have stars that can laugh! And when your sorrow is comforted (time soothes all sorrows) you will be content that you have known me... You will always be my friend. You will want to laugh with me. And you will sometimes open your window, so, for that pleasure... It will be as if, in place of the stars, I had given you a great number of little bells that knew how to laugh'\n",
    "sentences = sentences.translate(None, string.punctuation)\n",
    "sentences = sentences.lower()\n",
    "# print sentences\n",
    "words = sentences.split()\n",
    "print words\n",
    "\n",
    "worddict = {}\n",
    "for word in words:\n",
    "    if word not in worddict:\n",
    "        worddict[word] = 0\n",
    "#     worddict.setdefault(word, 0)\n",
    "    worddict[word] += 1\n",
    "print worddict.items()\n",
    "## Introduce the split() function"
   ]
  },
  {
   "cell_type": "markdown",
   "metadata": {},
   "source": [
    "### 3.4.2 split the url by \"/\""
   ]
  },
  {
   "cell_type": "raw",
   "metadata": {
    "collapsed": false
   },
   "source": [
    "urlstr = 'https://mail.google.com/mail/u/0/#label/%5Bntnulib%5D'\n",
    "urlstr = 'http://www.yahoo.com.tw/'\n",
    "urlseq = urlstr.split('/')\n",
    "print len(urlseq)\n",
    "print urlseq[2]\n",
    "# print urlseq[2]"
   ]
  },
  {
   "cell_type": "raw",
   "metadata": {
    "collapsed": false
   },
   "source": [
    "urldict = {}\n",
    "## data[0]: frequency\n",
    "## data[1]: original url\n",
    "for data in res:\n",
    "#     if \"mailto\" not in data[1]:\n",
    "    segments = data[1].split('/')\n",
    "#     if len(segments) > 2:\n",
    "    try:\n",
    "        urldict.setdefault(segments[2], 0)\n",
    "        urldict[segments[2]] += data[0]\n",
    "    except:\n",
    "        print \"ERROR: %s\"%data[1]\n",
    "\n",
    "resultlist = []\n",
    "for url, freq in urldict.items():\n",
    "    resultlist.append([freq, url])\n",
    "\n",
    "for f, u in sorted(resultlist, reverse=True)[:20]:\n",
    "    print f, '\\t', u\n",
    "    \n",
    "#     print \"%s\\t%s\"%(freq, url)\n",
    "    \n",
    "#     print data[0], segments[2]"
   ]
  },
  {
   "cell_type": "markdown",
   "metadata": {},
   "source": [
    "### REVIEW\n",
    "* __string__ split\n",
    "        str1 = \"jirlong hahaha\"\n",
    "        segs = str1.split()\n",
    "* try and except\n",
    "        try:\n",
    "            #tried block\n",
    "        except:\n",
    "            # how will you handle the exception? or pass it!!\n",
    "* function"
   ]
  },
  {
   "cell_type": "markdown",
   "metadata": {},
   "source": [
    "###3.4.3 combine urls according to the 1st segment of url\n",
    "* 下面我們將把/當成切割字串的工具，好獲得網址。\n",
    "* 但是你將會遇到一個問題，就是這些資料裡面有兩個資料並非你預期中的資料，這兩個資料是因為使用者從網頁上按了「寄送信件」的按鈕後，系統自動把網頁導引到寄送信件的頁面所產生。\n",
    "        mailto:jirlong@ntnu.edu.tw?bcc=96501054@nccu.edu.tw\n",
    "        mailto:jackho@ntnu.edu.tw\n",
    "* 總之會出錯，你有三種方法處理他\n",
    "    1. 知道有這種錯誤，所以排除他！（有mailto在item[0]的通通拿掉），但問題是你怎麼知道有他？\n",
    "    2. 偵測如果split()後的結果，長度大於2，代表至少有三個，那我才處理。\n",
    "    3. 用try和except。\n",
    "* EXPECTED RESULTS\n",
    "        ERROR ITEM:mailto:jackho@ntnu.edu.tw\n",
    "        ERROR ITEM:mailto:jirlong@ntnu.edu.tw?bcc=96501054@nccu.edu.tw\n",
    "        [4674, u'mail.google.com']\n",
    "        [3166, u'comic.sfacg.com']\n",
    "        [3076, u'www.google.com']\n",
    "        [1731, u'www.facebook.com']\n",
    "        [1295, u'www.youtube.com']\n",
    "        [907, u'moodle.ntnu.edu.tw']\n",
    "        [883, u'www.google.com.tw']\n",
    "        [764, u'tw.news.yahoo.com']\n",
    "        [570, u'coldpic.sfacg.com']\n",
    "        [551, u'docs.google.com']"
   ]
  },
  {
   "cell_type": "code",
   "execution_count": 16,
   "metadata": {
    "collapsed": false
   },
   "outputs": [
    {
     "ename": "IndexError",
     "evalue": "list index out of range",
     "output_type": "error",
     "traceback": [
      "\u001b[0;31m---------------------------------------------------------------------------\u001b[0m",
      "\u001b[0;31mIndexError\u001b[0m                                Traceback (most recent call last)",
      "\u001b[0;32m<ipython-input-16-634a6d69d8d1>\u001b[0m in \u001b[0;36m<module>\u001b[0;34m()\u001b[0m\n\u001b[1;32m      3\u001b[0m \u001b[0;32mfor\u001b[0m \u001b[0mitem\u001b[0m \u001b[0;32min\u001b[0m \u001b[0mres\u001b[0m\u001b[0;34m:\u001b[0m\u001b[0;34m\u001b[0m\u001b[0m\n\u001b[1;32m      4\u001b[0m     \u001b[0murlseg\u001b[0m \u001b[0;34m=\u001b[0m \u001b[0mitem\u001b[0m\u001b[0;34m[\u001b[0m\u001b[0;36m1\u001b[0m\u001b[0;34m]\u001b[0m\u001b[0;34m.\u001b[0m\u001b[0msplit\u001b[0m\u001b[0;34m(\u001b[0m\u001b[0;34m'/'\u001b[0m\u001b[0;34m)\u001b[0m\u001b[0;34m\u001b[0m\u001b[0m\n\u001b[0;32m----> 5\u001b[0;31m     \u001b[0murl_dict\u001b[0m\u001b[0;34m.\u001b[0m\u001b[0msetdefault\u001b[0m\u001b[0;34m(\u001b[0m\u001b[0murlseg\u001b[0m\u001b[0;34m[\u001b[0m\u001b[0;36m2\u001b[0m\u001b[0;34m]\u001b[0m\u001b[0;34m,\u001b[0m \u001b[0;36m0\u001b[0m\u001b[0;34m)\u001b[0m\u001b[0;34m\u001b[0m\u001b[0m\n\u001b[0m\u001b[1;32m      6\u001b[0m     \u001b[0murl_dict\u001b[0m\u001b[0;34m[\u001b[0m\u001b[0murlseg\u001b[0m\u001b[0;34m[\u001b[0m\u001b[0;36m2\u001b[0m\u001b[0;34m]\u001b[0m\u001b[0;34m]\u001b[0m \u001b[0;34m+=\u001b[0m \u001b[0mitem\u001b[0m\u001b[0;34m[\u001b[0m\u001b[0;36m0\u001b[0m\u001b[0;34m]\u001b[0m\u001b[0;34m\u001b[0m\u001b[0m\n\u001b[1;32m      7\u001b[0m \u001b[0;31m## But you will encounter an unexpected data entry such as \"mailto:jirlong@ntnu.edu.tw?bcc=96501054@nccu.edu.tw\"\u001b[0m\u001b[0;34m\u001b[0m\u001b[0;34m\u001b[0m\u001b[0m\n",
      "\u001b[0;31mIndexError\u001b[0m: list index out of range"
     ]
    }
   ],
   "source": [
    "## combine urls according to the 1st segment of url\n",
    "url_dict = {}\n",
    "for item in res:\n",
    "    urlseg = item[1].split('/')\n",
    "    url_dict.setdefault(urlseg[2], 0)\n",
    "    url_dict[urlseg[2]] += item[0]\n",
    "## But you will encounter an unexpected data entry such as \"mailto:jirlong@ntnu.edu.tw?bcc=96501054@nccu.edu.tw\"\n",
    "\n",
    "## swap the column for next step sorting (STORED TO A NEW res_list)\n",
    "res_list = []\n",
    "\n",
    "## print the sorted result"
   ]
  },
  {
   "cell_type": "markdown",
   "metadata": {},
   "source": [
    "##3.5 Convert the block of database query to a function\n",
    "* 因為下面這兩行常常會用到，不如把它轉成一個「功能性的區塊」，就是function。\n",
    "        cu.execute(sql)\n",
    "        res=cu.fetchall()\n",
    "* y = func(a, b) = sqrt(axa + bxb)\n",
    "    * y稱為傳回值 return value\n",
    "    * a, b為傳入函式的值。\n",
    "    * func(a, b) = sqrt(axa + bxb) 稱為func函式的定義。\n",
    "* 函式的定義大致如下\n",
    "        ## Define a function\n",
    "        def function_name(invalue1, invalue2, invalue3):\n",
    "            result1, result2 = 0, 0\n",
    "            ## Add some processing here\n",
    "\n",
    "            return result1, result2\n",
    "* 目前希望的是能夠用下面的方式進行查詢，程式碼會變得比較簡單。\n",
    "        res = query(\"select url,visit_time, from_visit, transition, visit_duration from visits order by id ;\") \n",
    "        res = query(\"SELECT visits.id, visits.visit_time, visits.visit_duration, urls.url FROM visits INNER JOIN urls ON visits.url=urls.id;\")\n",
    "* 而目前有的送出查詢的程式碼如下\n",
    "        cu.execute(sql)\n",
    "        res=cu.fetchall()\n",
    "        print \"[COMMAND(num_of_res=%d)]:%s\"%(len(res), sql)      \n"
   ]
  },
  {
   "cell_type": "code",
   "execution_count": 4,
   "metadata": {
    "collapsed": false
   },
   "outputs": [],
   "source": [
    "## TODO: Define a query function here\n",
    "def query(sql):\n",
    "    cu.execute(sql)\n",
    "    result=cu.fetchall()\n",
    "    print \"[COMMAND(num_of_res=%d)]:%s\"%(len(result), sql)\n",
    "    return result"
   ]
  },
  {
   "cell_type": "code",
   "execution_count": 5,
   "metadata": {
    "collapsed": false
   },
   "outputs": [
    {
     "name": "stdout",
     "output_type": "stream",
     "text": [
      "[COMMAND(num_of_res=14659)]:select visit_count, url from urls order by visit_count;\n",
      "[(0, u'http://01-labor.blogspot.com/2011/07/django.html')]\n"
     ]
    }
   ],
   "source": [
    "## Call a query function\n",
    "res = query(\"select visit_count, url from urls order by visit_count;\")\n",
    "print res[:1]"
   ]
  },
  {
   "cell_type": "raw",
   "metadata": {
    "collapsed": false
   },
   "source": [
    "import numpy\n",
    "def mydistance(x1, x2, y1, y2):\n",
    "    return numpy.sqrt((x1-x2)**2 + (y1-y2)**2)\n",
    "print mydistance(1.3, 5.3, 2.6, 5.6)\n",
    "alist = sorted(inlist)"
   ]
  },
  {
   "cell_type": "markdown",
   "metadata": {},
   "source": [
    "##3.6 Query the visits table by the following sql\n",
    "* 用sql browser觀察visits這個表，發現表中的url欄位儲存的不是真正的網址，而只有儲存網址的id。\n",
    "* 而這個id，要對應到urls這個資料表的id欄位，才可以查出他所對應到的網址是什麼（urls中的url欄位）。所以要寫一道sql的查詢指令，\"INNER JOIN\"兩個表（你在這邊不需要知道INNER JOIN是什麼，只要你知道下面這道指令的意思就好了）。\n",
    "        SELECT urls.url, visits.visit_time, visits.visit_duration, visits.id, visits.from_visit, visits.transition, visits.segment_id, urls.id FROM visits INNER JOIN urls ON visits.url=urls.id;\n",
    "* 如果你想更瞭解SQL指令，可以參閱w3school上的說明。w3school SQL Introduction http://www.w3schools.com/sql/sql_intro.asp。"
   ]
  },
  {
   "cell_type": "code",
   "execution_count": 6,
   "metadata": {
    "collapsed": false
   },
   "outputs": [
    {
     "name": "stdout",
     "output_type": "stream",
     "text": [
      "[COMMAND(num_of_res=26346)]:SELECT urls.url, visits.visit_time, visits.visit_duration FROM visits INNER JOIN urls ON visits.url=urls.id;\n",
      "13024375992405427 4763264 www.google.com.tw\n",
      "13024375995839026 0 mail.google.com\n",
      "13024375995839026 0 mail.google.com\n",
      "13024375996831155 0 mail.google.com\n",
      "13024375996831155 0 accounts.google.com\n",
      "13024376003875352 118716769 accounts.google.com\n",
      "13024376004883494 0 mail.google.com\n",
      "13024376004883494 0 mail.google.com\n",
      "13024376004883494 0 mail.google.com\n",
      "13024376006908314 0 mail.google.com\n"
     ]
    }
   ],
   "source": [
    "## TODO: Modify the following code by use of query function\n",
    "# cu.execute(\"SELECT urls.url, visits.visit_time, visits.visit_duration FROM visits INNER JOIN urls ON visits.url=urls.id;\")\n",
    "# res=cu.fetchall()\n",
    "res = query(\"SELECT urls.url, visits.visit_time, visits.visit_duration FROM visits INNER JOIN urls ON visits.url=urls.id;\")\n",
    "for url, t, d in res[:10]:\n",
    "    segments = url.split('/')\n",
    "    print t, d, segments[2]\n"
   ]
  },
  {
   "cell_type": "markdown",
   "metadata": {},
   "source": [
    "##3.7 Convert timestamp to readable string\n",
    "* 針對這樣的結果，看似有一些手續要處理，第一個，取出網址的前段，第二個，轉換時間成為python讀得懂的格式，不然根本看不懂。\n",
    "* 這個看似整數的時間是網路處理時間的方法，為了讓python讀得懂這串數字是什麼，可以使用人家已經寫好的時間函式，把整數timestamp轉換為python datetime的方法可查詢\"convert timestamp to datetime python\"\n",
    "    * 獲得以下結果http://stackoverflow.com/questions/9744775/how-to-convert-integer-timestamp-to-python-datetime\n",
    "            >>> import datetime\n",
    "            >>> your_timestamp = 1331856000000\n",
    "            >>> date = datetime.datetime.fromtimestamp(your_timestamp / 1e3)\n",
    "* 因為該整數是以microsecond來累計，所以要除以1000，標準的做法是除以1e3。\n",
    "* duration也要轉，"
   ]
  },
  {
   "cell_type": "markdown",
   "metadata": {},
   "source": [
    "## Report as HTML table\n",
    "* HTML TABLES http://www.w3schools.com/html/html_tables.asp\n",
    "* STEPS\n",
    "    1. open an html file and write data into html tables\n",
    "    2. using nbviewer [magic display to preview the html results](http://nbviewer.ipython.org/github/ipython/ipython/blob/1.x/examples/notebooks/Part%205%20-%20Rich%20Display%20System.ipynb)\n",
    "            from IPython.display import HTML\n",
    "            HTML('<iframe src=http://en.mobile.wikipedia.org/?useformat=mobile width=700 height=350></iframe>')\n",
    "    3. Apply [CSS style](http://www.w3schools.com/html/tryit.asp?filename=tryhtml_table_headings_left)\n",
    "            <head>\n",
    "            <style>\n",
    "            table, th, td {\n",
    "                border: 1px solid black;\n",
    "                border-collapse: collapse;\n",
    "            }\n",
    "            th, td {\n",
    "                padding: 5px;\n",
    "            }\n",
    "            th {\n",
    "                text-align: left;\n",
    "            }\n",
    "            </style>\n",
    "</head>\n",
    "    4. Apply [mouse hover (CSS Pseudo class) to change the background color of cell](http://stackoverflow.com/questions/19794433/change-font-color-and-background-in-html-on-mouseover)\n",
    "            td:hover\n",
    "            {\n",
    "               background-color:white\n",
    "            }"
   ]
  },
  {
   "cell_type": "code",
   "execution_count": 4,
   "metadata": {
    "collapsed": false
   },
   "outputs": [
    {
     "ename": "NameError",
     "evalue": "name 'res' is not defined",
     "output_type": "error",
     "traceback": [
      "\u001b[0;31m---------------------------------------------------------------------------\u001b[0m",
      "\u001b[0;31mNameError\u001b[0m                                 Traceback (most recent call last)",
      "\u001b[0;32m<ipython-input-4-936a00664edd>\u001b[0m in \u001b[0;36m<module>\u001b[0;34m()\u001b[0m\n\u001b[1;32m      7\u001b[0m fhtml.write(''' <head><link rel=stylesheet type=\"text/css\" href=\"table.css\"></head>\n\u001b[1;32m      8\u001b[0m  <body><table>''')\n\u001b[0;32m----> 9\u001b[0;31m \u001b[0;32mfor\u001b[0m \u001b[0murl\u001b[0m\u001b[0;34m,\u001b[0m \u001b[0mt\u001b[0m\u001b[0;34m,\u001b[0m \u001b[0md\u001b[0m \u001b[0;32min\u001b[0m \u001b[0mres\u001b[0m\u001b[0;34m[\u001b[0m\u001b[0;34m:\u001b[0m\u001b[0;36m20\u001b[0m\u001b[0;34m]\u001b[0m\u001b[0;34m:\u001b[0m\u001b[0;34m\u001b[0m\u001b[0m\n\u001b[0m\u001b[1;32m     10\u001b[0m     \u001b[0mfhtml\u001b[0m\u001b[0;34m.\u001b[0m\u001b[0mwrite\u001b[0m\u001b[0;34m(\u001b[0m\u001b[0;34m\"<tr><br />\"\u001b[0m\u001b[0;34m)\u001b[0m\u001b[0;34m\u001b[0m\u001b[0m\n\u001b[1;32m     11\u001b[0m     \u001b[0murlhost\u001b[0m \u001b[0;34m=\u001b[0m \u001b[0murlparse\u001b[0m\u001b[0;34m.\u001b[0m\u001b[0murlparse\u001b[0m\u001b[0;34m(\u001b[0m\u001b[0murl\u001b[0m\u001b[0;34m)\u001b[0m\u001b[0;34m.\u001b[0m\u001b[0mnetloc\u001b[0m \u001b[0;31m# retrieve the first segment of url\u001b[0m\u001b[0;34m\u001b[0m\u001b[0m\n",
      "\u001b[0;31mNameError\u001b[0m: name 'res' is not defined"
     ]
    }
   ],
   "source": [
    "import urlparse\n",
    "import datetime\n",
    "from IPython.display import HTML\n",
    "\n",
    "epoch_start = datetime.datetime(1601,1,1) + datetime.timedelta(hours = 8)\n",
    "fhtml = open(\"table.html\", 'w')\n",
    "fhtml.write(''' <head><link rel=stylesheet type=\"text/css\" href=\"table.css\"></head>\n",
    " <body><table>''')\n",
    "for url, t, d in res[:20]:\n",
    "    fhtml.write(\"<tr><br />\")\n",
    "    urlhost = urlparse.urlparse(url).netloc # retrieve the first segment of url\n",
    "    dt = datetime.timedelta(microseconds = t) ## timestamp\n",
    "    duration = datetime.timedelta(microseconds = d) ## duration\n",
    "    fhtml.write(\"<td>%s</td><br />\"%(epoch_start + dt))\n",
    "    fhtml.write(\"<td>%s</td><br />\"%(duration))\n",
    "    fhtml.write(\"<td>%s</td><br />\"%(urlhost))\n",
    "    fhtml.write(\"</tr><br />\")\n",
    "fhtml.write(\"</table></body>\")\n",
    "fhtml.close()\n",
    "HTML('<iframe src=table.html width=1024 height=568></iframe>')"
   ]
  },
  {
   "cell_type": "markdown",
   "metadata": {},
   "source": [
    "##3.8 getTime() convert timestamp to python datatime\n",
    "* EXPECTED OUTPUT\n",
    "        2013-09-23 10:13:12.405427 0:00:04.763264 https://www.google.com.tw/search?q=ma&oq=ma&aqs=chrome..69i57j69i65j0j5j0.361j0&sourceid=chrome&ie=UTF-8\n",
    "        2013-09-23 10:13:15.839026 0:00:00 http://mail.google.com/\n",
    "        2013-09-23 10:13:15.839026 0:00:00 https://mail.google.com/\n",
    "        2013-09-23 10:13:16.831155 0:00:00 https://mail.google.com/mail/\n",
    "        2013-09-23 10:13:16.831155 0:00:00 https://accounts.google.com/ServiceLogin?service=mail&passive=true&rm=false&continue=https://mail.google.com/mail/&ss=1&scc=1&ltmpl=default&ltmplcache=2&emr=1"
   ]
  },
  {
   "cell_type": "code",
   "execution_count": 27,
   "metadata": {
    "collapsed": true
   },
   "outputs": [],
   "source": [
    "## Create a getTime() Convert the timestamp and duration\n",
    "# getTime(t, 'time') --> convert to timestamp\n",
    "# getTime(t, 'duration') --> convert to duration\n",
    "# epoch_start = datetime.datetime(1601,1,1) + datetime.timedelta(hours = 8)\n",
    "# dt = datetime.timedelta(microseconds = t)\n",
    "# timestamp = epoch_start + dt\n",
    "# duration = dt\n",
    "# urlhost = urlparse.urlparse(url).netloc"
   ]
  },
  {
   "cell_type": "markdown",
   "metadata": {},
   "source": [
    "##3.9 parsed_res = parsed_res(res)\n",
    "* 原本每一筆資料為[str(url), int(timestamp), int(duration)]\n",
    "        \"SELECT urls.url, visits.visit_time, visits.visit_duration FROM visits INNER JOIN urls ON visits.url=urls.id;\"\n",
    "* 我現在希望把它儲存為[str(urlhost), int(start_time), int(end_time), int(duration)]變成四個值。"
   ]
  },
  {
   "cell_type": "code",
   "execution_count": 16,
   "metadata": {
    "collapsed": false
   },
   "outputs": [],
   "source": [
    "# function, original res to parsed res\n",
    "# parsed_res = []\n",
    "# for item in res:\n",
    "#     urlhost = urlparse.urlparse(item[0]).netloc\n",
    "#     parsed_res.append([urlhost, getTime(item[1]), getTime(item[2], \"duration\")])\n"
   ]
  },
  {
   "cell_type": "code",
   "execution_count": 85,
   "metadata": {
    "collapsed": false
   },
   "outputs": [
    {
     "name": "stdout",
     "output_type": "stream",
     "text": [
      "2013-09-23 10:13:12\t4\twww.google.com.tw\n",
      "2013-09-23 10:13:15\t0\tmail.google.com\n",
      "2013-09-23 10:13:15\t0\tmail.google.com\n",
      "2013-09-23 10:13:16\t0\tmail.google.com\n",
      "2013-09-23 10:13:16\t0\taccounts.google.com\n",
      "2013-09-23 10:13:23\t118\taccounts.google.com\n",
      "2013-09-23 10:13:24\t0\tmail.google.com\n",
      "2013-09-23 10:13:24\t0\tmail.google.com\n",
      "2013-09-23 10:13:24\t0\tmail.google.com\n",
      "2013-09-23 10:13:26\t0\tmail.google.com\n",
      "2013-09-23 10:13:31\t0\tmail.google.com\n",
      "2013-09-23 10:13:34\t0\tmail.google.com\n",
      "2013-09-23 10:13:42\t0\tmail.google.com\n",
      "2013-09-23 10:13:43\t0\ttalkgadget.google.com\n",
      "2013-09-23 10:13:43\t0\ttalkgadget.google.com\n",
      "2013-09-23 10:13:44\t0\tmail.google.com\n",
      "2013-09-23 10:13:54\t0\tmail.google.com\n",
      "2013-09-23 10:14:14\t0\ttalkgadget.google.com\n",
      "2013-09-23 10:14:14\t0\ttalkgadget.google.com\n",
      "2013-09-23 10:14:26\t0\ttalkgadget.google.com\n",
      "2013-09-23 10:14:26\t0\ttalkgadget.google.com\n",
      "2013-09-23 10:14:37\t0\ttalkgadget.google.com\n",
      "2013-09-23 10:14:37\t0\ttalkgadget.google.com\n",
      "2013-09-23 10:15:07\t0\ttalkgadget.google.com\n",
      "2013-09-23 10:15:07\t0\ttalkgadget.google.com\n",
      "2013-09-23 10:15:22\t0\tmail.google.com\n",
      "2013-09-23 10:15:39\t0\tmail.google.com\n",
      "2013-09-23 10:15:48\t0\tmail.google.com\n",
      "2013-09-23 10:15:53\t0\tmail.google.com\n",
      "2013-09-23 10:16:02\t0\tmail.google.com\n"
     ]
    }
   ],
   "source": [
    "## Print parsed_res in specified format or in seconds\n",
    "for v in parsed_res[:30]:\n",
    "    print \"%s\\t%s\\t%s\"%(v[1].strftime('%Y-%m-%d %H:%M:%S'), \n",
    "                            v[2].seconds,\n",
    "                            v[0])"
   ]
  },
  {
   "cell_type": "markdown",
   "metadata": {},
   "source": [
    "##3.10 Merge adjacent visits\n",
    "* 由於前述的結果，有太多mail或者talkgadget是相同的服務，我希望前後如果一樣的話，就把他銜接起來。"
   ]
  },
  {
   "cell_type": "code",
   "execution_count": 91,
   "metadata": {
    "collapsed": false
   },
   "outputs": [
    {
     "name": "stdout",
     "output_type": "stream",
     "text": [
      "VISITS BEFORE MERGE:26346\n",
      "VISITS BEFORE MERGE:6656\n"
     ]
    }
   ],
   "source": [
    "print \"VISITS BEFORE MERGE:%d\"%(len(parsed_res))\n",
    "merged_visits = []\n",
    "uniq_url = None\n",
    "for visit in parsed_res:\n",
    "    if uniq_url != visit[0]:\n",
    "        uniq_url = visit[0]\n",
    "        merged_visits.append([uniq_url, visit[1], visit[1]+visit[2], visit[2]])\n",
    "    else:\n",
    "        try:\n",
    "            merged_visits[-1][2] = visit[1]+visit[2]\n",
    "            merged_visits[-1][3] = visit[1] - merged_visits[-1][1] + visit[2]\n",
    "        except:\n",
    "            print merged_visits[-1]\n",
    "print \"VISITS BEFORE MERGE:%d\"%(len(merged_visits))\n"
   ]
  },
  {
   "cell_type": "code",
   "execution_count": 2,
   "metadata": {
    "collapsed": false
   },
   "outputs": [],
   "source": [
    "for v in merged_visits[:20]:\n",
    "    print v[1], v[3], v[0]"
   ]
  },
  {
   "cell_type": "markdown",
   "metadata": {},
   "source": [
    "##3.10.1 Filter in neccesary entry\n",
    "* 有了merged_visits後，我現在希望的是只留下某些我所要觀察的項目，例如我只想觀察使用者使用facebook、mail、youtube的情形，那要怎麼抓出來？\n",
    "* 所以我現在要把merged_visits轉成filtered_visits。"
   ]
  },
  {
   "cell_type": "code",
   "execution_count": 3,
   "metadata": {
    "collapsed": true
   },
   "outputs": [],
   "source": [
    "filtered_visits = []\n",
    "filter_in = ['dropbox', 'dictionary', 'facebook', 'mail', 'youtube', 'comic', 'dm5', 'mobile01']\n",
    "# for item in inlist:\n",
    "#     if len([x for x in filter_in if x in item[0]])>0:\n",
    "#         res.append(item)"
   ]
  },
  {
   "cell_type": "code",
   "execution_count": 106,
   "metadata": {
    "collapsed": false
   },
   "outputs": [
    {
     "name": "stdout",
     "output_type": "stream",
     "text": [
      "6656\n",
      "date\ttime          \tduration\turl       \n",
      "2013-09-23 10:13:12.405427\t2013-09-23 10:13:17.168691\t0:00:04.763264\twww.google.com.tw\n",
      "2013-09-23 10:13:15.839026\t2013-09-23 10:13:16.831155\t0:00:00.992129\tmail.google.com\n",
      "2013-09-23 10:13:16.831155\t2013-09-23 10:15:22.592121\t0:02:05.760966\taccounts.google.com\n",
      "2013-09-23 10:13:24.883494\t2013-09-23 10:13:42.387513\t0:00:17.504019\tmail.google.com\n",
      "2013-09-23 10:13:43.689719\t2013-09-23 10:13:43.689719\t0:00:00\ttalkgadget.google.com\n",
      "2013-09-23 10:13:44.907833\t2013-09-23 10:13:54.310997\t0:00:09.403164\tmail.google.com\n",
      "2013-09-23 10:14:14.229230\t2013-09-23 10:15:07.779116\t0:00:53.549886\ttalkgadget.google.com\n",
      "2013-09-23 10:15:22.592121\t2013-09-23 10:16:02.620901\t0:00:40.028780\tmail.google.com\n",
      "2013-09-23 10:16:07.567594\t2013-09-23 10:16:07.567594\t0:00:00\ttalkgadget.google.com\n",
      "2013-09-23 10:16:07.645335\t2013-09-23 10:16:07.645335\t0:00:00\tmail.google.com\n"
     ]
    }
   ],
   "source": [
    "print len(filtered_visits)\n",
    "print \"%s\\t%-14s\\t%s\\t%-10s\"%('date', 'time', 'duration', 'url')\n",
    "\n",
    "## how to print date only?\n",
    "for r in filtered_visits[:10]:\n",
    "    print \"%s\\t%-14s\\t%s\\t%-10s\"%(r[1], r[2],  r[3], r[0])"
   ]
  },
  {
   "cell_type": "markdown",
   "metadata": {},
   "source": [
    "### First try of using Pandas\n",
    "* Tutorials http://cloga.info/python/%E6%95%B0%E6%8D%AE%E7%A7%91%E5%AD%A6/2013/09/17/pandas_intro/"
   ]
  },
  {
   "cell_type": "code",
   "execution_count": 94,
   "metadata": {
    "collapsed": false
   },
   "outputs": [
    {
     "data": {
      "text/html": [
       "<div style=\"max-height:1000px;max-width:1500px;overflow:auto;\">\n",
       "<table border=\"1\" class=\"dataframe\">\n",
       "  <thead>\n",
       "    <tr style=\"text-align: right;\">\n",
       "      <th></th>\n",
       "      <th>0</th>\n",
       "      <th>1</th>\n",
       "      <th>2</th>\n",
       "      <th>3</th>\n",
       "    </tr>\n",
       "  </thead>\n",
       "  <tbody>\n",
       "    <tr>\n",
       "      <th>0</th>\n",
       "      <td>     www.google.com.tw</td>\n",
       "      <td>2013-09-23 10:13:12.405427</td>\n",
       "      <td>2013-09-23 10:13:17.168691</td>\n",
       "      <td>00:00:04.763264</td>\n",
       "    </tr>\n",
       "    <tr>\n",
       "      <th>1</th>\n",
       "      <td>       mail.google.com</td>\n",
       "      <td>2013-09-23 10:13:15.839026</td>\n",
       "      <td>2013-09-23 10:13:16.831155</td>\n",
       "      <td>00:00:00.992129</td>\n",
       "    </tr>\n",
       "    <tr>\n",
       "      <th>2</th>\n",
       "      <td>   accounts.google.com</td>\n",
       "      <td>2013-09-23 10:13:16.831155</td>\n",
       "      <td>2013-09-23 10:15:22.592121</td>\n",
       "      <td>00:02:05.760966</td>\n",
       "    </tr>\n",
       "    <tr>\n",
       "      <th>3</th>\n",
       "      <td>       mail.google.com</td>\n",
       "      <td>2013-09-23 10:13:24.883494</td>\n",
       "      <td>2013-09-23 10:13:42.387513</td>\n",
       "      <td>00:00:17.504019</td>\n",
       "    </tr>\n",
       "    <tr>\n",
       "      <th>4</th>\n",
       "      <td> talkgadget.google.com</td>\n",
       "      <td>2013-09-23 10:13:43.689719</td>\n",
       "      <td>2013-09-23 10:13:43.689719</td>\n",
       "      <td>       00:00:00</td>\n",
       "    </tr>\n",
       "  </tbody>\n",
       "</table>\n",
       "</div>"
      ],
      "text/plain": [
       "                       0                          1  \\\n",
       "0      www.google.com.tw 2013-09-23 10:13:12.405427   \n",
       "1        mail.google.com 2013-09-23 10:13:15.839026   \n",
       "2    accounts.google.com 2013-09-23 10:13:16.831155   \n",
       "3        mail.google.com 2013-09-23 10:13:24.883494   \n",
       "4  talkgadget.google.com 2013-09-23 10:13:43.689719   \n",
       "\n",
       "                           2               3  \n",
       "0 2013-09-23 10:13:17.168691 00:00:04.763264  \n",
       "1 2013-09-23 10:13:16.831155 00:00:00.992129  \n",
       "2 2013-09-23 10:15:22.592121 00:02:05.760966  \n",
       "3 2013-09-23 10:13:42.387513 00:00:17.504019  \n",
       "4 2013-09-23 10:13:43.689719        00:00:00  "
      ]
     },
     "execution_count": 94,
     "metadata": {},
     "output_type": "execute_result"
    }
   ],
   "source": [
    "import pandas as pd\n",
    "df = pd.DataFrame(filtered_visits)\n",
    "df.head()"
   ]
  },
  {
   "cell_type": "code",
   "execution_count": 98,
   "metadata": {
    "collapsed": false
   },
   "outputs": [
    {
     "data": {
      "text/html": [
       "<div style=\"max-height:1000px;max-width:1500px;overflow:auto;\">\n",
       "<table border=\"1\" class=\"dataframe\">\n",
       "  <thead>\n",
       "    <tr style=\"text-align: right;\">\n",
       "      <th></th>\n",
       "      <th>0</th>\n",
       "      <th>1</th>\n",
       "      <th>2</th>\n",
       "      <th>3</th>\n",
       "    </tr>\n",
       "  </thead>\n",
       "  <tbody>\n",
       "    <tr>\n",
       "      <th>count</th>\n",
       "      <td>           6656</td>\n",
       "      <td>                       6656</td>\n",
       "      <td>                       6656</td>\n",
       "      <td>                     6656</td>\n",
       "    </tr>\n",
       "    <tr>\n",
       "      <th>unique</th>\n",
       "      <td>           1077</td>\n",
       "      <td>                       6144</td>\n",
       "      <td>                       6430</td>\n",
       "      <td>                      NaN</td>\n",
       "    </tr>\n",
       "    <tr>\n",
       "      <th>top</th>\n",
       "      <td> www.google.com</td>\n",
       "      <td> 2013-12-06 13:01:44.288070</td>\n",
       "      <td> 2013-11-18 13:29:10.514924</td>\n",
       "      <td>                      NaN</td>\n",
       "    </tr>\n",
       "    <tr>\n",
       "      <th>freq</th>\n",
       "      <td>           1168</td>\n",
       "      <td>                          4</td>\n",
       "      <td>                          4</td>\n",
       "      <td>                      NaN</td>\n",
       "    </tr>\n",
       "    <tr>\n",
       "      <th>first</th>\n",
       "      <td>            NaN</td>\n",
       "      <td> 2013-09-12 23:40:57.320920</td>\n",
       "      <td> 2013-09-17 16:35:17.866132</td>\n",
       "      <td>                      NaN</td>\n",
       "    </tr>\n",
       "    <tr>\n",
       "      <th>last</th>\n",
       "      <td>            NaN</td>\n",
       "      <td> 2013-12-11 17:50:13.645286</td>\n",
       "      <td> 2013-12-11 17:51:33.883506</td>\n",
       "      <td>                      NaN</td>\n",
       "    </tr>\n",
       "    <tr>\n",
       "      <th>mean</th>\n",
       "      <td>            NaN</td>\n",
       "      <td>                        NaN</td>\n",
       "      <td>                        NaN</td>\n",
       "      <td>   0 days 02:24:04.523481</td>\n",
       "    </tr>\n",
       "    <tr>\n",
       "      <th>std</th>\n",
       "      <td>            NaN</td>\n",
       "      <td>                        NaN</td>\n",
       "      <td>                        NaN</td>\n",
       "      <td>   1 days 17:58:34.317124</td>\n",
       "    </tr>\n",
       "    <tr>\n",
       "      <th>min</th>\n",
       "      <td>            NaN</td>\n",
       "      <td>                        NaN</td>\n",
       "      <td>                        NaN</td>\n",
       "      <td> -1 days +06:20:27.483642</td>\n",
       "    </tr>\n",
       "    <tr>\n",
       "      <th>25%</th>\n",
       "      <td>            NaN</td>\n",
       "      <td>                        NaN</td>\n",
       "      <td>                        NaN</td>\n",
       "      <td>          0 days 00:00:00</td>\n",
       "    </tr>\n",
       "    <tr>\n",
       "      <th>50%</th>\n",
       "      <td>            NaN</td>\n",
       "      <td>                        NaN</td>\n",
       "      <td>                        NaN</td>\n",
       "      <td>   0 days 00:00:14.142633</td>\n",
       "    </tr>\n",
       "    <tr>\n",
       "      <th>75%</th>\n",
       "      <td>            NaN</td>\n",
       "      <td>                        NaN</td>\n",
       "      <td>                        NaN</td>\n",
       "      <td>   0 days 00:02:56.764259</td>\n",
       "    </tr>\n",
       "    <tr>\n",
       "      <th>max</th>\n",
       "      <td>            NaN</td>\n",
       "      <td>                        NaN</td>\n",
       "      <td>                        NaN</td>\n",
       "      <td>  79 days 22:11:33.430602</td>\n",
       "    </tr>\n",
       "  </tbody>\n",
       "</table>\n",
       "</div>"
      ],
      "text/plain": [
       "                     0                           1  \\\n",
       "count             6656                        6656   \n",
       "unique            1077                        6144   \n",
       "top     www.google.com  2013-12-06 13:01:44.288070   \n",
       "freq              1168                           4   \n",
       "first              NaN  2013-09-12 23:40:57.320920   \n",
       "last               NaN  2013-12-11 17:50:13.645286   \n",
       "mean               NaN                         NaN   \n",
       "std                NaN                         NaN   \n",
       "min                NaN                         NaN   \n",
       "25%                NaN                         NaN   \n",
       "50%                NaN                         NaN   \n",
       "75%                NaN                         NaN   \n",
       "max                NaN                         NaN   \n",
       "\n",
       "                                 2                         3  \n",
       "count                         6656                      6656  \n",
       "unique                        6430                       NaN  \n",
       "top     2013-11-18 13:29:10.514924                       NaN  \n",
       "freq                             4                       NaN  \n",
       "first   2013-09-17 16:35:17.866132                       NaN  \n",
       "last    2013-12-11 17:51:33.883506                       NaN  \n",
       "mean                           NaN    0 days 02:24:04.523481  \n",
       "std                            NaN    1 days 17:58:34.317124  \n",
       "min                            NaN  -1 days +06:20:27.483642  \n",
       "25%                            NaN           0 days 00:00:00  \n",
       "50%                            NaN    0 days 00:00:14.142633  \n",
       "75%                            NaN    0 days 00:02:56.764259  \n",
       "max                            NaN   79 days 22:11:33.430602  "
      ]
     },
     "execution_count": 98,
     "metadata": {},
     "output_type": "execute_result"
    }
   ],
   "source": [
    "df.describe()"
   ]
  },
  {
   "cell_type": "markdown",
   "metadata": {},
   "source": [
    "##3.11 Convert the time to specified string format"
   ]
  },
  {
   "cell_type": "code",
   "execution_count": 100,
   "metadata": {
    "collapsed": false
   },
   "outputs": [
    {
     "name": "stdout",
     "output_type": "stream",
     "text": [
      "[u'www.google.com.tw', datetime.datetime(2013, 9, 23, 10, 13, 12, 405427), datetime.datetime(2013, 9, 23, 10, 13, 17, 168691), datetime.timedelta(0, 4, 763264)]\n",
      "2013-09-23 10:13:12\t2013-09-23 10:13:17\t4\twww.google.com.tw\n",
      "2013-09-23 10:13:15\t2013-09-23 10:13:16\t0\tmail.google.com\n",
      "2013-09-23 10:13:16\t2013-09-23 10:15:22\t125\taccounts.google.com\n",
      "2013-09-23 10:13:24\t2013-09-23 10:13:42\t17\tmail.google.com\n",
      "2013-09-23 10:13:43\t2013-09-23 10:13:43\t0\ttalkgadget.google.com\n",
      "2013-09-23 10:13:44\t2013-09-23 10:13:54\t9\tmail.google.com\n",
      "2013-09-23 10:14:14\t2013-09-23 10:15:07\t53\ttalkgadget.google.com\n",
      "2013-09-23 10:15:22\t2013-09-23 10:16:02\t40\tmail.google.com\n",
      "2013-09-23 10:16:07\t2013-09-23 10:16:07\t0\ttalkgadget.google.com\n",
      "2013-09-23 10:16:07\t2013-09-23 10:16:07\t0\tmail.google.com\n",
      "2013-09-23 10:16:17\t2013-09-23 10:16:17\t0\ttalkgadget.google.com\n",
      "2013-09-23 10:16:26\t2013-09-23 10:16:48\t21\tmail.google.com\n",
      "2013-09-23 10:16:48\t2013-09-23 10:16:48\t0\ttalkgadget.google.com\n",
      "2013-09-23 10:16:57\t2013-09-23 10:17:02\t5\tmail.google.com\n",
      "2013-09-23 10:25:28\t2013-09-23 10:27:24\t116\twww.google.com.tw\n",
      "2013-09-23 10:25:34\t2013-09-23 10:25:34\t0\tmaps.google.com.tw\n",
      "2013-09-23 10:26:36\t2013-09-23 10:27:23\t46\twww.mapquest.com\n",
      "2013-09-23 10:30:14\t2013-09-23 10:47:59\t1064\tmail.google.com\n",
      "2013-09-23 10:30:28\t2013-09-23 10:30:28\t0\ttalkgadget.google.com\n",
      "2013-09-23 10:30:39\t2013-09-23 10:30:45\t5\twww.google.com.tw\n"
     ]
    }
   ],
   "source": [
    "print filtered_visits[0]\n",
    "for r in filtered_visits[:20]:\n",
    "#     print \"%s\\t%s\\t%s\\t%s\"%(r[0], r[1].isoformat(), r[2].isoformat(), r[3].seconds)\n",
    "    print \"%s\\t%s\\t%s\\t%s\"%(r[1].strftime('%Y-%m-%d %H:%M:%S'), r[2].strftime('%Y-%m-%d %H:%M:%S'), r[3].seconds, r[0])"
   ]
  },
  {
   "cell_type": "code",
   "execution_count": 6,
   "metadata": {
    "collapsed": false
   },
   "outputs": [],
   "source": [
    "## Save the result to a filtered_table.html and display it!!\n",
    "# ftable = file(\"visit_table.html\", 'w')\n",
    "# ## \"WRITE SOMETHING INTO FILE\"\n",
    "# ftable.write(\"WRITE SOMETHING INTO FILE\")\n",
    "# ftable.close()\n",
    "# HTML('<iframe src=visit_table.html width=700 height=350></iframe>')"
   ]
  },
  {
   "cell_type": "markdown",
   "metadata": {},
   "source": [
    "## Report timeline"
   ]
  },
  {
   "cell_type": "code",
   "execution_count": 20,
   "metadata": {
    "collapsed": true
   },
   "outputs": [],
   "source": [
    "def report(vlist, fname):\n",
    "    fout=file(fname, 'w')\n",
    "    fout.write('''\n",
    "<script type=\"text/javascript\" src=\"https://www.google.com/jsapi?autoload={'modules':[{'name':'visualization',\n",
    "       'version':'1','packages':['timeline']}]}\"></script>\n",
    "<script type=\"text/javascript\">\n",
    "\n",
    "google.setOnLoadCallback(drawChart);\n",
    "function drawChart() {\n",
    "\n",
    "  var container = document.getElementById('example5.1');\n",
    "  var chart = new google.visualization.Timeline(container);\n",
    "  var dataTable = new google.visualization.DataTable();\n",
    "  dataTable.addColumn({ type: 'string', id: 'Room' });\n",
    "  dataTable.addColumn({ type: 'string', id: 'Name' });\n",
    "  dataTable.addColumn({ type: 'date', id: 'Start' });\n",
    "  dataTable.addColumn({ type: 'date', id: 'End' });\n",
    "  dataTable.addRows([\n",
    "    ''')\n",
    "    for v in vlist:\n",
    "        fout.write('[\"%s\", \"%s\", new Date(0,0,0,%d,%d,%d), new Date(0,0,0,%d,%d,%d)],\\n'%(v[1].strftime('%Y-%m-%d'), v[0], v[1].hour, v[1].minute, v[1].second, v[2].hour, v[2].minute, v[2].second))\n",
    "    fout.write('''\n",
    "        ]);\n",
    "  var options = {\n",
    "      colors:['#33ccff', '#ff66cc', '#339933','#ffcc33','#ff0000', '#333333', '#996600'],\n",
    "    timeline: { rowLabelStyle: {fontName: 'Helvetica', fontSize: 24, color: '#603913' },\n",
    "                barLabelStyle: { fontName: 'Garamond', fontSize: 14 } }\n",
    "  };\n",
    "  chart.draw(dataTable, options);\n",
    "}\n",
    "</script>\n",
    "<div id=\"example5.1\" style=\"width: 3900px; height: 1000px;\"></div>\n",
    "    ''')\n",
    "    fout.close()\n"
   ]
  },
  {
   "cell_type": "code",
   "execution_count": 11,
   "metadata": {
    "collapsed": false
   },
   "outputs": [],
   "source": [
    "# report(rlist, \"viz.html\")\n",
    "# HTML('<iframe src=viz.html width=700 height=350></iframe>')"
   ]
  },
  {
   "cell_type": "markdown",
   "metadata": {},
   "source": [
    "# Reference"
   ]
  },
  {
   "cell_type": "raw",
   "metadata": {},
   "source": [
    "def getTime(timestamp, pivot=\"time\"):\n",
    "    newtime = str(timestamp)\n",
    "    stripped1 = newtime.strip(' (),L')\n",
    "    ms = int(stripped1)\n",
    "    delta = datetime.timedelta(microseconds = ms)\n",
    "    epoch_start = datetime.datetime(1601,1,1) + datetime.timedelta(hours = 8)\n",
    "    if pivot==\"duration\":\n",
    "        return delta\n",
    "    else:\n",
    "        return epoch_start + delta"
   ]
  },
  {
   "cell_type": "raw",
   "metadata": {
    "collapsed": true
   },
   "source": [
    "# Query a table\n",
    "# def show_table(cu, name=\"%\"):\n",
    "#     sql=\"SELECT * FROM sqlite_master WHERE type='table' and name like '%s';\"%(name)\n",
    "#     return query(cu, sql)\n",
    "# tb = show_table(cu) # return all table\n",
    "# tb = show_table(cu, 'urls') # return table with name like urls"
   ]
  },
  {
   "cell_type": "raw",
   "metadata": {
    "collapsed": true
   },
   "source": [
    "def get_transition(transition):\n",
    "    code = 0xff\n",
    "    transition = code & transition\n",
    "\n",
    "    flag=\"\"\n",
    "    if transition==0:\n",
    "        flag = \"CLICK_LINK\"     ##\"LINK: User reached page by clicking a link on another page\"\n",
    "    elif transition==1:\n",
    "        flag = \"TYPE_URL\"       ##\"TYPED: User typed page in URL bar\"\n",
    "    elif transition==2:\n",
    "        flag = \"AUTO_BOOKMARK\"  ##\"AUTO BOOKMARK: User got to this page through a suggestion in the UI\"\n",
    "    elif transition==3:\n",
    "        flag = \"AUTO_SUBFRAME\"  ##\"AUTO SUBFRAME: Content automatically loaded in a non-toplevel frame\"\n",
    "    elif transition==4:\n",
    "        flag = \"MANU_SUBFRAME\"  ##\"MANUAL SUBFRAME: Subframe navigation explicitly requested by the user\"\n",
    "    elif transition==5:\n",
    "        flag = \"GENERATED\"      ##\"GENERATED: User typed page in the URL bar and selected an entry that did not look like a URL\"\n",
    "    elif transition==6:\n",
    "        flag = \"START PAGE\"     ##\"START PAGE: Page was specified in the command line or is the start page\"\n",
    "    elif transition==7:\n",
    "        flag = \"FORM SUBMIT\"    ##\"FORM SUBMIT: User filled out values in a form and submitted it\"\n",
    "    elif transition==8:\n",
    "        flag = \"RELOAD\"         ##\"RELOAD: User reloaded the page\"\n",
    "    elif transition==9:\n",
    "        flag = \"KEYWORD\"        ##\"KEYWORD: URL generated from a replaceable keyword other than the default search provider\"\n",
    "    elif transition==10:\n",
    "        flag = \"KEYWORD GENERATED\"  ##\"KEYWORD GENERATED: Visit was generated by a keyword\"\n",
    "    else:\n",
    "        flag = \"UNKNOW\"          ##\"Unable to understand the transition value. Check, something is horribly wrong here :\"\n",
    "    return flag"
   ]
  },
  {
   "cell_type": "raw",
   "metadata": {},
   "source": [
    "# def top_n_url2(cu, n=None, sql=\"select url,visit_count from urls order by url ;\"):\n",
    "#     res = query(cu, sql)\n",
    "#     uniq_res = {}\n",
    "#     for item in res:\n",
    "# #         urlseg = item[0].split('/')\n",
    "# #         print urlseg[2]\n",
    "#         urlhost = urlparse.urlparse(item[0]).netloc   # for getting host from url\n",
    "#         uniq_res.setdefault(urlhost, 0)\n",
    "#         uniq_res[urlhost] += item[1]\n",
    "#     res_list = uniq_res.items()\n",
    "#     res_list.sort(key=lambda x:x[1],reverse=True)\n",
    "#     for r in res_list[:10]:\n",
    "#         print r\n",
    "#     return res_list[:n]\n",
    "# res = top_n_url2(cu, 10)"
   ]
  },
  {
   "cell_type": "raw",
   "metadata": {},
   "source": [
    "ftable = file(\"visit_table.html\", 'w')\n",
    "ftable.write('''<html><body>\n",
    "<style>\n",
    "td:hover\n",
    "{\n",
    "   background-color:yellow\n",
    "}\n",
    "table, th, td {\n",
    "    border: 1px solid black;\n",
    "    border-collapse: collapse;\n",
    "}\n",
    "th, td {\n",
    "    padding: 5px;\n",
    "}\n",
    "th {\n",
    "    text-align: left;\n",
    "}\n",
    "</style>\n",
    "<table>\n",
    "''')\n",
    "for r in filtered_visits[:20]:\n",
    "    ftable.write('''<tr>''')\n",
    "    ftable.write('''<td>%s</td>'''%(r[1].strftime('%Y-%m-%d %H:%M:%S')))\n",
    "    ftable.write('''<td>%s</td>'''%(r[2].strftime('%Y-%m-%d %H:%M:%S')))\n",
    "    ftable.write('''<td>%s</td>'''%(r[3].seconds))\n",
    "    ftable.write('''<td>%s</td>'''%(r[0]))\n",
    "    ftable.write('''</tr>''')\n",
    "ftable.write('''</table></body></html>''')\n",
    "ftable.close()\n",
    "from IPython.display import HTML\n",
    "HTML('<iframe src=visit_table.html width=700 height=350></iframe>')"
   ]
  },
  {
   "cell_type": "raw",
   "metadata": {},
   "source": [
    "# import json\n",
    "# fvisit = open(\"visits.json\", 'w')\n",
    "# json.dump(res[:1000], fvisit)\n",
    "# fvisit.close()\n",
    "# fopen = open(\"visits.json\", 'r')\n",
    "# res = json.load(fopen)\n",
    "# print len(res)"
   ]
  },
  {
   "cell_type": "raw",
   "metadata": {},
   "source": [
    "def getPeriod(vlist, s, e):\n",
    "    startTime = datetime.datetime.strptime(s, \"%Y-%m-%d %H:%M:%S\")\n",
    "    endTime = datetime.datetime.strptime(e, \"%Y-%m-%d %H:%M:%S\")\n",
    "    rlist=[]\n",
    "    for v in vlist:\n",
    "        if startTime < v[1] < endTime:\n",
    "            if v[1].day != v[2].day:\n",
    "                dayend = datetime.datetime.strptime(v[1].strftime('%Y-%m-%d')+\" 23:59:59\", \"%Y-%m-%d %H:%M:%S\")\n",
    "                nextday = datetime.datetime.strptime(v[2].strftime('%Y-%m-%d')+\" 00:00:00\", \"%Y-%m-%d %H:%M:%S\")\n",
    "#                 rlist.append([v[0], v[1], dayend, dayend-v[1]])\n",
    "#                 rlist.append([v[0], nextday, v[2], v[2]-nextday])\n",
    "            else:\n",
    "                rlist.append(v)\n",
    "    return rlist\n",
    "#         if v[1] > v[2]:\n",
    "#             print v[1].day, v[2].day, v[1].strftime('%Y-%m-%d %H:%M:%S'), v[2].strftime('%Y-%m-%d %H:%M:%S')\n",
    "#         else:\n",
    "\n"
   ]
  }
 ],
 "metadata": {
  "kernelspec": {
   "display_name": "Python 2",
   "language": "python",
   "name": "python2"
  },
  "language_info": {
   "codemirror_mode": {
    "name": "ipython",
    "version": 2
   },
   "file_extension": ".py",
   "mimetype": "text/x-python",
   "name": "python",
   "nbconvert_exporter": "python",
   "pygments_lexer": "ipython2",
   "version": "2.7.6"
  }
 },
 "nbformat": 4,
 "nbformat_minor": 0
}
