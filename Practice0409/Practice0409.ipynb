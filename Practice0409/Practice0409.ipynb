{
 "cells": [
  {
   "cell_type": "markdown",
   "metadata": {},
   "source": [
    "# Merge files in a folder\n",
    "* 之前我們讀3/13的288筆資料是從merged_youbike_list.json這個檔案讀進來如下。\n",
    "        import json # You don't need to import it again, because you have imported it in the previous code.\n",
    "        fjson = open('data/merged_youbike_list.json', 'r')\n",
    "        alldata = json.load(fjson)\n",
    "* 我們課堂上有說明過，這個檔案是，在2015/3/13這一天，每5分鐘儲存一次資料，而現在的問題是，這個merged_youbike_list.json的檔案是哪裡來的？也就是說，這個作業，要請你產生這個檔案。"
   ]
  },
  {
   "cell_type": "markdown",
   "metadata": {},
   "source": [
    "## 每隔五分鐘下載一個檔案的程式碼\n",
    "* 我們之前也做過一個「組裝的快樂」練習，可以每隔五分鐘下載檔案，程式碼如下。\n",
    "* 我目前把它comment掉，避免你按下去要25分鐘以後才有反應。\n",
    "* 請你用電腦自己下載三個檔案，不要隨便關掉視窗。"
   ]
  },
  {
   "cell_type": "code",
   "execution_count": 2,
   "metadata": {
    "collapsed": true
   },
   "outputs": [],
   "source": [
    "# for i in range(5):\n",
    "#     t = time.time() # Read current time\n",
    "#     now_str = time.strftime('%Y%m%d%H%M', time.localtime(t)) # Format time\n",
    "#     response = urllib2.urlopen('http://opendata.dot.taipei.gov.tw/opendata/gwjs_cityhall.json')\n",
    "#     data = json.load(response) # load json\n",
    "#     f = open('youbike_data/%s.json'%(now_str), 'wb') # Open an empty file\n",
    "#     json.dump(data, f) # Save json data into the file\n",
    "#     f.close() # close the file\n",
    "#     time.sleep(300)"
   ]
  },
  {
   "cell_type": "markdown",
   "metadata": {},
   "source": [
    "##合併多個json檔\n",
    "* 下面這段程式碼，就是能夠合併多個json檔的程式，老師給你的merged_youbike_list.json就是利用這個程式碼所產生的。\n",
    "* 這個作業的企圖是這樣的，你偶而會有機會看到別人的程式碼。哇！這未免太好了，但是，你要有耐心去看他，把他看懂，這樣你才有辦法使用它。\n",
    "* 所以，你若直接執行下面這個檔案將會發生錯誤，我現在的問題是，你如何修改下面程式的一點點（真的只有一點點），或者更改資料所放置的位置，就能把你上述下載下來的檔案合併起來呢？\n",
    "\n",
    "### 作業目標\n",
    "* 用Practice0319的程式碼下載三個以上的youbike檔案並儲存為json檔。\n",
    "* 看懂並修改下列程式，把該資料夾中的三個檔案合併為一個json檔。並**「去除」**非本練習所需要的程式碼，請盡可能地刪除任何與合併資料不相關的程式碼，刪的越多分數越高。\n",
    "* 透過這個練習，你會對於電腦儲存檔案還有程式讀取檔案的開始有基本概念。\n",
    "* 透過這個練習，你將學會自己閱讀程式碼。\n",
    "\n",
    "### 部分程式說明\n",
    "* 下面這段程式碼 可以幫助你列出某個資料夾裡面有哪些檔案，並且將檔名儲存為一個包含所有檔名（字串）的list。\n",
    "            import os\n",
    "            datapath = \"data/youbike0313/\"\n",
    "            files =  os.listdir(datapath)\n",
    "* 下面這段程式碼可以偵測每個讀進來的檔案是否為.json結尾（若是的話，就是要合併的檔案了）。\n",
    "            for f in files:\n",
    "                if f.endswith('.json'):\n",
    "                    # do something here\n",
    "* 注意，當你沒有某個資料夾，你卻又在程式中說你要打開某個資料夾中的檔案時，會出現「No such file or directory」的錯誤。\n"
   ]
  },
  {
   "cell_type": "code",
   "execution_count": 3,
   "metadata": {
    "collapsed": false
   },
   "outputs": [
    {
     "ename": "OSError",
     "evalue": "[Errno 2] No such file or directory: 'data/youbike0313/'",
     "output_type": "error",
     "traceback": [
      "\u001b[0;31m---------------------------------------------------------------------------\u001b[0m",
      "\u001b[0;31mOSError\u001b[0m                                   Traceback (most recent call last)",
      "\u001b[0;32m<ipython-input-3-b7fb7ed74475>\u001b[0m in \u001b[0;36m<module>\u001b[0;34m()\u001b[0m\n\u001b[1;32m      3\u001b[0m \u001b[0;32mimport\u001b[0m \u001b[0mnumpy\u001b[0m\u001b[0;34m\u001b[0m\u001b[0m\n\u001b[1;32m      4\u001b[0m \u001b[0mdatapath\u001b[0m \u001b[0;34m=\u001b[0m \u001b[0;34m\"data/youbike0313/\"\u001b[0m\u001b[0;34m\u001b[0m\u001b[0m\n\u001b[0;32m----> 5\u001b[0;31m \u001b[0mfiles\u001b[0m \u001b[0;34m=\u001b[0m  \u001b[0mos\u001b[0m\u001b[0;34m.\u001b[0m\u001b[0mlistdir\u001b[0m\u001b[0;34m(\u001b[0m\u001b[0mdatapath\u001b[0m\u001b[0;34m)\u001b[0m\u001b[0;34m\u001b[0m\u001b[0m\n\u001b[0m\u001b[1;32m      6\u001b[0m \u001b[0mfiles\u001b[0m \u001b[0;34m=\u001b[0m \u001b[0msorted\u001b[0m\u001b[0;34m(\u001b[0m\u001b[0mfiles\u001b[0m\u001b[0;34m)\u001b[0m\u001b[0;34m\u001b[0m\u001b[0m\n\u001b[1;32m      7\u001b[0m \u001b[0msite_dict\u001b[0m \u001b[0;34m=\u001b[0m \u001b[0;34m{\u001b[0m\u001b[0;34m}\u001b[0m\u001b[0;34m\u001b[0m\u001b[0m\n",
      "\u001b[0;31mOSError\u001b[0m: [Errno 2] No such file or directory: 'data/youbike0313/'"
     ]
    }
   ],
   "source": [
    "import os\n",
    "import json\n",
    "import numpy\n",
    "datapath = \"data/youbike0313/\"\n",
    "files =  os.listdir(datapath)\n",
    "files = sorted(files)\n",
    "site_dict = {}\n",
    "site_total = {}\n",
    "merged_json = []\n",
    "for f in files:\n",
    "    if f.endswith('.json'):\n",
    "        fin = open(datapath+f, 'r')\n",
    "        data = json.load(fin)\n",
    "        fin.close()\n",
    "        fname, ext = f.split('.')\n",
    "        merged_json.append(data['retVal'])\n",
    "        for site in data['retVal']:\n",
    "            sname = site['sna']\n",
    "            sbi, tot, per = int(site['sbi']), int(site['tot']), int(site['sbi'])/float(site['tot'])\n",
    "            site_dict.setdefault(sname, [])\n",
    "            site_total.setdefault(sname, int(site['tot']))\n",
    "            site_dict[sname].append(per)\n",
    "file_out = open('data/merged_youbike_list.json', 'wb')\n",
    "json.dump(merged_json, file_out)\n",
    "file_out.close()\n",
    "for s in site_dict:\n",
    "    mean = numpy.mean(site_dict[s])\n",
    "    std = numpy.std(site_dict[s])\n",
    "    print \"%-4.2f\\t%-4.2f\\t%s\"%(mean, std, s)"
   ]
  }
 ],
 "metadata": {
  "kernelspec": {
   "display_name": "Python 2",
   "language": "python",
   "name": "python2"
  },
  "language_info": {
   "codemirror_mode": {
    "name": "ipython",
    "version": 2
   },
   "file_extension": ".py",
   "mimetype": "text/x-python",
   "name": "python",
   "nbconvert_exporter": "python",
   "pygments_lexer": "ipython2",
   "version": "2.7.6"
  }
 },
 "nbformat": 4,
 "nbformat_minor": 0
}
