{
 "metadata": {
  "name": "",
  "signature": "sha256:e4e9052cd0d67a5e11054c93e294c78d9fbcb10a2cdc7a123d5304c11ab33ebf"
 },
 "nbformat": 3,
 "nbformat_minor": 0,
 "worksheets": [
  {
   "cells": [
    {
     "cell_type": "code",
     "collapsed": false,
     "input": [
      "from IPython.display import YouTubeVideo\n",
      "YouTubeVideo('6XvmhE1J9PY')"
     ],
     "language": "python",
     "metadata": {
      "slideshow": {
       "slide_type": "-"
      }
     },
     "outputs": [
      {
       "html": [
        "\n",
        "        <iframe\n",
        "            width=\"400\"\n",
        "            height=300\"\n",
        "            src=\"https://www.youtube.com/embed/6XvmhE1J9PY\"\n",
        "            frameborder=\"0\"\n",
        "            allowfullscreen\n",
        "        ></iframe>\n",
        "        "
       ],
       "metadata": {},
       "output_type": "pyout",
       "prompt_number": 3,
       "text": [
        "<IPython.lib.display.YouTubeVideo at 0x106850790>"
       ]
      }
     ],
     "prompt_number": 3
    },
    {
     "cell_type": "markdown",
     "metadata": {},
     "source": [
      "#Links\n",
      "- display image -- http://nbviewer.ipython.org/github/ipython/ipython/blob/1.x/examples/notebooks/Part%205%20-%20Rich%20Display%20System.ipynb\n",
      "- ipython's rich display format http://nbviewer.ipython.org/github/ipython/ipython/blob/1.x/examples/notebooks/Part%205%20-%20Rich%20Display%20System.ipynb"
     ]
    },
    {
     "cell_type": "code",
     "collapsed": false,
     "input": [
      "from os import listdir\n",
      "from os.path import isfile, join\n",
      "for f in listdir(r\"./\"):\n",
      "    if f.endswith('.ipynb'):\n",
      "        print f\n",
      "        print \"\\thttp://localhost:8888/notebooks/%s\"%f\n",
      "#localhost:8888/My Notebook.ipynb"
     ],
     "language": "python",
     "metadata": {
      "slideshow": {
       "slide_type": "slide"
      }
     },
     "outputs": [
      {
       "output_type": "stream",
       "stream": "stdout",
       "text": [
        "pss0227_foreach.ipynb\n",
        "\thttp://localhost:8888/notebooks/pss0227_foreach.ipynb\n",
        "pss0227_if_else.ipynb\n",
        "\thttp://localhost:8888/notebooks/pss0227_if_else.ipynb\n",
        "pss0_nbview_skill.ipynb\n",
        "\thttp://localhost:8888/notebooks/pss0_nbview_skill.ipynb\n",
        "testing.ipynb\n",
        "\thttp://localhost:8888/notebooks/testing.ipynb\n"
       ]
      }
     ],
     "prompt_number": 2
    },
    {
     "cell_type": "markdown",
     "metadata": {},
     "source": [
      "# Install ipython notebook slideshow\n",
      "- http://nbviewer.ipython.org/github/fperez/nb-slideshow-template/blob/master/install-support.ipynb"
     ]
    },
    {
     "cell_type": "code",
     "collapsed": false,
     "input": [],
     "language": "python",
     "metadata": {},
     "outputs": [],
     "prompt_number": 2
    },
    {
     "cell_type": "code",
     "collapsed": false,
     "input": [],
     "language": "python",
     "metadata": {},
     "outputs": [],
     "prompt_number": 2
    }
   ],
   "metadata": {}
  }
 ]
}