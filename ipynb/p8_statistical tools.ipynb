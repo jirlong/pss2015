{
 "cells": [
  {
   "cell_type": "code",
   "execution_count": 1,
   "metadata": {
    "collapsed": false
   },
   "outputs": [
    {
     "name": "stdout",
     "output_type": "stream",
     "text": [
      "-0.32151707851\n",
      "0.224627229813\n"
     ]
    }
   ],
   "source": [
    "import scipy\n",
    "from scipy.stats import pearsonr\n",
    "# blist and alist should have equal length\n",
    "blist = [1, 3, 2, 4, 1, 3, 1, 3, 1, 4, 2, 4, 1, 3, 1, 4]\n",
    "alist = [1, 3, 2, 4, 1, 3, 4, 1, 5, 1, 6, 2, 6, 3, 7, 4]\n",
    "x = scipy.array(alist)\n",
    "y = scipy.array(blist)\n",
    "r_row, p_value = pearsonr(x, y)\n",
    "print r_row\n",
    "print p_value"
   ]
  }
 ],
 "metadata": {
  "kernelspec": {
   "display_name": "Python 2",
   "language": "python",
   "name": "python2"
  },
  "language_info": {
   "codemirror_mode": {
    "name": "ipython",
    "version": 2
   },
   "file_extension": ".py",
   "mimetype": "text/x-python",
   "name": "python",
   "nbconvert_exporter": "python",
   "pygments_lexer": "ipython2",
   "version": "2.7.6"
  }
 },
 "nbformat": 4,
 "nbformat_minor": 0
}
