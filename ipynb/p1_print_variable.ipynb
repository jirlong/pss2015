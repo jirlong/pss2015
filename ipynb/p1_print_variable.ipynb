{
 "cells": [
  {
   "cell_type": "markdown",
   "metadata": {},
   "source": [
    "# print\n",
    "* Operators\n",
    "    * __+__ is an operator to concatenate two __strings__\n",
    "    * __,__ is an operator to print everything separated by it. 逗點表示，白話來說，接下去印的意思。\n",
    "* [String print formatting](https://docs.python.org/2/library/string.html)。以__print \"my name is %s, age %s\"%(name, 36.1234567)__為例，其表示要將後面那兩個變數或者數值的內容，放到前面兩個%s的位置，且%s是表示，要用字串來輸出。\n",
    "    * %d means printing as decimal number\n",
    "    * %s means printing as string\n",
    "    * %f means print as floating point number\n",
    "* [Escape code](https://docs.python.org/2/reference/lexical_analysis.html)\n",
    "    * \\t --> tab\n",
    "    * \\n --> new line\n",
    "* print command adds a \\n behind the sentence automatically."
   ]
  },
  {
   "cell_type": "code",
   "execution_count": 4,
   "metadata": {
    "collapsed": false
   },
   "outputs": [
    {
     "name": "stdout",
     "output_type": "stream",
     "text": [
      "hellow world\n",
      "hellow world\n",
      "jirlong jirlong jirlong\n",
      "my name is  jirlong\n",
      "my name is jirlong, age 36.1234567\n"
     ]
    }
   ],
   "source": [
    "# Hi! I am a comment! \n",
    "print \"hellow world\" \n",
    "print 'hellow world'\n",
    "\n",
    "# print a variable\n",
    "name = 'jirlong'\n",
    "dname = 5\n",
    "print name, name, name\n",
    "# TypeError: cannot concatenate 'str' and 'int' objects\n",
    "\n",
    "# print with formatting\n",
    "print \"my name is \", name \n",
    "print \"my name is %s, age %s\"%(name, 36.1234567) "
   ]
  },
  {
   "cell_type": "markdown",
   "metadata": {},
   "source": [
    "# Variable\n",
    "* Naming of variable\n",
    "    * 不可用數字開始，例如 123b = 13a + 14b。當然也不可以是中文。\n",
    "    * 中間不得有空白，例如 my book = 13a + 14b (why?)\n",
    "    * 不可使用[reserved word](https://docs.python.org/2.5/ref/keywords.html)(why?)\n",
    "* Data type\n",
    "    * Data type: Variable can be\n",
    "    * string: e.g., a = '12.3'\n",
    "    * floating point number: e.g., b = 12.3\n",
    "    * integer: e.g., c = 123\n",
    "    * list: alist = []\n",
    "    * dictionary: bdict = {1:2, 3:4, '5':6, '7':'8', 9:'10.11', 12:[13, 14, 15], 13:{14:'15', '16':[17, 18]}} \n",
    "    * tuple: ab = (1, 2, 3)"
   ]
  },
  {
   "cell_type": "code",
   "execution_count": 6,
   "metadata": {
    "collapsed": false
   },
   "outputs": [
    {
     "ename": "SyntaxError",
     "evalue": "invalid syntax (<ipython-input-6-4574469306e3>, line 2)",
     "output_type": "error",
     "traceback": [
      "\u001b[0;36m  File \u001b[0;32m\"<ipython-input-6-4574469306e3>\"\u001b[0;36m, line \u001b[0;32m2\u001b[0m\n\u001b[0;31m    import = 5 # import is a reserved keywords\u001b[0m\n\u001b[0m           ^\u001b[0m\n\u001b[0;31mSyntaxError\u001b[0m\u001b[0;31m:\u001b[0m invalid syntax\n"
     ]
    }
   ],
   "source": [
    "### Using reserved keywords as variables will cause syntax error\n",
    "import = 5 # import is a reserved keywords\n",
    "print import"
   ]
  },
  {
   "cell_type": "markdown",
   "metadata": {},
   "source": [
    "### Variables"
   ]
  },
  {
   "cell_type": "code",
   "execution_count": 8,
   "metadata": {
    "collapsed": true
   },
   "outputs": [],
   "source": [
    "a = 1 # integer\n",
    "b = 1.0 # floating point number\n",
    "c = '1' # string\n",
    "d = \"1\" # string\n",
    "a, b, c = 1, 2, 3"
   ]
  },
  {
   "cell_type": "markdown",
   "metadata": {},
   "source": [
    "### list, dictionary, and nested list and dictionary"
   ]
  },
  {
   "cell_type": "code",
   "execution_count": 9,
   "metadata": {
    "collapsed": true
   },
   "outputs": [],
   "source": [
    "e = [1] # list\n",
    "f = ['1'] # list\n",
    "bdict = {1:3, '1':3, 4:[2, 4]} # initialization\n",
    "alist = [1, '3', 2.0, [4, 1, 3], [2, 4], bdict] # initialization "
   ]
  },
  {
   "cell_type": "markdown",
   "metadata": {},
   "source": [
    "### Access list"
   ]
  },
  {
   "cell_type": "code",
   "execution_count": 11,
   "metadata": {
    "collapsed": false
   },
   "outputs": [
    {
     "name": "stdout",
     "output_type": "stream",
     "text": [
      "[1, '3', 2.0, [4, 1, 3], [2, 4], {'1': 3, 1: 3, 4: [2, 4]}]\n",
      "{'1': 3, 1: 3, 4: [2, 4]}\n",
      "{'1': 3, 1: 3, 4: [2, 4]}\n",
      "6\n",
      "{'1': 3, 1: 3, 4: [2, 4]}\n",
      "[4, 1, 3]\n",
      "1\n",
      "4\n"
     ]
    }
   ],
   "source": [
    "# access the list\n",
    "print alist\n",
    "print alist[5] \n",
    "print alist[-1] # forget it!!\n",
    "print len(alist)\n",
    "print alist[len(alist)-1] # forget it!!\n",
    "print alist[3]\n",
    "print alist[3][1]\n",
    "print alist[-1][4][1]"
   ]
  },
  {
   "cell_type": "markdown",
   "metadata": {},
   "source": [
    "### Access dictionary"
   ]
  },
  {
   "cell_type": "code",
   "execution_count": 13,
   "metadata": {
    "collapsed": false
   },
   "outputs": [
    {
     "name": "stdout",
     "output_type": "stream",
     "text": [
      "{'1': 3, 1: 3, 4: [2, 4]}\n",
      "3\n",
      "3\n",
      "2\n"
     ]
    }
   ],
   "source": [
    "# access the dictionary\n",
    "print bdict\n",
    "print bdict['1']\n",
    "print bdict[1]\n",
    "print bdict[4][0]"
   ]
  },
  {
   "cell_type": "markdown",
   "metadata": {},
   "source": [
    "### Example of accessing the dictionary and list: Accessing json"
   ]
  },
  {
   "cell_type": "code",
   "execution_count": 1,
   "metadata": {
    "collapsed": false
   },
   "outputs": [
    {
     "name": "stdout",
     "output_type": "stream",
     "text": [
      "{u'sip': u'10.250.3.1', u'vtyp': u'1', u'sareaen': u'Xinyi Dist.', u'sna': u'\\u8208\\u96c5\\u570b\\u4e2d', u'aren': u'', u'sno': u'0005', u'bemp': u'56', u'mday': u'20150306023129', u'nbcnt': u'0', u'sv': u'1', u'tot': u'60', u'snaen': u'Xingya Jr. High School', u'iid': u'343', u'ar': u'\\u677e\\u4ec1\\u8def/\\u677e\\u4ec1\\u8def95\\u5df7(\\u6771\\u5357\\u5074)', u'act': u'1', u'lat': u'25.0365638889', u'lng': u'121.5686639', u'sbi': u'4', u'sarea': u'\\u4fe1\\u7fa9\\u5340', u'sd': u'20000101000000'}\n",
      "興雅國中 60 4\n",
      "SITE: 興雅國中 TOTAL: 60 REMAIN: 4\n"
     ]
    },
    {
     "ename": "TypeError",
     "evalue": "not all arguments converted during string formatting",
     "output_type": "error",
     "traceback": [
      "\u001b[0;31m---------------------------------------------------------------------------\u001b[0m",
      "\u001b[0;31mTypeError\u001b[0m                                 Traceback (most recent call last)",
      "\u001b[0;32m<ipython-input-1-340214fdc63c>\u001b[0m in \u001b[0;36m<module>\u001b[0;34m()\u001b[0m\n\u001b[1;32m      8\u001b[0m \u001b[0;32mprint\u001b[0m \u001b[0msite\u001b[0m\u001b[0;34m[\u001b[0m\u001b[0;34m'sna'\u001b[0m\u001b[0;34m]\u001b[0m\u001b[0;34m,\u001b[0m \u001b[0msite\u001b[0m\u001b[0;34m[\u001b[0m\u001b[0;34m'tot'\u001b[0m\u001b[0;34m]\u001b[0m\u001b[0;34m,\u001b[0m \u001b[0msite\u001b[0m\u001b[0;34m[\u001b[0m\u001b[0;34m'sbi'\u001b[0m\u001b[0;34m]\u001b[0m\u001b[0;34m\u001b[0m\u001b[0m\n\u001b[1;32m      9\u001b[0m \u001b[0;32mprint\u001b[0m \u001b[0;34m\"SITE:\"\u001b[0m\u001b[0;34m,\u001b[0m \u001b[0msite\u001b[0m\u001b[0;34m[\u001b[0m\u001b[0;34m'sna'\u001b[0m\u001b[0;34m]\u001b[0m\u001b[0;34m,\u001b[0m \u001b[0;34m\"TOTAL:\"\u001b[0m\u001b[0;34m,\u001b[0m \u001b[0msite\u001b[0m\u001b[0;34m[\u001b[0m\u001b[0;34m'tot'\u001b[0m\u001b[0;34m]\u001b[0m\u001b[0;34m,\u001b[0m \u001b[0;34m\"REMAIN:\"\u001b[0m\u001b[0;34m,\u001b[0m \u001b[0msite\u001b[0m\u001b[0;34m[\u001b[0m\u001b[0;34m'sbi'\u001b[0m\u001b[0;34m]\u001b[0m\u001b[0;34m\u001b[0m\u001b[0m\n\u001b[0;32m---> 10\u001b[0;31m \u001b[0;32mprint\u001b[0m \u001b[0;34m\"SITE: %s TOTAL: REMIAN: %s\"\u001b[0m\u001b[0;34m%\u001b[0m\u001b[0;34m(\u001b[0m\u001b[0msite\u001b[0m\u001b[0;34m[\u001b[0m\u001b[0;34m'sna'\u001b[0m\u001b[0;34m]\u001b[0m\u001b[0;34m,\u001b[0m \u001b[0msite\u001b[0m\u001b[0;34m[\u001b[0m\u001b[0;34m'tot'\u001b[0m\u001b[0;34m]\u001b[0m\u001b[0;34m,\u001b[0m \u001b[0msite\u001b[0m\u001b[0;34m[\u001b[0m\u001b[0;34m'sbi'\u001b[0m\u001b[0;34m]\u001b[0m\u001b[0;34m)\u001b[0m\u001b[0;34m\u001b[0m\u001b[0m\n\u001b[0m\u001b[1;32m     11\u001b[0m \u001b[0;31m# Be careful: TypeError: not all arguments converted during string formatting\u001b[0m\u001b[0;34m\u001b[0m\u001b[0;34m\u001b[0m\u001b[0m\n",
      "\u001b[0;31mTypeError\u001b[0m: not all arguments converted during string formatting"
     ]
    }
   ],
   "source": [
    "import urllib2\n",
    "import json\n",
    "\n",
    "response = urllib2.urlopen('http://opendata.dot.taipei.gov.tw/opendata/gwjs_cityhall.json')\n",
    "data = json.load(response)   \n",
    "print data['retVal'][4]\n",
    "site = data['retVal'][4] \n",
    "print site['sna'], site['tot'], site['sbi']\n",
    "print \"SITE:\", site['sna'], \"TOTAL:\", site['tot'], \"REMAIN:\", site['sbi']\n",
    "print \"SITE: %s TOTAL: REMIAN: %s\"%(site['sna'], site['tot'], site['sbi'])\n",
    "# Be careful: TypeError: not all arguments converted during string formatting"
   ]
  },
  {
   "cell_type": "markdown",
   "metadata": {},
   "source": [
    "### Checking the type of variables\n",
    "\n",
    "a, b, c = '2', 2, 2.0\n",
    "print type(a), type(b), type(c)\n",
    "\n",
    "d, e = [], {}\n",
    "print type(d), type()"
   ]
  },
  {
   "cell_type": "markdown",
   "metadata": {},
   "source": [
    "# +, -, *, **, /, %\n",
    "* ** - \"power of.\"\n",
    "* *%* - \"mod\" e.g., 5%3==2, 4%2==0.\n",
    "* */* - \"divide\" varied by data type of numberator and denominator"
   ]
  },
  {
   "cell_type": "code",
   "execution_count": 48,
   "metadata": {
    "collapsed": false
   },
   "outputs": [
    {
     "name": "stdout",
     "output_type": "stream",
     "text": [
      "50\n",
      "625\n"
     ]
    }
   ],
   "source": [
    "a, b = 5, 3\n",
    "print a+1+2+3+4+5+6+7+8+9 \n",
    "print a**4"
   ]
  },
  {
   "cell_type": "code",
   "execution_count": 53,
   "metadata": {
    "collapsed": false
   },
   "outputs": [
    {
     "name": "stdout",
     "output_type": "stream",
     "text": [
      "a/b = 3 ....1\n",
      "10.0\n",
      "a/b = 3.333333\n",
      "a/b = 3.333333\n"
     ]
    }
   ],
   "source": [
    "a, b = 10, 3\n",
    "print \"a/b = %d ....%d\"%(a/b, a%b)\n",
    "\n",
    "print float(a)\n",
    "print \"a/b = %f\"%(float(a)/b)\n",
    "print \"a/b = %f\"%(a/float(b))"
   ]
  },
  {
   "cell_type": "code",
   "execution_count": 57,
   "metadata": {
    "collapsed": false
   },
   "outputs": [
    {
     "name": "stdout",
     "output_type": "stream",
     "text": [
      "39\n",
      "3\n",
      "4\n",
      "333\n",
      "6\n"
     ]
    }
   ],
   "source": [
    "# alist = [39, 24, 1, 3, 144, 2, 4, 2,3, 333, 4, 5, 6]\n",
    "# for i in range(len(alist)):\n",
    "#     if i%3 == 0:\n",
    "#         print alist[i]"
   ]
  },
  {
   "cell_type": "code",
   "execution_count": 47,
   "metadata": {
    "collapsed": false
   },
   "outputs": [
    {
     "name": "stdout",
     "output_type": "stream",
     "text": [
      "a/b= 1 a/b= 2\n",
      "a/b=1, a%b=2.000000\n",
      "1.66666666667\n",
      "1.66666666667\n",
      "2.0\n"
     ]
    },
    {
     "ename": "TypeError",
     "evalue": "unsupported operand type(s) for /: 'str' and 'int'",
     "output_type": "error",
     "traceback": [
      "\u001b[0;31m---------------------------------------------------------------------------\u001b[0m",
      "\u001b[0;31mTypeError\u001b[0m                                 Traceback (most recent call last)",
      "\u001b[0;32m<ipython-input-47-d2cdcce5ee13>\u001b[0m in \u001b[0;36m<module>\u001b[0;34m()\u001b[0m\n\u001b[1;32m      4\u001b[0m \u001b[0;32mprint\u001b[0m \u001b[0mfloat\u001b[0m\u001b[0;34m(\u001b[0m\u001b[0ma\u001b[0m\u001b[0;34m)\u001b[0m\u001b[0;34m/\u001b[0m\u001b[0mb\u001b[0m\u001b[0;34m\u001b[0m\u001b[0m\n\u001b[1;32m      5\u001b[0m \u001b[0;32mprint\u001b[0m \u001b[0;34m(\u001b[0m\u001b[0;34m(\u001b[0m\u001b[0ma\u001b[0m\u001b[0;34m+\u001b[0m\u001b[0mb\u001b[0m\u001b[0;34m)\u001b[0m\u001b[0;34m**\u001b[0m\u001b[0;36m2\u001b[0m\u001b[0;34m+\u001b[0m\u001b[0;34m(\u001b[0m\u001b[0ma\u001b[0m\u001b[0;34m-\u001b[0m\u001b[0mb\u001b[0m\u001b[0;34m)\u001b[0m\u001b[0;34m**\u001b[0m\u001b[0;36m2\u001b[0m\u001b[0;34m)\u001b[0m\u001b[0;34m/\u001b[0m\u001b[0mfloat\u001b[0m\u001b[0;34m(\u001b[0m\u001b[0ma\u001b[0m\u001b[0;34m**\u001b[0m\u001b[0;36m2\u001b[0m\u001b[0;34m+\u001b[0m\u001b[0mb\u001b[0m\u001b[0;34m**\u001b[0m\u001b[0;36m2\u001b[0m\u001b[0;34m)\u001b[0m\u001b[0;34m\u001b[0m\u001b[0m\n\u001b[0;32m----> 6\u001b[0;31m \u001b[0;32mprint\u001b[0m \u001b[0mstr\u001b[0m\u001b[0;34m(\u001b[0m\u001b[0ma\u001b[0m\u001b[0;34m)\u001b[0m\u001b[0;34m/\u001b[0m\u001b[0mb\u001b[0m\u001b[0;34m\u001b[0m\u001b[0m\n\u001b[0m",
      "\u001b[0;31mTypeError\u001b[0m: unsupported operand type(s) for /: 'str' and 'int'"
     ]
    }
   ],
   "source": [
    "print \"a/b=\", a/b, \"a/b=\", a%b\n",
    "print \"a/b=%d, a%%b=%f\"%(a/b, a%b)\n",
    "print a/float(b)\n",
    "print float(a)/b\n",
    "print ((a+b)**2+(a-b)**2)/float(a**2+b**2) \n",
    "print str(a)/b\n",
    "# TypeError: unsupported operand type(s) for /: 'str' and 'int'\n"
   ]
  },
  {
   "cell_type": "markdown",
   "metadata": {},
   "source": [
    "# Example. Converting Temperature format"
   ]
  },
  {
   "cell_type": "code",
   "execution_count": 8,
   "metadata": {
    "collapsed": false
   },
   "outputs": [
    {
     "name": "stdout",
     "output_type": "stream",
     "text": [
      "0.0\n",
      "<type 'float'>\n",
      "True\n",
      "<type 'str'>\n",
      "<type 'str'>\n",
      "<type 'str'>\n",
      "<type 'float'>\n",
      "<type 'unicode'>\n"
     ]
    }
   ],
   "source": [
    "tf = 32\n",
    "tc = 5.0/9.0*(tf-32)\n",
    "print tc\n",
    "print type(tc)\n",
    "if type(tc) is float:\n",
    "    print True\n",
    "else:\n",
    "    print False\n",
    "slist = ['2015-04-01', '12:18:43', '12:19:50', 67.353, u'edu.mit.media.funf.journal']\n",
    "for s in slist:\n",
    "    print type(s)"
   ]
  },
  {
   "cell_type": "code",
   "execution_count": 6,
   "metadata": {
    "collapsed": false
   },
   "outputs": [
    {
     "name": "stdout",
     "output_type": "stream",
     "text": [
      "32.0\n"
     ]
    }
   ],
   "source": [
    "tc = 0\n",
    "tf = 9.0/5.0*tc + 32\n",
    "print tf"
   ]
  }
 ],
 "metadata": {
  "kernelspec": {
   "display_name": "Python 2",
   "language": "python",
   "name": "python2"
  },
  "language_info": {
   "codemirror_mode": {
    "name": "ipython",
    "version": 2
   },
   "file_extension": ".py",
   "mimetype": "text/x-python",
   "name": "python",
   "nbconvert_exporter": "python",
   "pygments_lexer": "ipython2",
   "version": "2.7.6"
  }
 },
 "nbformat": 4,
 "nbformat_minor": 0
}
