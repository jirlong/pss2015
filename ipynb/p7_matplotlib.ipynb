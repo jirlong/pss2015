{
 "cells": [
  {
   "cell_type": "markdown",
   "metadata": {},
   "source": [
    "# how to display Chinese in matplotlib"
   ]
  },
  {
   "cell_type": "markdown",
   "metadata": {},
   "source": [
    "    from matplotlib.font_manager import FontProperties\n",
    "    font = FontProperties(fname=r\"/library/Fonts/Microsoft/PMingLiU.ttf\", size=12) \n",
    "    for x, y, l in zip(_x, _y, _label):\n",
    "        plt.annotate(\n",
    "            l,\n",
    "            xy=(x, y),\n",
    "            xytext=(0, -10),\n",
    "            textcoords='offset points',\n",
    "            ha='center',\n",
    "            va='top', \n",
    "            fontproperties=font)"
   ]
  }
 ],
 "metadata": {
  "kernelspec": {
   "display_name": "Python 2",
   "language": "python",
   "name": "python2"
  },
  "language_info": {
   "codemirror_mode": {
    "name": "ipython",
    "version": 2
   },
   "file_extension": ".py",
   "mimetype": "text/x-python",
   "name": "python",
   "nbconvert_exporter": "python",
   "pygments_lexer": "ipython2",
   "version": "2.7.6"
  }
 },
 "nbformat": 4,
 "nbformat_minor": 0
}
