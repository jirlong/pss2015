{
 "cells": [
  {
   "cell_type": "markdown",
   "metadata": {},
   "source": [
    "# 函式 Function\n",
    "* 何謂函式？f(a) = ...,\n",
    "* 怎麼解釋上面這一行？給一a，把他傳給右邊，做一做，然後把結果利用Assign傳回（return）給左邊。\n",
    "* Varied forms of function\n",
    "    * y = f(a, b) = ...e.g., Given two values, return the maximum.\n",
    "    * x, y = f(alist) = ...e.g., Given a list, return the summation and average of it\n",
    "    * x, y, z = f(alist) = ...e.g., Given a list of news, return the maximal, minimal occurrences and the average occrrences.\n"
   ]
  },
  {
   "cell_type": "code",
   "execution_count": 3,
   "metadata": {
    "collapsed": true
   },
   "outputs": [],
   "source": [
    "def my_function(n):\n",
    "    ss = 0\n",
    "    for i in range(n):\n",
    "        ss += i\n",
    "    return ss"
   ]
  },
  {
   "cell_type": "code",
   "execution_count": 5,
   "metadata": {
    "collapsed": false
   },
   "outputs": [
    {
     "name": "stdout",
     "output_type": "stream",
     "text": [
      "76193340\n"
     ]
    }
   ],
   "source": [
    "print my_function(12345)"
   ]
  },
  {
   "cell_type": "code",
   "execution_count": 7,
   "metadata": {
    "collapsed": true
   },
   "outputs": [],
   "source": [
    "# return average and sum at the same time\n",
    "# be care that average shoud be a floating point number"
   ]
  },
  {
   "cell_type": "markdown",
   "metadata": {},
   "source": [
    "## 累計list Accumulating a list\n",
    "* Now we know range(10) means [0, 1, 2, 3, 4, 5, 6, 7, 8, 9]\n",
    "* How about accumulate a list"
   ]
  },
  {
   "cell_type": "code",
   "execution_count": 9,
   "metadata": {
    "collapsed": false
   },
   "outputs": [
    {
     "name": "stdout",
     "output_type": "stream",
     "text": [
      "16\n"
     ]
    }
   ],
   "source": [
    "alist = [1, 3, 2, 4, 1, 3, 4, 1, 5, 1, 6, 2, 6, 3, 7, 4]\n",
    "print len(alist)"
   ]
  },
  {
   "cell_type": "code",
   "execution_count": 11,
   "metadata": {
    "collapsed": true
   },
   "outputs": [],
   "source": [
    "# return both average and summation"
   ]
  },
  {
   "cell_type": "markdown",
   "metadata": {},
   "source": [
    "## 使用內建函式 Using Built-in functions"
   ]
  },
  {
   "cell_type": "code",
   "execution_count": 13,
   "metadata": {
    "collapsed": false
   },
   "outputs": [
    {
     "name": "stdout",
     "output_type": "stream",
     "text": [
      "53\n",
      "76.1111111111\n"
     ]
    }
   ],
   "source": [
    "# Using sum(), len(), float(), ...\n",
    "print sum(alist)\n",
    "grades = [46, 57, 68, 79, 89, 91, 74, 85, 96]\n",
    "print sum(grades)/float(len(grades))"
   ]
  },
  {
   "cell_type": "markdown",
   "metadata": {},
   "source": [
    "## 匯入套件（import more packages）\n",
    "* e.g., numpy to calculate mean, standard deviation of list"
   ]
  },
  {
   "cell_type": "code",
   "execution_count": 15,
   "metadata": {
    "collapsed": false
   },
   "outputs": [
    {
     "name": "stdout",
     "output_type": "stream",
     "text": [
      "1.8946882989\n",
      "3.3125\n",
      "53\n",
      "3.3125\n"
     ]
    }
   ],
   "source": [
    "import numpy\n",
    "print numpy.std(alist)\n",
    "print numpy.average(alist)\n",
    "print numpy.sum(alist)\n",
    "print numpy.mean(alist)"
   ]
  },
  {
   "cell_type": "code",
   "execution_count": 17,
   "metadata": {
    "collapsed": true
   },
   "outputs": [],
   "source": [
    "# Convernt each grade by square root then multiply by 10"
   ]
  },
  {
   "cell_type": "markdown",
   "metadata": {},
   "source": [
    "## import scipy to calculate pearson correlation\n",
    "* Pearson correlation is used to measure the correlation between two variables (list) with __equal length__. "
   ]
  },
  {
   "cell_type": "code",
   "execution_count": 18,
   "metadata": {
    "collapsed": false
   },
   "outputs": [
    {
     "name": "stdout",
     "output_type": "stream",
     "text": [
      "-0.32151707851\n",
      "0.224627229813\n"
     ]
    }
   ],
   "source": [
    "import scipy\n",
    "from scipy.stats import pearsonr\n",
    "# blist and alist should have equal length\n",
    "blist = [1, 3, 2, 4, 1, 3, 1, 3, 1, 4, 2, 4, 1, 3, 1, 4]\n",
    "x = scipy.array(alist)\n",
    "y = scipy.array(blist)\n",
    "r_row, p_value = pearsonr(x, y)\n",
    "print r_row\n",
    "print p_value"
   ]
  },
  {
   "cell_type": "markdown",
   "metadata": {},
   "source": [
    "# Variable Scope 變數視野\n",
    "## Global and local variables 區域變數與全域變數\n",
    "* 程式的執行是，從上到下，過去有用過的，通通都可以用，但是過去用過，卻在別層裡頭的，通通都不能用。\n",
    "* 函式的概念可說是，我把這一群功能功能包起來，你不要問我怎麼做的，總之你給我該給我的，我就把該給你的資料吐給你。例如，你把一堆材料送進家庭代工，把一堆材料送進一台機器、...\n",
    "* http://www.python-course.eu/global_vs_local_variables.php\n",
    "* 考量下面這個例子，注意哪些是函式內在用的變數（local variable），哪些是一開始就宣告給大家用的變數（global variable）"
   ]
  },
  {
   "cell_type": "code",
   "execution_count": 2,
   "metadata": {
    "collapsed": false
   },
   "outputs": [
    {
     "name": "stdout",
     "output_type": "stream",
     "text": [
      "45\n",
      "10\n"
     ]
    },
    {
     "ename": "NameError",
     "evalue": "name 'i' is not defined",
     "output_type": "error",
     "traceback": [
      "\u001b[0;31m---------------------------------------------------------------------------\u001b[0m",
      "\u001b[0;31mNameError\u001b[0m                                 Traceback (most recent call last)",
      "\u001b[0;32m<ipython-input-2-3c5bfdb6a2fb>\u001b[0m in \u001b[0;36m<module>\u001b[0;34m()\u001b[0m\n\u001b[1;32m      7\u001b[0m \u001b[0;32mprint\u001b[0m \u001b[0maccumulate\u001b[0m\u001b[0;34m(\u001b[0m\u001b[0;34m)\u001b[0m\u001b[0;34m\u001b[0m\u001b[0m\n\u001b[1;32m      8\u001b[0m \u001b[0;32mprint\u001b[0m \u001b[0mn\u001b[0m\u001b[0;34m\u001b[0m\u001b[0m\n\u001b[0;32m----> 9\u001b[0;31m \u001b[0;32mprint\u001b[0m \u001b[0mi\u001b[0m\u001b[0;34m\u001b[0m\u001b[0m\n\u001b[0m\u001b[1;32m     10\u001b[0m \u001b[0;32mprint\u001b[0m \u001b[0mss\u001b[0m\u001b[0;34m\u001b[0m\u001b[0m\n",
      "\u001b[0;31mNameError\u001b[0m: name 'i' is not defined"
     ]
    }
   ],
   "source": [
    "n = 10\n",
    "def accumulate():\n",
    "    ss = 0\n",
    "    for i in range(n):\n",
    "        ss += i\n",
    "    return ss\n",
    "print accumulate()\n",
    "print n\n",
    "print i\n",
    "print ss"
   ]
  }
 ],
 "metadata": {
  "kernelspec": {
   "display_name": "Python 2",
   "language": "python",
   "name": "python2"
  },
  "language_info": {
   "codemirror_mode": {
    "name": "ipython",
    "version": 2
   },
   "file_extension": ".py",
   "mimetype": "text/x-python",
   "name": "python",
   "nbconvert_exporter": "python",
   "pygments_lexer": "ipython2",
   "version": "2.7.6"
  }
 },
 "nbformat": 4,
 "nbformat_minor": 0
}
