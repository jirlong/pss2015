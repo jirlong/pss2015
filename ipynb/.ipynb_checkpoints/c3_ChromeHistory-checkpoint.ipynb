{
 "cells": [
  {
   "cell_type": "markdown",
   "metadata": {},
   "source": [
    "# 0. What is visit history?\n",
    "* Ｇoal: 分析Chrome瀏覽器的使用歷程檔\n",
    "* What-is: 瀏覽器的log（即所謂的使用歷程檔）是什麼？上面有什麼資訊？請依照以以下連結的指示，開啟Chrome瀏覽器，找到右上角的工具選項，打開「記錄」。 http://www.googlechrometutorial.com/google-chrome-general-settings/Google-chrome-web-browser-history.html\n",
    "* Reference\n",
    "    * [How Google Chrome stores web history](http://lowmanio.co.uk/blog/entries/how-google-chrome-stores-web-history/)\n",
    "    * http://superuser.com/questions/627253/storing-browser-history-for-personal-analytics\n",
    "    * http://www.v2ex.com/t/60255\n",
    "\n",
    "#1. Copy chrome history out\n",
    "* 如何獲取Chrome History檔案？\n",
    "* 「access chrome history data」，之後應可找到下列網址 ",
    "http://stackoverflow.com/questions/2562092/how-to-access-google-chrome-browser-history-programmatically-on-local-machine\n",
    "解釋】從上面鏈結可獲知Chrome History以sqlite資料庫的檔案形態放在使用者個人電腦端（並非在雲端）\n",
    "\n",
    "## Windows\n",
    "* 如果是Windows的話是放在「C:\\Documents and Settings\\Local Settings\\Application Data\\Google\\Chrome\\User Data\\Default」檔名為History。\n",
    "* 該檔案可能是隱藏檔，所以你必須自「資料夾選項」中開啟可看見隱藏檔的選項（以下資訊參考http://www.chromium.org/user-experience/user-data-directory）。\n",
    "* __Win8__:  C:\\Documents and Settings\\Local Settings\\Application Data\\Google\\Chrome\\User Data\\Default\n",
    "* __Win 7__: C:\\Users\\[USERNAME]\\AppData\\Local\\Google\\Chrome\\User Data\\Default\n",
    "* __WinXP__: C:\\Documents and Settings\\[USERNAME]\\Local Settings\\Application Data\\Google\\Chrome\\User Data\\Default\n",
    "\n",
    "##  Mac\n",
    "* 若使用Mac電腦的話，History檔可能會放置在以下兩個位址：\n",
    "    * /Library（資源庫）/Application Support/Google/Chrome/Default/History\n",
    "    * /Users/[Your name]/Library（資源庫）/Application Support/Google/Chrome/Default/History\n",
    "* Mac的History檔為隱藏檔，需要用以下的方法取消隱藏\n",
    "    * 如果該檔案被隱藏無法搜尋的話，請在spotlight搜尋terminor，會開啟如下視窗（方法來源：view hidden folders on your mac using terminal０）\n",
    "        * 輸入defaults write com.apple.finder AppleShowAllFiles TRUE \n",
    "        * 輸入killall Finder即可找到該資料夾\n",
    "        * 之後請再輸入defaults write com.apple.finder AppleShowAllFiles FALSE \n",
    "        * 再輸入killall Finder即可恢復原狀。\n",
    "    * <font color = red>或者用這方法：打開Finder後，按住Option，點選上方「前往」中的「前往資料夾」，然後直接貼上上述兩個網址之一，注意要把（資源庫）拿掉，並且把你的使用者名稱貼上。例如：rawdata/Users/jirlong/Library/Application Support/Google/Chrome/Default/History</font>"
   ]
  },
  {
   "cell_type": "markdown",
   "metadata": {},
   "source": [
    "#2. Browse the History file\n",
    "* Chrome history是sqlite檔而無法被一般的程式（例如NotePad）開啟。 那麼，何謂sqlite檔案？他和一般資料庫檔案（例如.mdb）有何不同？\n",
    "* 無論是Firefox或Chrome history均以sqlite的資料庫格式儲存成為一個檔案，所以現在需要用一個sqlite browser來開啟所下載的history檔。\n",
    "* 請上網搜尋\"sqlite reader mac\"或\"sqlite reader windows\"（Mac或Windows視你所用的系統而定，關鍵字reader可改為browser），下載並安裝。http://sourceforge.net/projects/sqlitebrowser/\n",
    "* 下載該工具並且打開你所下載的History檔案。觀查History的內容，並告訴我裡面記錄了哪些資料，又以何種形式來記錄？\n",
    "\n",
    "##2.1 Brief introduction to chrome history\n",
    "* 安裝完畢後用其打開你所下載的History檔案，應可見到如下的界面。共分為三個主要部分，分別為：\n",
    "    * Database Structure：用以觀看整個資料庫的綱要或欄位\n",
    "    * Browse Data：用以瀏覽資料庫內存的資料<--我們最主要要看這個資料。\n",
    "    * Execute SQL：允許你用這個界面操作SQL指令以查詢\n",
    "    * <img src=\"Figures/sqlbrowser.png\" style=\"width: 50%; height: 50%\"/>\n",
    "* 點選Browse Data後應可見到以下界面，開啟Table的下拉式選單，一共可發現以下資料庫的資料表：\n",
    "    * meta\n",
    "    * downloads：下載的檔案\n",
    "    * download_url_chains\n",
    "    * urls：曾經拜訪過的urls的ID與網址對照表\n",
    "    * visits：主要的瀏覽歷程資料表，其中需要以ID查詢瀏覽時所拜訪的urls（查詢前項urls資料表）\n",
    "    * visit_source\n",
    "    * keyword_search_terms：查詢關鍵字\n",
    "    * segments\n",
    "    * segment_usage\n",
    "* 請開啟urls資料表並開啟「檔案>export」的選項將該資料表另存為csv（comma-separated value）檔。再開啟visits資料表，並用上述的方法另存為csv檔。只要儲存為csv檔後，不僅易於程式處理，而且匯入Excel也會十分方便。\n",
    "\n",
    "##2.2 Tables of chrome history\n",
    "* History Table – urls. urls資料表主要記錄了你所曾經拜訪過的所有的網頁網址，每一筆記錄就是一筆唯一的網址，如果你曾經拜訪過某網址兩次，他也只會有一筆記錄，它記錄了以下欄位：\n",
    "    * id：該網址的id，用以索引\n",
    "    * url：該網址本身\n",
    "    * title：該網頁的title（可能會從缺）\n",
    "    * visit_count：使用者在這段時間中一共拜訪該網頁幾次\n",
    "    * typed_count\n",
    "    * last_visit_time：使用者最後一次拜訪該網頁的時間（你在看網頁的時候，他有時候會告訴你「您最近一次拜訪時間為...」就是看這個欄位）\n",
    "    * hidden：是否為隱藏的記錄\n",
    "    * favicon_id\n",
    "\n",
    "## 2.3 SQL queries to retrieve data\n",
    "* 通常類似的SQLite Database Browser都會提供輸入資料庫查詢命令的功能，點選Execute SQL後即可看到輸入SQL查詢命令的欄位。例如我們希望查詢urls這個表中，究竟有哪些網址，並且按照該網址的拜訪次數來排序的話，可以輸入「select visit_count, url from urls order by visit_count」測試之。\n",
    "* 如果我今天想要查詢資料表visits中的拜訪時間、拜訪的持續時間、拜訪的網址那要怎麼做？此時你若打開資料表visits會發現拜訪網址欄位為url，其內容是一個編號，這個id必須參考對照資料表urls的id和url欄位。因此必須要輸入以下指令：\n",
    "        SELECT visits.id, visits.visit_time, visits.visit_duration, urls.url\n",
    "        FROM visits\n",
    "        INNER JOIN urls\n",
    "        ON visits.url=urls.id;\n",
    "\n"
   ]
  }
 ],
 "metadata": {
  "kernelspec": {
   "display_name": "Python 2",
   "language": "python",
   "name": "python2"
  },
  "language_info": {
   "codemirror_mode": {
    "name": "ipython",
    "version": 2
   },
   "file_extension": ".py",
   "mimetype": "text/x-python",
   "name": "python",
   "nbconvert_exporter": "python",
   "pygments_lexer": "ipython2",
   "version": "2.7.6"
  }
 },
 "nbformat": 4,
 "nbformat_minor": 0
}
