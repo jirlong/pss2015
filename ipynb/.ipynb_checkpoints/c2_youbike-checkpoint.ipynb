{
 "cells": [
  {
   "cell_type": "markdown",
   "metadata": {},
   "source": [
    "# Open data from Taipei City Gov\n",
    "* http://www.dot.gov.taipei/ct.asp?xItem=3167481&CtNode=44829&mp=117001\n",
    "* Youbike http://opendata.dot.taipei.gov.tw/opendata/gwjs_cityhall.json\n",
    "* Fields http://www.dot.gov.taipei/public/mmo/dot/YouBike%E5%BE%AE%E7%AC%91%E5%96%AE%E8%BB%8A%E4%BB%8B%E6%8E%A5%E8%AA%AA%E6%98%8E%E6%96%87%E4%BB%B6.pdf\n",
    "    * mday: yyyyMMddhhmmss\n",
    "    * tot: total \n",
    "    * sbi: stop bicycle\n",
    "* Time processing\n",
    "    * http://fcamel-life.blogspot.tw/2010/11/python.html"
   ]
  },
  {
   "cell_type": "code",
   "execution_count": 2,
   "metadata": {
    "collapsed": false
   },
   "outputs": [],
   "source": [
    "import urllib2\n",
    "import json\n",
    "import time\n",
    "t = time.time()\n",
    "now_str = time.strftime('%y%m%d%H%M', time.localtime(t))\n",
    "response = urllib2.urlopen('http://opendata.dot.taipei.gov.tw/opendata/gwjs_cityhall.json')\n",
    "data = json.load(response)\n",
    "f = open('data/youbike/%s.json'%(now_str), 'wb')\n",
    "json.dump(data, f)\n",
    "f.close()\n"
   ]
  },
  {
   "cell_type": "code",
   "execution_count": 3,
   "metadata": {
    "collapsed": false
   },
   "outputs": [
    {
     "ename": "KeyError",
     "evalue": "'retval'",
     "output_type": "error",
     "traceback": [
      "\u001b[0;31m---------------------------------------------------------------------------\u001b[0m",
      "\u001b[0;31mKeyError\u001b[0m                                  Traceback (most recent call last)",
      "\u001b[0;32m<ipython-input-3-1789275858ec>\u001b[0m in \u001b[0;36m<module>\u001b[0;34m()\u001b[0m\n\u001b[0;32m----> 1\u001b[0;31m \u001b[0;32mprint\u001b[0m \u001b[0mdata\u001b[0m\u001b[0;34m[\u001b[0m\u001b[0;34m'retval'\u001b[0m\u001b[0;34m]\u001b[0m\u001b[0;34m[\u001b[0m\u001b[0;36m0\u001b[0m\u001b[0;34m:\u001b[0m\u001b[0;36m1\u001b[0m\u001b[0;34m]\u001b[0m\u001b[0;34m\u001b[0m\u001b[0m\n\u001b[0m",
      "\u001b[0;31mKeyError\u001b[0m: 'retval'"
     ]
    }
   ],
   "source": [
    "print data['retVal'][0:1]"
   ]
  },
  {
   "cell_type": "raw",
   "metadata": {
    "collapsed": false
   },
   "source": [
    "for site in data['retVal']:\n",
    "    print \"%s\\t%s\\t%s\\t%s\\t%s\\t%s\\t%s\"%(site['mday'],site['lat'],site['lng'],site['tot'],site['sbi'],site['sna'],site['sno'])"
   ]
  },
  {
   "cell_type": "markdown",
   "metadata": {},
   "source": [
    "# Merge multiple json files"
   ]
  },
  {
   "cell_type": "raw",
   "metadata": {
    "collapsed": false
   },
   "source": [
    "# \"query python list all files\"\n",
    "import os\n",
    "import json\n",
    "import numpy\n",
    "datapath = \"data/youbike0313/\"\n",
    "files =  os.listdir(datapath)\n",
    "files = sorted(files)\n",
    "site_dict = {}\n",
    "site_total = {}\n",
    "merged_json = []\n",
    "for f in files:\n",
    "    if f.endswith('.json'):\n",
    "        fin = open(datapath+f, 'r')\n",
    "        data = json.load(fin)\n",
    "        fin.close()\n",
    "        fname, ext = f.split('.')\n",
    "        merged_json.append(data['retVal'])\n",
    "        for site in data['retVal']:\n",
    "            sname = site['sna']\n",
    "            sbi, tot, per = int(site['sbi']), int(site['tot']), int(site['sbi'])/float(site['tot'])\n",
    "            site_dict.setdefault(sname, [])\n",
    "            site_total.setdefault(sname, int(site['tot']))\n",
    "            site_dict[sname].append(per)\n",
    "f = open('data/merged_youbike.json', 'wb')\n",
    "json.dump(merged_json, f)\n",
    "f.close()\n",
    "for s in site_dict:\n",
    "    mean = numpy.mean(site_dict[s])\n",
    "    std = numpy.std(site_dict[s])\n",
    "    print \"%-4.2f\\t%-4.2f\\t%s\"%(mean, std, s)"
   ]
  },
  {
   "cell_type": "code",
   "execution_count": null,
   "metadata": {
    "collapsed": false
   },
   "outputs": [],
   "source": [
    "alldata = json.load(open('data/merged_youbike_list.json', 'r'))"
   ]
  },
  {
   "cell_type": "code",
   "execution_count": null,
   "metadata": {
    "collapsed": false
   },
   "outputs": [],
   "source": [
    "import matplotlib.pyplot as plt\n",
    "%matplotlib inline\n",
    "times, sbis, tots, pers = [], [], [], []\n",
    "for tdata in alldata:\n",
    "    sbi, tot, per = 0.0, 0.0, 0.0\n",
    "    times.append(tdata[0]['mday'])\n",
    "    for site in tdata:\n",
    "        sbi += int(site['sbi'])\n",
    "        tot += int(site['tot'])\n",
    "    per = sbi/float(tot)\n",
    "    sbis.append(sbi)\n",
    "    tots.append(tot)\n",
    "    pers.append(per)\n",
    "for i in range(len(sbis)):\n",
    "    print \"%s\\t%d\\t%d\\t%.2f\"%(times[i][:-2], sbis[i], tots[i], pers[i])\n"
   ]
  },
  {
   "cell_type": "code",
   "execution_count": null,
   "metadata": {
    "collapsed": false
   },
   "outputs": [],
   "source": [
    "persx = []\n",
    "for i in range(len(pers)):\n",
    "    persx.append(i/12.0)\n",
    "plt.plot(persx, pers)\n",
    "plt.show()"
   ]
  },
  {
   "cell_type": "code",
   "execution_count": null,
   "metadata": {
    "collapsed": true
   },
   "outputs": [],
   "source": [
    "def color_red_blue(ctr, reverse=False):\n",
    "    hr=hex(int(ctr*255))\n",
    "    hb=hex(255-int(ctr*255))\n",
    "    if len(hr)==3:\n",
    "        hr='0'+hr[2:]\n",
    "    else:\n",
    "        hr=hr[2:]\n",
    "    if len(hb)==3:\n",
    "        hb='0'+hb[2:]\n",
    "    else:\n",
    "        hb=hb[2:]\n",
    "    if reverse:\n",
    "        c='#'+hb+\"00\"+hr\n",
    "    else:\n",
    "        c='#'+hr+\"00\"+hb\n",
    "    return c\t"
   ]
  },
  {
   "cell_type": "code",
   "execution_count": null,
   "metadata": {
    "collapsed": false
   },
   "outputs": [],
   "source": [
    "import matplotlib.pyplot as plt\n",
    "from matplotlib.font_manager import FontProperties\n",
    "font = FontProperties(fname=r\"/library/Fonts/Microsoft/PMingLiU.ttf\", size=12) \n",
    "\n",
    "from scipy import array, stats\n",
    "\n",
    "fig = plt.figure(1,figsize=(16, 12) ,  facecolor='w')\n",
    "ax = fig.add_subplot(1, 1, 1)\n",
    "_x, _y, _c, _size, _label = [], [], [], [], []\n",
    "for site in site_dict:\n",
    "    _x.append(numpy.mean(site_dict[site]))\n",
    "    _y.append(numpy.std(site_dict[site]))\n",
    "    _label.append(site)\n",
    "    _c.append('#81BEF7')\n",
    "    _size.append(site_total[site]/10)\n",
    "    \n",
    "ya, xa, ca, sizea = array(_y), array(_x), array(_c), array(_size)\n",
    "ax.scatter(xa, ya, s=sizea*200, c=ca, alpha=0.6, marker='o', linewidth=1)\n",
    "for x, y, l in zip(_x, _y, _label):\n",
    "    plt.annotate(\n",
    "        l,\n",
    "        xy=(x, y),\n",
    "        xytext=(0, -10),\n",
    "        textcoords='offset points',\n",
    "        ha='center',\n",
    "        va='top', \n",
    "        fontproperties=font)\n",
    "ax.set_title(\"Youbike sites\")\n",
    "ax.set_xlabel('Means')\n",
    "ax.set_ylabel('std')\n",
    "plt.show()\n",
    "plt.close()"
   ]
  },
  {
   "cell_type": "code",
   "execution_count": null,
   "metadata": {
    "collapsed": false,
    "scrolled": true
   },
   "outputs": [],
   "source": [
    "import numpy\n",
    "scale_dict = {}\n",
    "for site, tlist in site_dict.items():\n",
    "    newlist = numpy.array(tlist).reshape(96, 3)\n",
    "    nlist = list(newlist)\n",
    "    scale_dict.setdefault(site, [])\n",
    "    for n in nlist:\n",
    "        scale_dict[site].append(numpy.mean(n))\n",
    "scale_list =  [t for s, t in sorted([(numpy.mean(v[:6]), k) for k, v in scale_dict.items()], reverse=True)]\n",
    "fig = plt.figure(1,figsize=(16, 24) ,  facecolor='w')\n",
    "ax = fig.add_subplot(1, 1, 1)\n",
    "_x, _y, _c, _label = [], [], [], []\n",
    "y_ctr = 0\n",
    "for site in scale_list:\n",
    "    y_ctr += 1\n",
    "    for i, t in enumerate(scale_dict[site]):\n",
    "        _x.append(i+1)\n",
    "        _y.append(y_ctr)\n",
    "        _c.append(color_red_blue(t))\n",
    "    _label.append(site)\n",
    "ya, xa, ca = array(_y), array(_x), array(_c)\n",
    "ax.scatter(xa, ya, s=20, c=ca, alpha=0.4, marker='s', linewidth=0)\n",
    "        \n",
    "# for x, y, l in zip(_x, _y, _label):\n",
    "#     plt.annotate(\n",
    "#         l,\n",
    "#         xy=(x, y),\n",
    "#         xytext=(0, 0),\n",
    "#         textcoords='offset points',\n",
    "#         ha='left',\n",
    "#         va='center',\n",
    "#         fontproperties=font)\n",
    "\n",
    "ax.set_xlim(0, max(_x)+1)\n",
    "ax.set_ylim(0, max(_y)+1)\n",
    "ax.set_xlabel('timeslot')\n",
    "ax.set_ylabel('sites')\n",
    "plt.show()\n",
    "plt.close()"
   ]
  },
  {
   "cell_type": "code",
   "execution_count": null,
   "metadata": {
    "collapsed": false
   },
   "outputs": [],
   "source": [
    "# import plotly.plotly as py\n",
    "# from plotly.graph_objs import *\n",
    "# py.sign_in('jirlong', 'v4w8gftexm')\n",
    "\n",
    "# trace1 = Scatter(\n",
    "#     x=_x,\n",
    "#     y=_y,\n",
    "#     text = _label,\n",
    "#     mode='markers',\n",
    "#     marker=Marker(\n",
    "#         color=_c,\n",
    "#         size=_size,\n",
    "#         opacity=0.6\n",
    "#     )\n",
    "# )\n",
    "# data = Data([trace1])\n",
    "# layout = Layout(\n",
    "#     showlegend=True\n",
    "# )\n",
    "# fig = Figure(data=data, layout=layout)\n",
    "# plot_url = py.plot(fig, filename='bubblechart')"
   ]
  }
 ],
 "metadata": {
  "kernelspec": {
   "display_name": "Python 2",
   "language": "python",
   "name": "python2"
  },
  "language_info": {
   "codemirror_mode": {
    "name": "ipython",
    "version": 2
   },
   "file_extension": ".py",
   "mimetype": "text/x-python",
   "name": "python",
   "nbconvert_exporter": "python",
   "pygments_lexer": "ipython2",
   "version": "2.7.6"
  }
 },
 "nbformat": 4,
 "nbformat_minor": 0
}
