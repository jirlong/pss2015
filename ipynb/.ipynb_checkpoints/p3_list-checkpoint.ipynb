{
 "cells": [
  {
   "cell_type": "markdown",
   "metadata": {},
   "source": [
    "# List\n",
    "## 簡介與概念\n",
    "* A list of something, which means a sequence of something\n",
    "* Compared with list, dictionary, which focuses on mapping, does not have the sequential property.\n",
    "\n",
    "# Accesing list"
   ]
  },
  {
   "cell_type": "code",
   "execution_count": 2,
   "metadata": {
    "collapsed": false
   },
   "outputs": [
    {
     "name": "stdout",
     "output_type": "stream",
     "text": [
      "6 9\n",
      "25\n",
      "9\n"
     ]
    }
   ],
   "source": [
    "alist = [9, 8, 7, 6, 5, 4, 3, 2, 1]\n",
    "print alist[3], alist[0]\n",
    "print alist[3] + alist[0] + 10\n",
    "print len(alist)"
   ]
  },
  {
   "cell_type": "markdown",
   "metadata": {},
   "source": [
    "##  Slicing list\n",
    "* [python doc](https://docs.python.org/2/tutorial/introduction.html)"
   ]
  },
  {
   "cell_type": "code",
   "execution_count": 3,
   "metadata": {
    "collapsed": false
   },
   "outputs": [
    {
     "name": "stdout",
     "output_type": "stream",
     "text": [
      "[6, 5]\n",
      "[9, 8, 7]\n",
      "[6, 5, 4, 3, 2, 1]\n"
     ]
    }
   ],
   "source": [
    "print alist[3:5]\n",
    "print alist[:3]\n",
    "print alist[3:]"
   ]
  },
  {
   "cell_type": "markdown",
   "metadata": {},
   "source": [
    "# Travese a list"
   ]
  },
  {
   "cell_type": "code",
   "execution_count": 12,
   "metadata": {
    "collapsed": true
   },
   "outputs": [
    {
     "name": "stdout",
     "output_type": "stream",
     "text": [
      "1\n",
      "2\n",
      "3\n",
      "4\n",
      "5\n",
      "6\n",
      "7\n",
      "1\n",
      "2\n",
      "3\n",
      "4\n",
      "5\n",
      "6\n",
      "7\n",
      "0 1\n",
      "1 2\n",
      "2 3\n",
      "3 4\n",
      "4 5\n",
      "5 6\n",
      "6 7\n"
     ]
    }
   ],
   "source": [
    "for a in alist:\n",
    "    print a\n",
    "for i in range(len(alist)):\n",
    "    print alist[i]\n",
    "for i, a in enumerate(alist):\n",
    "    print i, a"
   ]
  },
  {
   "cell_type": "markdown",
   "metadata": {},
   "source": [
    "##  Access data in list"
   ]
  },
  {
   "cell_type": "code",
   "execution_count": 13,
   "metadata": {
    "collapsed": false
   },
   "outputs": [
    {
     "name": "stdout",
     "output_type": "stream",
     "text": [
      "7\n"
     ]
    }
   ],
   "source": [
    "ss = 0\n",
    "for i in [1, 2, 3, 4, 5, 6, 7]:\n",
    "    ss = 0\n",
    "    ss = ss + i\n",
    "print ss"
   ]
  },
  {
   "cell_type": "markdown",
   "metadata": {},
   "source": [
    "## EXAMPLES: Traversing Json: Youbike as an example\n",
    "* 累計台北市共有幾處Youbike服務？\n",
    "* 累計台北市共有幾台腳踏車。（Hint: 想想看，你目前的資料是所有腳踏車站，你要累計有幾台腳踏車，應該要讀取每一個腳踏車站的某一個數值，然後把它累加起來）\n",
    "* （Advanced）累計台北市不同的區，各有幾台腳踏車，並列印出來。"
   ]
  },
  {
   "cell_type": "code",
   "execution_count": 5,
   "metadata": {
    "collapsed": false,
    "scrolled": false
   },
   "outputs": [],
   "source": [
    "import urllib2\n",
    "import json\n",
    "response = urllib2.urlopen('http://opendata.dot.taipei.gov.tw/opendata/gwjs_cityhall.json')\n",
    "data = json.load(response)\n",
    "# for site in data['retVal']:\n",
    "#     print \"%s\\t%s\\t%s\\t%s\\t%s\\t%s\\t%s\"%(site['mday'],site['lat'],site['lng'],site['tot'],site['sbi'],site['sna'],site['sno'])"
   ]
  },
  {
   "cell_type": "code",
   "execution_count": 14,
   "metadata": {
    "collapsed": false
   },
   "outputs": [
    {
     "name": "stdout",
     "output_type": "stream",
     "text": [
      "TOTAL: 12524\tREMAINING: 3181\n"
     ]
    }
   ],
   "source": [
    "# Print the total number of bicycle sites\n",
    "tot_sum, sbi_sum = 0, 0\n",
    "for site in data['retVal']:\n",
    "    tot_sum += int(site['tot'])\n",
    "    sbi_sum += int(site['sbi'])\n",
    "print \"TOTAL: %s\\tREMAINING: %s\"%(tot_sum, sbi_sum)"
   ]
  },
  {
   "cell_type": "markdown",
   "metadata": {},
   "source": [
    "# List operations\n",
    "* 除了逐步加總外，List還有很多其他可以使用的函式。\n",
    "* 想像原本要加總一個list裡面的所有項目應要這麼做。"
   ]
  },
  {
   "cell_type": "code",
   "execution_count": 3,
   "metadata": {
    "collapsed": false
   },
   "outputs": [
    {
     "name": "stdout",
     "output_type": "stream",
     "text": [
      "26\n"
     ]
    }
   ],
   "source": [
    "alist = [3, 5, 4, 3, 2, 1, 3, 1, 3, 1]\n",
    "ss = 0\n",
    "for i in alist:\n",
    "    ss = ss + i\n",
    "print ss"
   ]
  },
  {
   "cell_type": "markdown",
   "metadata": {},
   "source": [
    "## sum(), len(), average(), mean(), std(), sorted()\n",
    "* 你可以使用以下的函式來對list進行一些運算，包含\n",
    "* sum(list): 加總\n",
    "* len(list): 計算list中的element個數\n",
    "* average(list): 求取list中element的平均（裡面每個element必須要是有小數點的或整數）\n",
    "* numpy.mean(list), numpy.std(list)\n",
    "* sorted(list, reverse=True): 排序裡面的element"
   ]
  },
  {
   "cell_type": "code",
   "execution_count": 4,
   "metadata": {
    "collapsed": false
   },
   "outputs": [
    {
     "name": "stdout",
     "output_type": "stream",
     "text": [
      "26\n",
      "2.6\n",
      "2.6\n",
      "3.0\n",
      "[1, 1, 1, 2, 3, 3, 3, 3, 4, 5]\n",
      "[5, 4, 3, 3, 3, 3, 2, 1, 1, 1]\n"
     ]
    }
   ],
   "source": [
    "print sum(alist)\n",
    "print sum(alist)/float(len(alist))\n",
    "import numpy\n",
    "print numpy.mean(alist)\n",
    "print numpy.median(alist)\n",
    "print sorted(alist)\n",
    "print sorted(alist, reverse=True)"
   ]
  },
  {
   "cell_type": "markdown",
   "metadata": {},
   "source": [
    "## .append(), .extend()\n",
    "* 也可以利用以下函式來改變list的內容。\n",
    "* list.append(): 顧名思義，在list後面附加（append）「任意某一個element」。\n",
    "* list.extend(): 顧名思義，延展（extend）這個list，所以要延展的項目也要是一個list，相當於把兩個list做合併。"
   ]
  },
  {
   "cell_type": "code",
   "execution_count": 7,
   "metadata": {
    "collapsed": false
   },
   "outputs": [
    {
     "name": "stdout",
     "output_type": "stream",
     "text": [
      "[1, 3, 5, 7, 9, 12, 44, 6, 18, 10]\n"
     ]
    }
   ],
   "source": [
    "alist = [1, 3, 5, 7, 9]\n",
    "blist = [12, 44, 6, 18, 10]\n",
    "for b in blist:\n",
    "    alist.append(b)\n",
    "print alist"
   ]
  },
  {
   "cell_type": "code",
   "execution_count": 9,
   "metadata": {
    "collapsed": false
   },
   "outputs": [
    {
     "name": "stdout",
     "output_type": "stream",
     "text": [
      "[1, 3, 5, 7, 9, 12, 44, 6, 18, 10, 12, 44, 6, 18, 10, 12, 44, 6, 18, 10]\n"
     ]
    }
   ],
   "source": [
    "alist.extend(blist)\n",
    "print alist"
   ]
  },
  {
   "cell_type": "markdown",
   "metadata": {},
   "source": [
    "# <font size=40 color=red>Advanced<font>"
   ]
  },
  {
   "cell_type": "markdown",
   "metadata": {},
   "source": [
    "# List conprehension"
   ]
  },
  {
   "cell_type": "markdown",
   "metadata": {},
   "source": [
    "# Skills"
   ]
  },
  {
   "cell_type": "markdown",
   "metadata": {},
   "source": [
    "## any 表達「如果存在其中一個」。\n",
    "* http://stackoverflow.com/questions/8583615/python-check-if-a-line-has-one-of-the-strings-in-a-list"
   ]
  },
  {
   "cell_type": "code",
   "execution_count": 7,
   "metadata": {
    "collapsed": false
   },
   "outputs": [
    {
     "name": "stdout",
     "output_type": "stream",
     "text": [
      "OVERLAP\n"
     ]
    }
   ],
   "source": [
    "alist = [1, 2, 3, 4 ,5, 6, 7]\n",
    "blist = [1, 2, 3]\n",
    "if any(s in alist for s in blist):\n",
    "    print \"OVERLAP\""
   ]
  },
  {
   "cell_type": "markdown",
   "metadata": {},
   "source": [
    "## 計算list裡面有幾個某元素"
   ]
  },
  {
   "cell_type": "code",
   "execution_count": 8,
   "metadata": {
    "collapsed": false
   },
   "outputs": [
    {
     "name": "stdout",
     "output_type": "stream",
     "text": [
      "5\n"
     ]
    }
   ],
   "source": [
    "a = [1, 2, 3, 1, 3, 1, 3, 1, 3, 3, 1]\n",
    "print a.count(1)"
   ]
  }
 ],
 "metadata": {
  "kernelspec": {
   "display_name": "Python 2",
   "language": "python",
   "name": "python2"
  },
  "language_info": {
   "codemirror_mode": {
    "name": "ipython",
    "version": 2
   },
   "file_extension": ".py",
   "mimetype": "text/x-python",
   "name": "python",
   "nbconvert_exporter": "python",
   "pygments_lexer": "ipython2",
   "version": "2.7.6"
  }
 },
 "nbformat": 4,
 "nbformat_minor": 0
}
