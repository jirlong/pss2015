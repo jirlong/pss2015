{
 "cells": [
  {
   "cell_type": "code",
   "execution_count": 7,
   "metadata": {
    "collapsed": false
   },
   "outputs": [
    {
     "name": "stdout",
     "output_type": "stream",
     "text": [
      "25.0408578889 121.567904444\n",
      "25.041 121.556945\n",
      "25.0377972222 121.565169444\n",
      "25.0360361111 121.562325\n",
      "25.0365638889 121.5686639\n",
      "25.0347361111 121.565658333\n",
      "25.0330388889 121.565619444\n",
      "25.0352138889 121.563688889\n",
      "25.03159 121.574353\n",
      "25.0286611111 121.566116667\n"
     ]
    }
   ],
   "source": []
  },
  {
   "cell_type": "markdown",
   "metadata": {},
   "source": [
    "* 以下的code可以讓你在地圖上畫一個點\n",
    "* 以下三行的意義，請自行參見pygmaps.py（直接用ipython notebook打開它）\n",
    "        mymap = pygmaps.maps(37.428, -122.145, 16)\n",
    "        mymap.addpoint(37.427, -122.145, \"#0000FF\")\n",
    "        mymap.draw('map.html')\n",
    "* 以下兩行的意義，是為了直接在ipython notebook中秀出結果，你也可以不要加這兩行，直接從檔案總管（或Mac的Finder）上，直接開啟map.html就可以看到結果。\n",
    "        from IPython.display import HTML\n",
    "        HTML('<iframe src=viz.html width=700 height=350></iframe>')"
   ]
  },
  {
   "cell_type": "code",
   "execution_count": 17,
   "metadata": {
    "collapsed": false
   },
   "outputs": [
    {
     "data": {
      "text/html": [
       "<iframe src=map.html width=700 height=350></iframe>"
      ],
      "text/plain": [
       "<IPython.core.display.HTML object>"
      ]
     },
     "execution_count": 17,
     "metadata": {},
     "output_type": "execute_result"
    }
   ],
   "source": [
    "import pygmaps\n",
    "lat, lng = 25.0408578889, 121.567904444\n",
    "mymap = pygmaps.maps(lat, lng, 16)\n",
    "mymap.addpoint(lat, lng, \"#0000FF\")\n",
    "mymap.draw('map.html')\n",
    "from IPython.display import HTML\n",
    "HTML('<iframe src=map.html width=700 height=350></iframe>')"
   ]
  },
  {
   "cell_type": "code",
   "execution_count": 20,
   "metadata": {
    "collapsed": true
   },
   "outputs": [],
   "source": []
  },
  {
   "cell_type": "code",
   "execution_count": 23,
   "metadata": {
    "collapsed": false
   },
   "outputs": [
    {
     "data": {
      "text/html": [
       "<iframe src=map.html width=700 height=350></iframe>"
      ],
      "text/plain": [
       "<IPython.core.display.HTML object>"
      ]
     },
     "execution_count": 23,
     "metadata": {},
     "output_type": "execute_result"
    }
   ],
   "source": [
    "import urllib2\n",
    "import json\n",
    "import numpy\n",
    "response = urllib2.urlopen('http://opendata.dot.taipei.gov.tw/opendata/gwjs_cityhall.json')\n",
    "data = json.load(response)\n",
    "mymap = pygmaps.maps(numpy.mean([float(d['lat']) for d in data['retVal']]), numpy.mean([float(d['lng']) for d in data['retVal']]), 16)\n",
    "for row in data['retVal']:\n",
    "    pert = float(row['sbi'])/float(row['tot'])\n",
    "    if pert > 0.90:\n",
    "        c = '#0000FF'\n",
    "    elif pert > 0.20:\n",
    "        c = '#01DF01'\n",
    "    elif pert > 0.05:\n",
    "        c = '#FE9A2E'\n",
    "    else:\n",
    "        c = '#FF0000'\n",
    "        \n",
    "    mymap.addpoint(float(row['lat']), float(row['lng']), c)\n",
    "mymap.draw('map_color.html')\n",
    "HTML('<iframe src=map_color.html width=700 height=350></iframe>')"
   ]
  }
 ],
 "metadata": {
  "kernelspec": {
   "display_name": "Python 2",
   "language": "python",
   "name": "python2"
  },
  "language_info": {
   "codemirror_mode": {
    "name": "ipython",
    "version": 2
   },
   "file_extension": ".py",
   "mimetype": "text/x-python",
   "name": "python",
   "nbconvert_exporter": "python",
   "pygments_lexer": "ipython2",
   "version": "2.7.6"
  }
 },
 "nbformat": 4,
 "nbformat_minor": 0
}
