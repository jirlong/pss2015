{
 "cells": [
  {
   "cell_type": "markdown",
   "metadata": {},
   "source": [
    "# Logic operators\n",
    "* and\n",
    "* or\n",
    "* not\n",
    "* <, >, <=, >=, ==(equal to), !=(not equal to)"
   ]
  },
  {
   "cell_type": "code",
   "execution_count": 1,
   "metadata": {
    "collapsed": false
   },
   "outputs": [
    {
     "name": "stdout",
     "output_type": "stream",
     "text": [
      "False\n"
     ]
    }
   ],
   "source": [
    "a = 3\n",
    "b = 4\n",
    "c = 7\n",
    "d, e, f = 7, 8, 9 # suitable for assigning value with the same type\n",
    "print a+b != c"
   ]
  },
  {
   "cell_type": "markdown",
   "metadata": {},
   "source": [
    "# Validating an input\n",
    "* 延續前次將整數20080527拆為年月日的例子，現在請讓使用者輸入一個數字，如果該數字低於2001年超過2015年，或者非正常月份日期數字（假設一個月都是31天），如果錯誤的話，就告訴使用者哪裡錯誤。"
   ]
  },
  {
   "cell_type": "code",
   "execution_count": 2,
   "metadata": {
    "collapsed": false
   },
   "outputs": [
    {
     "name": "stdout",
     "output_type": "stream",
     "text": [
      "please input a number: 123\n",
      "ERROR: YEAR 0 (SHOULD BE 2001<=Year<=2015)\n"
     ]
    }
   ],
   "source": [
    "a = input(\"please input a number: \")\n",
    "if not 20010000 < a < 20160000:\n",
    "    print \"ERROR: YEAR %d (SHOULD BE 2001<=Year<=2015)\"%(a/10000)\n",
    "if not 1 <= a%10000/100 <= 12:\n",
    "    print \"ERROR: MONTH %d (SHOULD BE 1<=Month<=12)\"%(a%10000/100)\n",
    "if not 1 <= a%100 <= 31:\n",
    "    print \"ERROR: DATE %d (SHOULD BE 1<=Day<=31)\"%(a%100)"
   ]
  },
  {
   "cell_type": "markdown",
   "metadata": {},
   "source": [
    "## Advanced 1\n",
    "* 延續前例，請問如果三者都正確，要能夠列印出輸入成功數字的訊息，要怎麼操作？\n",
    "    * 心想：如果三個都沒錯的話，那就是對的。\n",
    "    * 發展：弄枚銅板來，翻到正面，如果有一個錯，我就把它翻到背面。最後如果他還是正面的，那代表年月日都是對的了。"
   ]
  },
  {
   "cell_type": "code",
   "execution_count": null,
   "metadata": {
    "collapsed": true
   },
   "outputs": [],
   "source": [
    "a = input(\"please input a number: \")\n",
    "# print type(a)\n",
    "suc = True\n",
    "if not 20010000 < a < 20160000:\n",
    "    print \"ERROR: YEAR %d (SHOULD BE 2001<=Year<=2015)\"%(a/10000)\n",
    "    suc = False\n",
    "if not 1 <= a%10000/100 <= 12:\n",
    "    print \"ERROR: MONTH %d (SHOULD BE 1<=Month<=12)\"%(a%10000/100)\n",
    "    suc = False\n",
    "if not 1 <= a%100 <= 31:\n",
    "    print \"ERROR: DATE %d (SHOULD BE 1<=Day<=31)\"%(a%100)\n",
    "    suc = False\n",
    "if suc: \n",
    "    print \"VALIDATED: YMD = %d/%d/%d\"%(a/10000, a%10000/100, a%100)"
   ]
  },
  {
   "cell_type": "markdown",
   "metadata": {},
   "source": [
    "## Advanced 2\n",
    "* 前面這兩個例子會成功是因為我們假設，使用者都會乖乖輸入八位數字，如果使用者今天就是不會輸入八位數字，那要怎麼預防（有可能你前面第一題就已經可以解決這問題了）"
   ]
  },
  {
   "cell_type": "code",
   "execution_count": null,
   "metadata": {
    "collapsed": true
   },
   "outputs": [],
   "source": [
    "a = input(\"please input a number: \")\n",
    "# print type(a)\n",
    "suc = True\n",
    "if not 10000000 <= a < 100000000:\n",
    "    print \"ERROR: %d (NOT TYPYCAL DATE FORMAT)\"%(a)\n",
    "else:\n",
    "    if not 20010000 < a < 20160000:\n",
    "        print \"ERROR: YEAR %d (SHOULD BE 2001<=Year<=2015)\"%(a/10000)\n",
    "        suc = False\n",
    "    if not 1 <= a%10000/100 <= 12:\n",
    "        print \"ERROR: MONTH %d (SHOULD BE 1<=Month<=12)\"%(a%10000/100)\n",
    "        suc = False\n",
    "    if not 1 <= a%100 <= 31:\n",
    "        print \"ERROR: DATE %d (SHOULD BE 1<=Day<=31)\"%(a%100)\n",
    "        suc = False\n",
    "    if suc: \n",
    "        print \"VALIDATED: YMD = %d/%d/%d\"%(a/10000, a%10000/100, a%100)"
   ]
  },
  {
   "cell_type": "markdown",
   "metadata": {},
   "source": [
    "## Advanced 3 --> Practice0312\n",
    "* 如果我今天希望，要依照不同月份的天數來區分的話，那要怎麼做？（HINT: Using dictionary）"
   ]
  },
  {
   "cell_type": "code",
   "execution_count": null,
   "metadata": {
    "collapsed": true
   },
   "outputs": [],
   "source": []
  },
  {
   "cell_type": "markdown",
   "metadata": {},
   "source": [
    "# if-else, if-elif-else, if-elif-elif-else"
   ]
  },
  {
   "cell_type": "code",
   "execution_count": 3,
   "metadata": {
    "collapsed": false
   },
   "outputs": [
    {
     "name": "stdout",
     "output_type": "stream",
     "text": [
      "Enter a number61\n",
      "Enter a number59\n",
      "Enter a number30\n",
      "Enter a number90\n",
      "Enter a number100\n",
      "Fail: 2 Pass: 3\n"
     ]
    }
   ],
   "source": [
    "i=0\n",
    "f, p = 0, 0\n",
    "for i in range(5):\n",
    "    x = input(\"Enter a number\")\n",
    "    if x < 60:\n",
    "        f += 1\n",
    "    else:\n",
    "        p += 1\n",
    "\n",
    "print \"Fail:\", f, \"Pass:\", p"
   ]
  },
  {
   "cell_type": "code",
   "execution_count": null,
   "metadata": {
    "collapsed": false
   },
   "outputs": [],
   "source": [
    "p_ctr = 0   # initial value of p_ctr\n",
    "for i in range(2):\n",
    "    x = input(\"Enter a number:\")\n",
    "    if x >= 60:\n",
    "        p_ctr += 1\n",
    "    i += 1\n",
    "print p_ctr"
   ]
  },
  {
   "cell_type": "code",
   "execution_count": null,
   "metadata": {
    "collapsed": false
   },
   "outputs": [],
   "source": [
    "# 如果我希望計算,我輸⼊入這麼多的數,到底分別有幾個⼈人及格,不及格,100分,那怎麼辦?\n",
    "Fai, Pas, Hun = 0, 0, 0\n",
    "for i in range(2):\n",
    "    x = input(\"Enter a number:\")\n",
    "    if x < 60:\n",
    "        Fai += 1\n",
    "    elif x == 100:\n",
    "        Hun += 1\n",
    "    else:\n",
    "        Pas += 1\n",
    "    i += 1\n",
    "# print Fai, Pas, Hun\n",
    "# print \"Fail:\", Fai, \"Pass:\", Pas,\"100:\", Hun\n",
    "\n",
    "print \"FAIL:%d\\tPASS:%d\\t100:%d\"%(Fai, Pas, Hun)\n"
   ]
  },
  {
   "cell_type": "markdown",
   "metadata": {},
   "source": [
    "## Nested condition"
   ]
  },
  {
   "cell_type": "code",
   "execution_count": null,
   "metadata": {
    "collapsed": false
   },
   "outputs": [],
   "source": [
    "import random\n",
    "Fai, Pas, Hun = 0, 0, 0\n",
    "grades = [11, 22, 33, 44, 55, 66, 77, 88, 99, 100]\n",
    "for i in range(10):\n",
    "    random.randint(0, 100)\n",
    "    if x < 60:\n",
    "        Fai += 1\n",
    "    else:\n",
    "        Pas += 1\n",
    "        if x == 100:\n",
    "            Hun += 1\n"
   ]
  },
  {
   "cell_type": "code",
   "execution_count": null,
   "metadata": {
    "collapsed": false
   },
   "outputs": [],
   "source": [
    "Fai, Pas, Hun = 0, 0, 0\n",
    "for i in range(10):\n",
    "    x = input(\"Enter a number:\")\n",
    "    if x <= 60:\n",
    "        Fai += 1\n",
    "    elif x == 100:\n",
    "        Hun += 1\n",
    "    else:\n",
    "        Pas += 1\n",
    "print \"FAIL:%d\\tPASS:%d\\t100:%d\"%(Fai, Pas, Hun)"
   ]
  },
  {
   "cell_type": "code",
   "execution_count": null,
   "metadata": {
    "collapsed": false
   },
   "outputs": [],
   "source": []
  }
 ],
 "metadata": {
  "kernelspec": {
   "display_name": "Python 2",
   "language": "python",
   "name": "python2"
  },
  "language_info": {
   "codemirror_mode": {
    "name": "ipython",
    "version": 2
   },
   "file_extension": ".py",
   "mimetype": "text/x-python",
   "name": "python",
   "nbconvert_exporter": "python",
   "pygments_lexer": "ipython2",
   "version": "2.7.6"
  }
 },
 "nbformat": 4,
 "nbformat_minor": 0
}
