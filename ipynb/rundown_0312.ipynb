{
 "cells": [
  {
   "cell_type": "markdown",
   "metadata": {},
   "source": [
    "# The two cases we have introduced\n",
    "\n",
    "## What you should know\n",
    "* Variable types, including int, float, string, list, and dictionary.\n",
    "* The __structural__ differences between __list__ and __dictionary__.\n",
    "* Accessing the list(by index) and dictionary(by key).\n",
    "* Basic concept including \n",
    "    * operand(a, b, c), and operators(+, -, *, /, %)"
   ]
  },
  {
   "cell_type": "code",
   "execution_count": 4,
   "metadata": {
    "collapsed": false
   },
   "outputs": [
    {
     "name": "stdout",
     "output_type": "stream",
     "text": [
      "{1: 4, 2: 4, 3: 5, 4: 4, 5: 1, 6: 1}\n"
     ]
    }
   ],
   "source": [
    "# Initializing variable <--this is a list\n",
    "fruit = [1, 3, 2, 4, 3, 5, 6, 1, 3, 2, 4, 2, 1, 3, 1 ,3, 4, 2, 4]\n",
    "fruit_count = {}\n",
    "\n",
    "# for-loop to calculate the frequency of each fruit\n",
    "for x in fruit:\n",
    "    if not fruit_count.has_key(x):\n",
    "        fruit_count[x] = 0\n",
    "    fruit_count[x] = fruit_count[x] + 1\n",
    "\n",
    "# print out your result\n",
    "print fruit_count"
   ]
  },
  {
   "cell_type": "code",
   "execution_count": 1,
   "metadata": {
    "collapsed": false
   },
   "outputs": [],
   "source": [
    "import urllib2\n",
    "import json\n",
    "response = urllib2.urlopen('http://opendata.dot.taipei.gov.tw/opendata/gwjs_cityhall.json')\n",
    "data = json.load(response)\n",
    "# print data['retVal'][0]"
   ]
  },
  {
   "cell_type": "markdown",
   "metadata": {},
   "source": [
    "# Rundown\n",
    "* Discussing practice0305\n",
    "    * Print - escape code(\\t, \\n)\n",
    "* from 20080527 to if-else 如何判斷輸入的時間是正確的？\n",
    "    * Basic logic operation(and, or, not, true, false, ==)\n",
    "* from Youbike to list(accumulation) and function\n",
    "* Announce Practice0312\n",
    "\n",
    "## Thinking data science\n",
    "* How does the \"big data\" differ from \"statistical\" data?\n",
    "    * eg, 臺閩地區結婚對數按新郎新娘年齡與地區分\n",
    "* Is big data really big? Why \"big?\""
   ]
  }
 ],
 "metadata": {
  "kernelspec": {
   "display_name": "Python 2",
   "language": "python",
   "name": "python2"
  },
  "language_info": {
   "codemirror_mode": {
    "name": "ipython",
    "version": 2
   },
   "file_extension": ".py",
   "mimetype": "text/x-python",
   "name": "python",
   "nbconvert_exporter": "python",
   "pygments_lexer": "ipython2",
   "version": "2.7.6"
  }
 },
 "nbformat": 4,
 "nbformat_minor": 0
}
