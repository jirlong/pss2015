{
 "cells": [
  {
   "cell_type": "markdown",
   "metadata": {},
   "source": [
    "# Read/Write json"
   ]
  },
  {
   "cell_type": "code",
   "execution_count": 2,
   "metadata": {
    "collapsed": false
   },
   "outputs": [],
   "source": [
    "# Basic operation \n",
    "import json\n",
    "# corrInfo = json.load(open('corrInfo.json'))\n",
    "# json.dump(AOIdict, open('AOI.json', 'wb'))"
   ]
  },
  {
   "cell_type": "markdown",
   "metadata": {},
   "source": [
    "## Read youbike data as an example"
   ]
  },
  {
   "cell_type": "code",
   "execution_count": 3,
   "metadata": {
    "collapsed": false
   },
   "outputs": [],
   "source": [
    "# Read current time for naming the file\n",
    "import time\n",
    "t = time.time()\n",
    "now_str = time.strftime('%y%m%d%H%M', time.localtime(t))\n",
    "\n",
    "# Get response from data source by urllib2\n",
    "import urllib2\n",
    "response = urllib2.urlopen('http://opendata.dot.taipei.gov.tw/opendata/gwjs_cityhall.json')\n",
    "\n",
    "# Load the response and dump(save) the response to file\n",
    "import json\n",
    "data = json.load(response)\n",
    "f = open('%s.json'%(now_str), 'wb')\n",
    "json.dump(data, f)\n",
    "f.close()"
   ]
  }
 ],
 "metadata": {
  "kernelspec": {
   "display_name": "Python 2",
   "language": "python",
   "name": "python2"
  },
  "language_info": {
   "codemirror_mode": {
    "name": "ipython",
    "version": 2
   },
   "file_extension": ".py",
   "mimetype": "text/x-python",
   "name": "python",
   "nbconvert_exporter": "python",
   "pygments_lexer": "ipython2",
   "version": "2.7.6"
  }
 },
 "nbformat": 4,
 "nbformat_minor": 0
}
