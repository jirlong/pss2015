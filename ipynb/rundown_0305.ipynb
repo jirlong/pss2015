{
 "cells": [
  {
   "cell_type": "markdown",
   "metadata": {
    "slideshow": {
     "slide_type": "-"
    }
   },
   "source": [
    "#PSS0305_Rundown\n",
    "* How to submit practice/assigments\n",
    "* Update ipython notebook to ipython 3.0.\n",
    "* Introducing ipython notebook development environment\n",
    "    * Execution\n",
    "    * Insert cell\n",
    "    * how to write Markdown and Code\n",
    "    * Export\n",
    "* Review the case of \"What is Programming\"\n",
    "    * Comparing list and dictionary\n",
    "    * Variables and printing\n",
    "    * for-each (for loop)\n",
    "    * if-else\n",
    "* Begining from variable, compare list and dictionary\n",
    "* How to download json on webpage. Youbike open data as an example.\n",
    "* Variable and +/*%, (print out the practice)"
   ]
  },
  {
   "cell_type": "markdown",
   "metadata": {},
   "source": [
    "# For-each problem\n",
    "- 考慮一個狀況，有一個很大的水果籃，不知道有幾種水果，也不知道有幾顆，你必須要數出各種水果有幾顆，你會怎麼數？\n",
    " - 有一籃水果 fruit []\n",
    " - 有一個計數區 fruit_count {}\n",
    " - 對籃子fruit裡面每一個水果（假設叫做f）\n",
    "   - 如果這個水果f沒出現過 if not has f\n",
    "   - 就在計數區fruit_count給該水果f一個計數標籤，這個標籤一開始等於0{f:0}\n",
    "   - 如果這個水果f有出現過，就直接把該水果f的計數標籤往上加1\n",
    " "
   ]
  },
  {
   "cell_type": "code",
   "execution_count": 3,
   "metadata": {
    "collapsed": false
   },
   "outputs": [
    {
     "name": "stdout",
     "output_type": "stream",
     "text": [
      "{1: 4, 2: 4, 3: 5, 4: 4, 5: 1, 6: 1}\n"
     ]
    }
   ],
   "source": [
    "# Initializing variable <--this is a list\n",
    "fruit = [1, 3, 2, 4, 3, 5, 6, 1, 3, 2, 4, 2, 1, 3, 1 ,3, 4, 2, 4]\n",
    "fruit_count = {}\n",
    "\n",
    "# for-loop to calculate the frequency of each fruit\n",
    "for x in fruit:\n",
    "    if not fruit_count.has_key(x):\n",
    "        fruit_count[x] = 0\n",
    "    fruit_count[x] = fruit_count[x] + 1\n",
    "\n",
    "# print out your result\n",
    "print fruit_count"
   ]
  },
  {
   "cell_type": "markdown",
   "metadata": {},
   "source": [
    "## Problems\n",
    "* Comments\n",
    "* = assignment, assign the right part to the left part\n",
    "* for a in b: for-each\n",
    "* [] list, a list of something\n",
    "* {} dictionary, what is dictionary?\n",
    "    * {1: 4, 2: 4, 3: 5, 4: 4, 5: 1, 6: 1}\n",
    "* Indent? and :\n",
    "* fruit_count[x] how to access the element in list or dictionary?\n",
    "* struction"
   ]
  }
 ],
 "metadata": {
  "kernelspec": {
   "display_name": "Python 2",
   "language": "python",
   "name": "python2"
  },
  "language_info": {
   "codemirror_mode": {
    "name": "ipython",
    "version": 2
   },
   "file_extension": ".py",
   "mimetype": "text/x-python",
   "name": "python",
   "nbconvert_exporter": "python",
   "pygments_lexer": "ipython2",
   "version": "2.7.6"
  }
 },
 "nbformat": 4,
 "nbformat_minor": 0
}
