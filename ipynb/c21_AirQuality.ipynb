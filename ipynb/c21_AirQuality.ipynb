{
 "cells": [
  {
   "cell_type": "markdown",
   "metadata": {},
   "source": [
    "# Air Quality\n",
    "* Link: http://opendata.epa.gov.tw/ws/Data/AQX/?format=json\n",
    "* Field names: \n",
    "    * 測站名稱(SiteName)、縣市(County)、發布時間(PublishTime)\n",
    "    * 空氣污染指標(PSI)、指標污染物(MajorPollutant)、狀態(Status)、二氧化硫濃度(SO2)、一氧化碳濃度(CO)、臭氧濃度(O3)、懸浮微粒濃度(PM10)、細懸浮微粒濃度(PM2.5)、二氧化氮濃度(NO2)、風速(WindSpeed)、風向(WindDirec)、細懸浮微粒指標(FPMI)\n",
    "* Reference\n",
    "    * http://opendata.epa.gov.tw/DevelopZone/Sample/AQX/"
   ]
  },
  {
   "cell_type": "code",
   "execution_count": 3,
   "metadata": {
    "collapsed": false
   },
   "outputs": [
    {
     "name": "stdout",
     "output_type": "stream",
     "text": [
      "76\n"
     ]
    }
   ],
   "source": [
    "import urllib2\n",
    "import json\n",
    "response = urllib2.urlopen('http://opendata.epa.gov.tw/ws/Data/AQX/?format=json')\n",
    "aqx = json.load(response)\n",
    "print len(aqx)"
   ]
  },
  {
   "cell_type": "code",
   "execution_count": 4,
   "metadata": {
    "collapsed": false
   },
   "outputs": [
    {
     "name": "stdout",
     "output_type": "stream",
     "text": [
      "麥寮 65\n",
      "關山 23\n",
      "馬公 34\n",
      "金門 \n",
      "馬祖 34\n",
      "埔里 72\n",
      "復興 64\n",
      "永和 22\n",
      "竹山 86\n",
      "中壢 13\n",
      "三重 20\n",
      "冬山 37\n",
      "宜蘭 39\n",
      "陽明 2\n",
      "花蓮 19\n",
      "臺東 32\n",
      "恆春 18\n",
      "潮州 71\n",
      "屏東 74\n",
      "小港 70\n",
      "前鎮 73\n",
      "前金 81\n",
      "左營 93\n",
      "楠梓 80\n",
      "林園 55\n",
      "大寮 74\n",
      "鳳山 83\n",
      "仁武 79\n",
      "橋頭 99\n",
      "美濃 43\n",
      "臺南 81\n",
      "安南 73\n",
      "善化 87\n",
      "新營 74\n",
      "嘉義 83\n",
      "臺西 56\n",
      "朴子 61\n",
      "新港 55\n",
      "崙背 77\n",
      "斗六 \n",
      "南投 80\n",
      "二林 70\n",
      "線西 58\n",
      "彰化 72\n",
      "西屯 67\n",
      "忠明 65\n",
      "大里 75\n",
      "沙鹿 48\n",
      "豐原 52\n",
      "三義 60\n",
      "苗栗 42\n",
      "頭份 29\n",
      "新竹 32\n",
      "竹東 30\n",
      "湖口 20\n",
      "龍潭 20\n",
      "平鎮 27\n",
      "觀音 31\n",
      "大園 21\n",
      "桃園 27\n",
      "大同 24\n",
      "松山 25\n",
      "古亭 \n",
      "萬華 29\n",
      "中山 26\n",
      "士林 19\n",
      "淡水 17\n",
      "林口 20\n",
      "菜寮 24\n",
      "新莊 26\n",
      "板橋 22\n",
      "土城 29\n",
      "新店 24\n",
      "萬里 26\n",
      "汐止 30\n",
      "基隆 35\n"
     ]
    }
   ],
   "source": [
    "for site in aqx:\n",
    "    print site['SiteName'], site['PM2.5']"
   ]
  },
  {
   "cell_type": "code",
   "execution_count": null,
   "metadata": {
    "collapsed": true
   },
   "outputs": [],
   "source": []
  }
 ],
 "metadata": {
  "kernelspec": {
   "display_name": "Python 2",
   "language": "python",
   "name": "python2"
  },
  "language_info": {
   "codemirror_mode": {
    "name": "ipython",
    "version": 2
   },
   "file_extension": ".py",
   "mimetype": "text/x-python",
   "name": "python",
   "nbconvert_exporter": "python",
   "pygments_lexer": "ipython2",
   "version": "2.7.6"
  }
 },
 "nbformat": 4,
 "nbformat_minor": 0
}
