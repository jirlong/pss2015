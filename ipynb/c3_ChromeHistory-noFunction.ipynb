{
 "cells": [
  {
   "cell_type": "markdown",
   "metadata": {},
   "source": [
    "# 0. What is visit history?\n",
    "* Ｇoal: 分析Chrome瀏覽器的使用歷程檔\n",
    "* What-is: 瀏覽器的log（即所謂的使用歷程檔）是什麼？上面有什麼資訊？請依照以以下連結的指示，開啟Chrome瀏覽器，找到右上角的工具選項，打開「記錄」。 http://www.googlechrometutorial.com/google-chrome-general-settings/Google-chrome-web-browser-history.html\n",
    "* Reference\n",
    "    * [How Google Chrome stores web history](http://lowmanio.co.uk/blog/entries/how-google-chrome-stores-web-history/)\n",
    "    * http://superuser.com/questions/627253/storing-browser-history-for-personal-analytics\n",
    "    * http://www.v2ex.com/t/60255\n",
    "\n",
    "#1. Copy chrome history out\n",
    "* 如何獲取Chrome History檔案？\n",
    "* 「access chrome history data」，之後應可找到下列網址 ",
    "http://stackoverflow.com/questions/2562092/how-to-access-google-chrome-browser-history-programmatically-on-local-machine\n",
    "解釋】從上面鏈結可獲知Chrome History以sqlite資料庫的檔案形態放在使用者個人電腦端（並非在雲端）\n",
    "\n",
    "## Windows\n",
    "* 如果是Windows的話是放在「C:\\Documents and Settings\\Local Settings\\Application Data\\Google\\Chrome\\User Data\\Default」檔名為History。\n",
    "* 該檔案可能是隱藏檔，所以你必須自「資料夾選項」中開啟可看見隱藏檔的選項（以下資訊參考http://www.chromium.org/user-experience/user-data-directory）。\n",
    "* __Win8__:  C:\\Documents and Settings\\Local Settings\\Application Data\\Google\\Chrome\\User Data\\Default\n",
    "* __Win 7__: C:\\Users\\[USERNAME]\\AppData\\Local\\Google\\Chrome\\User Data\\Default\n",
    "* __WinXP__: C:\\Documents and Settings\\[USERNAME]\\Local Settings\\Application Data\\Google\\Chrome\\User Data\\Default\n",
    "\n",
    "##  Mac\n",
    "* 若使用Mac電腦的話，History檔可能會放置在以下兩個位址：\n",
    "    * /Library（資源庫）/Application Support/Google/Chrome/Default/History\n",
    "    * /Users/[Your name]/Library（資源庫）/Application Support/Google/Chrome/Default/History\n",
    "* Mac的History檔為隱藏檔，需要用以下的方法取消隱藏\n",
    "    * 如果該檔案被隱藏無法搜尋的話，請在spotlight搜尋terminor，會開啟如下視窗（方法來源：view hidden folders on your mac using terminal０）\n",
    "        * 輸入defaults write com.apple.finder AppleShowAllFiles TRUE \n",
    "        * 輸入killall Finder即可找到該資料夾\n",
    "        * 之後請再輸入defaults write com.apple.finder AppleShowAllFiles FALSE \n",
    "        * 再輸入killall Finder即可恢復原狀。\n",
    "    * <font color = red>或者用這方法：打開Finder後，按住Option，點選上方「前往」中的「前往資料夾」，然後直接貼上上述兩個網址之一，注意要把（資源庫）拿掉，並且把你的使用者名稱貼上。例如：rawdata/Users/jirlong/Library/Application Support/Google/Chrome/Default/History</font>"
   ]
  },
  {
   "cell_type": "markdown",
   "metadata": {},
   "source": [
    "#2. Browse the History file\n",
    "* Chrome history是sqlite檔而無法被一般的程式（例如NotePad）開啟。 那麼，何謂sqlite檔案？他和一般資料庫檔案（例如.mdb）有何不同？\n",
    "* 無論是Firefox或Chrome history均以sqlite的資料庫格式儲存成為一個檔案，所以現在需要用一個sqlite browser來開啟所下載的history檔。\n",
    "* 請上網搜尋\"sqlite reader mac\"或\"sqlite reader windows\"（Mac或Windows視你所用的系統而定，關鍵字reader可改為browser），下載並安裝。http://sourceforge.net/projects/sqlitebrowser/\n",
    "* 下載該工具並且打開你所下載的History檔案。觀查History的內容，並告訴我裡面記錄了哪些資料，又以何種形式來記錄？\n",
    "\n",
    "##2.1 Brief introduction to chrome history\n",
    "* 安裝完畢後用其打開你所下載的History檔案，應可見到如下的界面。共分為三個主要部分，分別為：\n",
    "    * Database Structure：用以觀看整個資料庫的綱要或欄位\n",
    "    * Browse Data：用以瀏覽資料庫內存的資料<--我們最主要要看這個資料。\n",
    "    * Execute SQL：允許你用這個界面操作SQL指令以查詢\n",
    "    * <img src=\"Figures/sqlbrowser.png\" style=\"width: 50%; height: 50%\"/>\n",
    "* 點選Browse Data後應可見到以下界面，開啟Table的下拉式選單，一共可發現以下資料庫的資料表：\n",
    "    * meta\n",
    "    * downloads：下載的檔案\n",
    "    * download_url_chains\n",
    "    * urls：曾經拜訪過的urls的ID與網址對照表\n",
    "    * visits：主要的瀏覽歷程資料表，其中需要以ID查詢瀏覽時所拜訪的urls（查詢前項urls資料表）\n",
    "    * visit_source\n",
    "    * keyword_search_terms：查詢關鍵字\n",
    "    * segments\n",
    "    * segment_usage\n",
    "* 請開啟urls資料表並開啟「檔案>export」的選項將該資料表另存為csv（comma-separated value）檔。再開啟visits資料表，並用上述的方法另存為csv檔。只要儲存為csv檔後，不僅易於程式處理，而且匯入Excel也會十分方便。\n",
    "\n",
    "##2.2 Tables of chrome history\n",
    "* History Table – urls. urls資料表主要記錄了你所曾經拜訪過的所有的網頁網址，每一筆記錄就是一筆唯一的網址，如果你曾經拜訪過某網址兩次，他也只會有一筆記錄，它記錄了以下欄位：\n",
    "    * id：該網址的id，用以索引\n",
    "    * url：該網址本身\n",
    "    * title：該網頁的title（可能會從缺）\n",
    "    * visit_count：使用者在這段時間中一共拜訪該網頁幾次\n",
    "    * typed_count\n",
    "    * last_visit_time：使用者最後一次拜訪該網頁的時間（你在看網頁的時候，他有時候會告訴你「您最近一次拜訪時間為...」就是看這個欄位）\n",
    "    * hidden：是否為隱藏的記錄\n",
    "    * favicon_id\n",
    "\n",
    "## 2.3 SQL queries to retrieve data\n",
    "* 通常類似的SQLite Database Browser都會提供輸入資料庫查詢命令的功能，點選Execute SQL後即可看到輸入SQL查詢命令的欄位。例如我們希望查詢urls這個表中，究竟有哪些網址，並且按照該網址的拜訪次數來排序的話，可以輸入「select visit_count, url from urls order by visit_count」測試之。\n",
    "    * 查詢一：我希望從urls這個表格中把visit_count和url這兩個欄位的資料給選擇出來，並且按照url這個欄位進行排序。\n",
    "            select visit_count, url from urls order by url \n",
    "    * 查詢二：我希望從visits這個表格中把所有的visit給找出來，並且找出url, visit_time(拜訪時間), from_visit(從哪個URL跳過來), transition(怎麼跳過來), visit_duration(拜訪多久)。且所有的結果照著id來排序。\n",
    "            select url,visit_time, from_visit, transition, visit_duration from visits order by id;\n",
    "    * 查詢三：我希望整合visits和urls這兩個表的資料，依據是visits表的url等於urls表的id。同時找出visits表的拜訪時間、拜訪時間長，以及這個urls表的url（因為visits表的url存的是一個編碼）。\n",
    "            SELECT visits.id, visits.visit_time, visits.visit_duration, urls.url FROM visits INNER JOIN urls ON visits.url=urls.id;\n",
    "* 如果我今天想要查詢資料表visits中的拜訪時間、拜訪的持續時間、拜訪的網址那要怎麼做？此時你若打開資料表visits會發現拜訪網址欄位為url，其內容是一個編號，這個id必須參考對照資料表urls的id和url欄位。因此必須要輸入以下指令：\n",
    "        SELECT visits.id, visits.visit_time, visits.visit_duration, urls.url\n",
    "        FROM visits\n",
    "        INNER JOIN urls\n",
    "        ON visits.url=urls.id;\n",
    "\n"
   ]
  },
  {
   "cell_type": "markdown",
   "metadata": {},
   "source": [
    "#3. Read Chrome history by python\n",
    "##3.1  import sqlite3\n",
    "* 為了讀SQLite檔案，必須import sqlite3函式庫，該函式庫為Python安裝時所內建的函式庫，只需import不用另外安裝。\n",
    "* 把下載下來的History檔案放在同資料中如下圖即可讀取。之後參見https://docs.python.org/2/library/sqlite3.html，\n",
    "* 該文件的內容說明了sqlite3這個函式庫可以讓使用者建立table、寫入資料並讀取資料庫。"
   ]
  },
  {
   "cell_type": "code",
   "execution_count": 1,
   "metadata": {
    "collapsed": true
   },
   "outputs": [],
   "source": [
    "import sqlite3\n",
    "import urlparse\n",
    "import datetime"
   ]
  },
  {
   "cell_type": "markdown",
   "metadata": {},
   "source": [
    "##3.2 Connect to history sqlite file"
   ]
  },
  {
   "cell_type": "code",
   "execution_count": 2,
   "metadata": {
    "collapsed": true
   },
   "outputs": [],
   "source": [
    "conn=sqlite3.connect(\"../../log_ChromeHistory/History\")\n",
    "cu=conn.cursor()"
   ]
  },
  {
   "cell_type": "markdown",
   "metadata": {},
   "source": [
    "##3.3 執行sql查詢（Send a sql query to cu）\n",
    "* w3school SQL Introduction http://www.w3schools.com/sql/sql_intro.asp\n",
    "* An example: 從（from）urls這個表中，依序選出（select）visit_count與url這兩個欄位，並且照url排序（order by）\n",
    "        select visit_count, url from urls order by url;"
   ]
  },
  {
   "cell_type": "code",
   "execution_count": 3,
   "metadata": {
    "collapsed": false
   },
   "outputs": [
    {
     "name": "stdout",
     "output_type": "stream",
     "text": [
      "[COMMAND(num_of_res=14659)]:select visit_count, url from urls order by url;\n",
      "874\thttp://mail.google.com/\n",
      "654\thttps://www.facebook.com/\n",
      "500\thttp://www.facebook.com/\n",
      "429\thttps://mail.google.com/\n",
      "407\thttps://mail.google.com/mail/\n",
      "403\thttps://mail.google.com/mail/u/0/\n",
      "292\thttps://mail.google.com/mail/u/0/#label/%5Bntnulib%5D\n",
      "270\thttp://comic.sfacg.com/\n",
      "255\thttp://www.yahoo.com.tw/\n",
      "219\thttp://tw.yahoo.com/\n"
     ]
    }
   ],
   "source": [
    "sql = \"select visit_count, url from urls order by url;\"\n",
    "cu.execute(sql)\n",
    "res=cu.fetchall()\n",
    "print \"[COMMAND(num_of_res=%d)]:%s\"%(len(res), sql)\n",
    "for r in sorted(res, reverse=True)[:10]:\n",
    "    print \"%s\\t%s\"%(r[0], r[1])"
   ]
  },
  {
   "cell_type": "markdown",
   "metadata": {},
   "source": [
    "## 3.4 網址的處理 Combine urls according to their hosts\n",
    "* 注意看下面query後的結果，顯然如果是mail.google.com開頭的網址，應該都算進mail.google.com就好，不要有那麼多個不一樣的網址。\n",
    "        874\thttp://mail.google.com/\n",
    "        654\thttps://www.facebook.com/\n",
    "        500\thttp://www.facebook.com/\n",
    "        429\thttps://mail.google.com/\n",
    "        407\thttps://mail.google.com/mail/\n",
    "        403\thttps://mail.google.com/mail/u/0/\n",
    "        292\thttps://mail.google.com/mail/u/0/#label/%5Bntnulib%5D\n",
    "        270\thttp://comic.sfacg.com/\n",
    "        255\thttp://www.yahoo.com.tw/\n",
    "        219\thttp://tw.yahoo.com/\n",
    "* 所以我現在希望能夠把前面開頭是mail.google.com的都算成是拜訪同一個網址，並且累計總共拜訪幾次。\n",
    "* 相當於要建一個dictionary 把網址前段mapping到出現次數的加總。\n",
    "* 而現在的問題是要怎麼把網址斷開？\n",
    "\n",
    "### 3.4.1 string operations\n",
    "* 各位是否還記得我們曾經看過一個程式如下，他用sentences.split()把所有的字通通斷開了。\n",
    "    1. 把所有的奇怪的字元刪除，包含\n",
    "        >!\"#$%&'()*+,-./:;<=>?@[\\]^_`{|}~\n",
    "            sentences = sentences.translate(None, string.punctuation)\n",
    "    2. 把所有的字轉小寫\n",
    "            sentences = sentences.lower()\n",
    "    3. 把要輸入的字串依照空白斷開\n",
    "            wordlist = sentences.split()\n",
    "    4. 用for-each讀取wordlist中的每一個word，看他出現幾次。"
   ]
  },
  {
   "cell_type": "code",
   "execution_count": 5,
   "metadata": {
    "collapsed": false
   },
   "outputs": [],
   "source": [
    "# import string\n",
    "# sentences = 'All men have stars, but they are not the same things for different people. For some, who are travelers, the stars are guides. For others they are no more than little lights in the sky. For others, who are scholars, they are problems... But all these stars are silent. You-You alone will have stars as no one else has them... In one of the stars I shall be living. In one of them I shall be laughing. And so it will be as if all the stars will be laughing when you look at the sky at night..You, only you, will have stars that can laugh! And when your sorrow is comforted (time soothes all sorrows) you will be content that you have known me... You will always be my friend. You will want to laugh with me. And you will sometimes open your window, so, for that pleasure... It will be as if, in place of the stars, I had given you a great number of little bells that knew how to laugh'\n",
    "# sentences = sentences.translate(None, string.punctuation)\n",
    "# sentences = sentences.lower()\n",
    "# wdict = {}\n",
    "# for word in sentences.split():\n",
    "#     if not wdict.has_key(word):\n",
    "#         wdict[word] = 0\n",
    "#     wdict[word] += 1\n",
    "# for f, q in sorted(((freq, word) for word, freq in wdict.items()), reverse=True)[:10]:\n",
    "#     print f, q\n",
    "# plt.hist(wdict.values(), facecolor='green', alpha=0.5)# hist:histogram"
   ]
  },
  {
   "cell_type": "markdown",
   "metadata": {},
   "source": [
    "### 3.4.2 split the url by \"/\""
   ]
  },
  {
   "cell_type": "code",
   "execution_count": 6,
   "metadata": {
    "collapsed": false
   },
   "outputs": [
    {
     "name": "stdout",
     "output_type": "stream",
     "text": [
      "mail.google.com\n"
     ]
    }
   ],
   "source": [
    "urlstr = 'https://mail.google.com/mail/u/0/#label/%5Bntnulib%5D'\n",
    "# print urlstr.split('/')\n",
    "urlseq = urlstr.split('/')\n",
    "print urlseq[2]"
   ]
  },
  {
   "cell_type": "code",
   "execution_count": 7,
   "metadata": {
    "collapsed": false
   },
   "outputs": [
    {
     "name": "stdout",
     "output_type": "stream",
     "text": [
      "[4674, u'mail.google.com']\n",
      "[3166, u'comic.sfacg.com']\n",
      "[3076, u'www.google.com']\n",
      "[1731, u'www.facebook.com']\n",
      "[1295, u'www.youtube.com']\n",
      "[907, u'moodle.ntnu.edu.tw']\n",
      "[883, u'www.google.com.tw']\n",
      "[764, u'tw.news.yahoo.com']\n",
      "[570, u'coldpic.sfacg.com']\n",
      "[551, u'docs.google.com']\n",
      "[386, u'jlis.glis.ntnu.edu.tw']\n",
      "[362, u'www.books.com.tw']\n",
      "[301, u'plus.google.com']\n",
      "[255, u'www.yahoo.com.tw']\n",
      "[237, u'remarks.sinaapp.com']\n",
      "[236, u'translate.google.com']\n",
      "[219, u'tw.yahoo.com']\n",
      "[203, u'local-ntp']\n",
      "[202, u'drive.google.com']\n",
      "[199, u'www.mobile01.com']\n"
     ]
    }
   ],
   "source": [
    "## combine urls according to the 1st segment of url\n",
    "\n",
    "url_dict = {}\n",
    "for item in res:\n",
    "    urlsegs = item[1].split('/')\n",
    "    if len(urlsegs) >= 2:\n",
    "        url_dict.setdefault(urlsegs[2], 0)\n",
    "        url_dict[urlsegs[2]] += item[0]\n",
    "res_list = []\n",
    "for k, v in url_dict.items():\n",
    "    res_list.append([v, k])\n",
    "for r in sorted(res_list, reverse=True)[:20]:\n",
    "    print r\n",
    "\n",
    "#     try:\n",
    "#         url_dict.setdefault(urlseg[2], 0)\n",
    "#         url_dict[urlseg[2]] += item[0]\n",
    "#     except:\n",
    "#         pass\n",
    "#     res_list = url_dict.items()\n",
    "#     res_list.sort(key=lambda s:s[1], reverse=True)\n",
    "#     return res_list"
   ]
  },
  {
   "cell_type": "markdown",
   "metadata": {},
   "source": [
    "##3.5 Convert the block of database query to a function\n",
    "* 因為下面這兩行常常會用到，不如把它轉成一個「功能性的區塊」，就是function。\n",
    "        cu.execute(sql)\n",
    "        res=cu.fetchall()\n",
    "* y = func(a, b) = sqrt(axa + bxb)\n",
    "    * y稱為傳回值 return value\n",
    "    * a, b為傳入函式的值。\n",
    "    * func(a, b) = sqrt(axa + bxb) 稱為func函式的定義。\n"
   ]
  },
  {
   "cell_type": "code",
   "execution_count": 8,
   "metadata": {
    "collapsed": false
   },
   "outputs": [],
   "source": [
    "def query(sql):\n",
    "    cu.execute(sql)\n",
    "    res=cu.fetchall()\n",
    "    return res"
   ]
  },
  {
   "cell_type": "code",
   "execution_count": null,
   "metadata": {
    "collapsed": false
   },
   "outputs": [],
   "source": [
    "# res = query(\"select url,visit_time, from_visit, transition, visit_duration from visits order by id ;\") \n",
    "# res = query(\"SELECT visits.id, visits.visit_time, visits.visit_duration, urls.url FROM visits INNER JOIN urls ON visits.url=urls.id;\")"
   ]
  },
  {
   "cell_type": "code",
   "execution_count": null,
   "metadata": {
    "collapsed": true
   },
   "outputs": [],
   "source": [
    "# def top_n_url2(cu, n=None, sql=\"select url,visit_count from urls order by url ;\"):\n",
    "#     res = query(cu, sql)\n",
    "#     uniq_res = {}\n",
    "#     for item in res:\n",
    "# #         urlseg = item[0].split('/')\n",
    "# #         print urlseg[2]\n",
    "#         urlhost = urlparse.urlparse(item[0]).netloc   # for getting host from url\n",
    "#         uniq_res.setdefault(urlhost, 0)\n",
    "#         uniq_res[urlhost] += item[1]\n",
    "#     res_list = uniq_res.items()\n",
    "#     res_list.sort(key=lambda x:x[1],reverse=True)\n",
    "#     for r in res_list[:10]:\n",
    "#         print r\n",
    "#     return res_list[:n]\n",
    "# res = top_n_url2(cu, 10)"
   ]
  },
  {
   "cell_type": "markdown",
   "metadata": {},
   "source": [
    "##3.6 Query the visits table by the following sql\n",
    "* 用sql browser觀察visits這個表，發現表中的url欄位儲存的不是真正的網址，而只有儲存網址的id。\n",
    "* 而這個id，要對應到urls這個資料表的id欄位，才可以查出他所對應到的網址是什麼（urls中的url欄位）。所以要寫一道sql的查詢指令，\"INNER JOIN\"兩個表（你在這邊不需要知道INNER JOIN是什麼，只要你知道下面這道指令的意思就好了）。\n",
    "        SELECT urls.url, visits.visit_time, visits.visit_duration, visits.id, visits.from_visit, visits.transition, visits.segment_id, urls.id FROM visits INNER JOIN urls ON visits.url=urls.id;\n",
    "* 如果你想更瞭解SQL指令，可以參閱w3school上的說明。w3school SQL Introduction http://www.w3schools.com/sql/sql_intro.asp。"
   ]
  },
  {
   "cell_type": "code",
   "execution_count": 9,
   "metadata": {
    "collapsed": false
   },
   "outputs": [
    {
     "name": "stdout",
     "output_type": "stream",
     "text": [
      "[(u'https://www.google.com.tw/search?q=ma&oq=ma&aqs=chrome..69i57j69i65j0j5j0.361j0&sourceid=chrome&ie=UTF-8', 13024375992405427, 4763264, 1, 0, 838860805, 0, 261), (u'http://mail.google.com/', 13024375995839026, 0, 2, 0, 268435457, 1, 262)]\n"
     ]
    }
   ],
   "source": [
    "res=query(\"SELECT urls.url, visits.visit_time, visits.visit_duration, visits.id, visits.from_visit, visits.transition, visits.segment_id, urls.id FROM visits INNER JOIN urls ON visits.url=urls.id;\")\n",
    "print res[:2]"
   ]
  },
  {
   "cell_type": "markdown",
   "metadata": {},
   "source": [
    "##3.7 Convert timestamp to readable string\n",
    "* 針對這樣的結果，看似有一些手續要處理，第一個，取出網址的前段，第二個，轉換時間成為python讀得懂的格式，不然根本看不懂。\n",
    "* 這個看似整數的時間是網路處理時間的方法，為了讓python讀得懂這串數字是什麼，可以使用人家已經寫好的時間函式，把整數timestamp轉換為python datetime的方法可查詢\"convert timestamp to datetime python\"\n",
    "    * 獲得以下結果http://stackoverflow.com/questions/9744775/how-to-convert-integer-timestamp-to-python-datetime\n",
    "            >>> import datetime\n",
    "            >>> your_timestamp = 1331856000000\n",
    "            >>> date = datetime.datetime.fromtimestamp(your_timestamp / 1e3)\n",
    "* 因為該整數是以microsecond來累計，所以要除以1000，標準的做法是除以1e3。\n",
    "* duration也要轉，"
   ]
  },
  {
   "cell_type": "code",
   "execution_count": 10,
   "metadata": {
    "collapsed": false
   },
   "outputs": [
    {
     "name": "stdout",
     "output_type": "stream",
     "text": [
      "13024375992405427\n",
      "www.google.com.tw 2013-09-23 10:13:12.405427 0:00:04.763264\n",
      "13024375995839026\n",
      "mail.google.com 2013-09-23 10:13:15.839026 0:00:00\n",
      "13024375995839026\n",
      "mail.google.com 2013-09-23 10:13:15.839026 0:00:00\n",
      "13024375996831155\n",
      "mail.google.com 2013-09-23 10:13:16.831155 0:00:00\n",
      "13024375996831155\n",
      "accounts.google.com 2013-09-23 10:13:16.831155 0:00:00\n",
      "13024376003875352\n",
      "accounts.google.com 2013-09-23 10:13:23.875352 0:01:58.716769\n",
      "13024376004883494\n",
      "mail.google.com 2013-09-23 10:13:24.883494 0:00:00\n",
      "13024376004883494\n",
      "mail.google.com 2013-09-23 10:13:24.883494 0:00:00\n",
      "13024376004883494\n",
      "mail.google.com 2013-09-23 10:13:24.883494 0:00:00\n",
      "13024376006908314\n",
      "mail.google.com 2013-09-23 10:13:26.908314 0:00:00\n"
     ]
    }
   ],
   "source": [
    "epoch_start = datetime.datetime(1601,1,1) + datetime.timedelta(hours = 8)\n",
    "for r in res[:10]:\n",
    "    # retrieve the first segment of url\n",
    "    urlhost = urlparse.urlparse(r[0]).netloc\n",
    "    # convert integer time stamp to datetime\n",
    "    print r[1]\n",
    "    dt = datetime.timedelta(microseconds = r[1]) ## 1e3 means 1000\n",
    "    duration = datetime.timedelta(microseconds = r[2])\n",
    "    print urlhost, epoch_start+dt, duration\n"
   ]
  },
  {
   "cell_type": "markdown",
   "metadata": {},
   "source": [
    "##3.8 getTime() convert timestamp to python datatime"
   ]
  },
  {
   "cell_type": "code",
   "execution_count": 11,
   "metadata": {
    "collapsed": true
   },
   "outputs": [],
   "source": [
    "def getTime(timestamp, pivot=\"time\"):\n",
    "    newtime = str(timestamp)\n",
    "    stripped1 = newtime.strip(' (),L')\n",
    "    ms = int(stripped1)\n",
    "    delta = datetime.timedelta(microseconds = ms)\n",
    "    epoch_start = datetime.datetime(1601,1,1) + datetime.timedelta(hours = 8)\n",
    "\n",
    "    if pivot==\"duration\":\n",
    "        return delta\n",
    "    else:\n",
    "        return epoch_start + delta"
   ]
  },
  {
   "cell_type": "code",
   "execution_count": 15,
   "metadata": {
    "collapsed": false
   },
   "outputs": [
    {
     "name": "stdout",
     "output_type": "stream",
     "text": [
      ".......LOADING DATA\n"
     ]
    },
    {
     "ename": "TypeError",
     "evalue": "query() takes exactly 1 argument (2 given)",
     "output_type": "error",
     "traceback": [
      "\u001b[0;31m---------------------------------------------------------------------------\u001b[0m",
      "\u001b[0;31mTypeError\u001b[0m                                 Traceback (most recent call last)",
      "\u001b[0;32m<ipython-input-15-e296fb2affb7>\u001b[0m in \u001b[0;36m<module>\u001b[0;34m()\u001b[0m\n\u001b[1;32m     11\u001b[0m     \u001b[0;32mprint\u001b[0m \u001b[0msegment_dict\u001b[0m\u001b[0;34m\u001b[0m\u001b[0m\n\u001b[1;32m     12\u001b[0m     \u001b[0;32mreturn\u001b[0m \u001b[0mquery_dict\u001b[0m\u001b[0;34m,\u001b[0m \u001b[0msegment_dict\u001b[0m\u001b[0;34m\u001b[0m\u001b[0m\n\u001b[0;32m---> 13\u001b[0;31m \u001b[0mquery_dict\u001b[0m\u001b[0;34m,\u001b[0m \u001b[0msegment_dict\u001b[0m \u001b[0;34m=\u001b[0m \u001b[0mloaddata\u001b[0m\u001b[0;34m(\u001b[0m\u001b[0mcu\u001b[0m\u001b[0;34m)\u001b[0m\u001b[0;34m\u001b[0m\u001b[0m\n\u001b[0m",
      "\u001b[0;32m<ipython-input-15-e296fb2affb7>\u001b[0m in \u001b[0;36mloaddata\u001b[0;34m(cu)\u001b[0m\n\u001b[1;32m      2\u001b[0m     \u001b[0;32mprint\u001b[0m \u001b[0;34m\".......LOADING DATA\"\u001b[0m\u001b[0;34m\u001b[0m\u001b[0m\n\u001b[1;32m      3\u001b[0m     \u001b[0msegment_dict\u001b[0m\u001b[0;34m,\u001b[0m \u001b[0mquery_dict\u001b[0m \u001b[0;34m=\u001b[0m \u001b[0;34m{\u001b[0m\u001b[0;34m}\u001b[0m\u001b[0;34m,\u001b[0m \u001b[0;34m{\u001b[0m\u001b[0;34m}\u001b[0m\u001b[0;34m\u001b[0m\u001b[0m\n\u001b[0;32m----> 4\u001b[0;31m     \u001b[0mres\u001b[0m \u001b[0;34m=\u001b[0m \u001b[0mquery\u001b[0m\u001b[0;34m(\u001b[0m\u001b[0mcu\u001b[0m\u001b[0;34m,\u001b[0m \u001b[0;34m\"select id, name, url_id from segments;\"\u001b[0m\u001b[0;34m)\u001b[0m\u001b[0;34m\u001b[0m\u001b[0m\n\u001b[0m\u001b[1;32m      5\u001b[0m     \u001b[0msegment_dict\u001b[0m\u001b[0;34m[\u001b[0m\u001b[0;36m0\u001b[0m\u001b[0;34m]\u001b[0m\u001b[0;34m=\u001b[0m\u001b[0;34m\"UNKNOWN\"\u001b[0m\u001b[0;34m\u001b[0m\u001b[0m\n\u001b[1;32m      6\u001b[0m     \u001b[0;32mfor\u001b[0m \u001b[0mr\u001b[0m \u001b[0;32min\u001b[0m \u001b[0mres\u001b[0m\u001b[0;34m:\u001b[0m\u001b[0;34m\u001b[0m\u001b[0m\n",
      "\u001b[0;31mTypeError\u001b[0m: query() takes exactly 1 argument (2 given)"
     ]
    }
   ],
   "source": [
    "def loaddata(cu):\n",
    "    print \".......LOADING DATA\"\n",
    "    segment_dict, query_dict = {}, {}\n",
    "    res = query(cu, \"select id, name, url_id from segments;\")\n",
    "    segment_dict[0]=\"UNKNOWN\"\n",
    "    for r in res:\n",
    "        segment_dict[r[0]] = r[1]\n",
    "    res = query(cu, \"select url_id, lower_term from keyword_search_terms;\")\n",
    "    for r in res:\n",
    "        query_dict[r[0]] = r[1]\n",
    "    print segment_dict\n",
    "    return query_dict, segment_dict\n",
    "query_dict, segment_dict = loaddata(cu)"
   ]
  },
  {
   "cell_type": "code",
   "execution_count": 12,
   "metadata": {
    "collapsed": true
   },
   "outputs": [],
   "source": [
    "def get_transition(transition):\n",
    "    code = 0xff\n",
    "    transition = code & transition\n",
    "\n",
    "    flag=\"\"\n",
    "    if transition==0:\n",
    "        flag = \"CLICK_LINK\"     ##\"LINK: User reached page by clicking a link on another page\"\n",
    "    elif transition==1:\n",
    "        flag = \"TYPE_URL\"       ##\"TYPED: User typed page in URL bar\"\n",
    "    elif transition==2:\n",
    "        flag = \"AUTO_BOOKMARK\"  ##\"AUTO BOOKMARK: User got to this page through a suggestion in the UI\"\n",
    "    elif transition==3:\n",
    "        flag = \"AUTO_SUBFRAME\"  ##\"AUTO SUBFRAME: Content automatically loaded in a non-toplevel frame\"\n",
    "    elif transition==4:\n",
    "        flag = \"MANU_SUBFRAME\"  ##\"MANUAL SUBFRAME: Subframe navigation explicitly requested by the user\"\n",
    "    elif transition==5:\n",
    "        flag = \"GENERATED\"      ##\"GENERATED: User typed page in the URL bar and selected an entry that did not look like a URL\"\n",
    "    elif transition==6:\n",
    "        flag = \"START PAGE\"     ##\"START PAGE: Page was specified in the command line or is the start page\"\n",
    "    elif transition==7:\n",
    "        flag = \"FORM SUBMIT\"    ##\"FORM SUBMIT: User filled out values in a form and submitted it\"\n",
    "    elif transition==8:\n",
    "        flag = \"RELOAD\"         ##\"RELOAD: User reloaded the page\"\n",
    "    elif transition==9:\n",
    "        flag = \"KEYWORD\"        ##\"KEYWORD: URL generated from a replaceable keyword other than the default search provider\"\n",
    "    elif transition==10:\n",
    "        flag = \"KEYWORD GENERATED\"  ##\"KEYWORD GENERATED: Visit was generated by a keyword\"\n",
    "    else:\n",
    "        flag = \"UNKNOW\"          ##\"Unable to understand the transition value. Check, something is horribly wrong here :\"\n",
    "    return flag"
   ]
  },
  {
   "cell_type": "code",
   "execution_count": 13,
   "metadata": {
    "collapsed": true
   },
   "outputs": [],
   "source": [
    "def getvisit(cu, query_dict):\n",
    "    res=query(cu, \"SELECT urls.url, visits.visit_time, visits.visit_duration, visits.id, visits.from_visit, visits.transition, visits.segment_id, urls.id FROM visits INNER JOIN urls ON visits.url=urls.id;\")\n",
    "    parsed_res = []\n",
    "    for item in res:\n",
    "        urlhost = urlparse.urlparse(item[0]).netloc\n",
    "        if item[7] in query_dict:\n",
    "            queryterm = query_dict[item[7]]\n",
    "        else:\n",
    "            queryterm = \"\"\n",
    "        parsed_res.append([urlhost, getTime(item[1]), getTime(item[2], \"duration\"), item[3], item[4], get_transition(item[5]), queryterm])\n",
    "#         parsed_res.append([urlhost, item[1], item[2]])\n",
    "    parsed_res.sort(key=lambda x:x[1])\n",
    "    return parsed_res"
   ]
  },
  {
   "cell_type": "code",
   "execution_count": 14,
   "metadata": {
    "collapsed": false
   },
   "outputs": [
    {
     "ename": "NameError",
     "evalue": "name 'query_dict' is not defined",
     "output_type": "error",
     "traceback": [
      "\u001b[0;31m---------------------------------------------------------------------------\u001b[0m",
      "\u001b[0;31mNameError\u001b[0m                                 Traceback (most recent call last)",
      "\u001b[0;32m<ipython-input-14-7f778508e700>\u001b[0m in \u001b[0;36m<module>\u001b[0;34m()\u001b[0m\n\u001b[0;32m----> 1\u001b[0;31m \u001b[0mvisits\u001b[0m \u001b[0;34m=\u001b[0m \u001b[0mgetvisit\u001b[0m\u001b[0;34m(\u001b[0m\u001b[0mcu\u001b[0m\u001b[0;34m,\u001b[0m \u001b[0mquery_dict\u001b[0m\u001b[0;34m)\u001b[0m\u001b[0;34m\u001b[0m\u001b[0m\n\u001b[0m\u001b[1;32m      2\u001b[0m \u001b[0;32mfor\u001b[0m \u001b[0mv\u001b[0m \u001b[0;32min\u001b[0m \u001b[0mvisits\u001b[0m\u001b[0;34m[\u001b[0m\u001b[0;34m:\u001b[0m\u001b[0;36m30\u001b[0m\u001b[0;34m]\u001b[0m\u001b[0;34m:\u001b[0m\u001b[0;34m\u001b[0m\u001b[0m\n\u001b[1;32m      3\u001b[0m     print \"%s\\t%s\\t%s\\t%s\\t%s\\t%s\\t%s\"%(v[1].strftime('%Y-%m-%d %H:%M:%S'), \n\u001b[1;32m      4\u001b[0m                             \u001b[0mv\u001b[0m\u001b[0;34m[\u001b[0m\u001b[0;36m2\u001b[0m\u001b[0;34m]\u001b[0m\u001b[0;34m.\u001b[0m\u001b[0mseconds\u001b[0m\u001b[0;34m,\u001b[0m\u001b[0;34m\u001b[0m\u001b[0m\n\u001b[1;32m      5\u001b[0m                             \u001b[0mv\u001b[0m\u001b[0;34m[\u001b[0m\u001b[0;36m3\u001b[0m\u001b[0;34m]\u001b[0m\u001b[0;34m,\u001b[0m\u001b[0;34m\u001b[0m\u001b[0m\n",
      "\u001b[0;31mNameError\u001b[0m: name 'query_dict' is not defined"
     ]
    }
   ],
   "source": [
    "visits = getvisit(cu, query_dict)\n",
    "for v in visits[:30]:\n",
    "    print \"%s\\t%s\\t%s\\t%s\\t%s\\t%s\\t%s\"%(v[1].strftime('%Y-%m-%d %H:%M:%S'), \n",
    "                            v[2].seconds,\n",
    "                            v[3], \n",
    "                            v[4],\n",
    "                            v[5],\n",
    "                            v[6],\n",
    "                            v[0])"
   ]
  },
  {
   "cell_type": "code",
   "execution_count": null,
   "metadata": {
    "collapsed": true
   },
   "outputs": [],
   "source": [
    "def visitfilter(inlist, FILTER=None, DEL=False):\n",
    "    res = []\n",
    "    filter_in = ['dropbox', 'dictionary', 'facebook', 'mail', 'youtube', 'toasty', 'comic', 'dm5', 'mobile01']\n",
    "    filter_out = ['account', 'ftp', 'itc']\n",
    "    if FILTER == None:\n",
    "        return inlist\n",
    "    if FILTER == \"Exclude\":\n",
    "        for item in inlist:\n",
    "            if len([x for x in filter_out if x in item[0]])==0:\n",
    "                res.append(item)\n",
    "    if FILTER == \"Include\":\n",
    "        for item in inlist:\n",
    "            if len([x for x in filter_in if x in item[0]])>0:\n",
    "                res.append(item)\n",
    "    return res"
   ]
  },
  {
   "cell_type": "code",
   "execution_count": null,
   "metadata": {
    "collapsed": true
   },
   "outputs": [],
   "source": [
    "def merge_visit(visits):\n",
    "    print \"VISITS BEFORE MERGE:%d\"%(len(visits))\n",
    "    res = []\n",
    "    uniq_url = None\n",
    "    for visit in visits:\n",
    "        if uniq_url != visit[0]:\n",
    "            uniq_url = visit[0]\n",
    "            res.append([uniq_url, visit[1], visit[1]+visit[2], visit[2]])\n",
    "        else:\n",
    "            try:\n",
    "                res[-1][2] = visit[1]+visit[2]\n",
    "                res[-1][3] += visit[2]\n",
    "            except:\n",
    "                print res[-1]\n",
    "    print \"VISITS BEFORE MERGE:%d\"%(len(res))\n",
    "    return res"
   ]
  },
  {
   "cell_type": "code",
   "execution_count": null,
   "metadata": {
    "collapsed": false
   },
   "outputs": [],
   "source": [
    "\n",
    "filtered_visits = visitfilter(visits, None) ##FILTER = Exclude, Include, or None\n",
    "print \"%s\\t%-14s\\t%s\\t%-10s\\t%-8s\\t%s\\t%s\"%('date', 'time', 'duration', 'from', 'transition', 'to', 'url')\n",
    "for r in filtered_visits[:10]:\n",
    "    print \"%s\\t%-14s\\t%s\\t%-10s\\t%-8s\\t%s\\t%s\"%(r[1], r[2],  r[4], r[5], r[6], r[3], r[0])"
   ]
  },
  {
   "cell_type": "code",
   "execution_count": null,
   "metadata": {
    "collapsed": false
   },
   "outputs": [],
   "source": [
    "merged_visits = merge_visit(filtered_visits)\n",
    "print merged_visits[0]\n",
    "for r in merged_visits:\n",
    "#     print \"%s\\t%s\\t%s\\t%s\"%(r[0], r[1].isoformat(), r[2].isoformat(), r[3].seconds)\n",
    "    print \"%s\\t%s\\t%s\\t%s\"%(r[1].strftime('%Y-%m-%d %H:%M:%S'), r[2].strftime('%Y-%m-%d %H:%M:%S'), r[3].seconds, r[0])"
   ]
  },
  {
   "cell_type": "code",
   "execution_count": null,
   "metadata": {
    "collapsed": true
   },
   "outputs": [],
   "source": [
    "def report(vlist, fname):\n",
    "    fout=file(fname, 'w')\n",
    "    fout.write('''\n",
    "<script type=\"text/javascript\" src=\"https://www.google.com/jsapi?autoload={'modules':[{'name':'visualization',\n",
    "       'version':'1','packages':['timeline']}]}\"></script>\n",
    "<script type=\"text/javascript\">\n",
    "\n",
    "google.setOnLoadCallback(drawChart);\n",
    "function drawChart() {\n",
    "\n",
    "  var container = document.getElementById('example5.1');\n",
    "  var chart = new google.visualization.Timeline(container);\n",
    "  var dataTable = new google.visualization.DataTable();\n",
    "  dataTable.addColumn({ type: 'string', id: 'Room' });\n",
    "  dataTable.addColumn({ type: 'string', id: 'Name' });\n",
    "  dataTable.addColumn({ type: 'date', id: 'Start' });\n",
    "  dataTable.addColumn({ type: 'date', id: 'End' });\n",
    "  dataTable.addRows([\n",
    "    ''')\n",
    "    for v in vlist:\n",
    "        fout.write('[\"%s\", \"%s\", new Date(0,0,0,%d,%d,%d), new Date(0,0,0,%d,%d,%d)],\\n'%(v[1].strftime('%Y-%m-%d'), v[0], v[1].hour, v[1].minute, v[1].second, v[2].hour, v[2].minute, v[2].second))\n",
    "    fout.write('''\n",
    "        ]);\n",
    "  var options = {\n",
    "      colors:['#33ccff', '#ff66cc', '#339933','#ffcc33','#ff0000', '#333333', '#996600'],\n",
    "    timeline: { rowLabelStyle: {fontName: 'Helvetica', fontSize: 24, color: '#603913' },\n",
    "                barLabelStyle: { fontName: 'Garamond', fontSize: 14 } }\n",
    "  };\n",
    "  chart.draw(dataTable, options);\n",
    "}\n",
    "</script>\n",
    "<div id=\"example5.1\" style=\"width: 3900px; height: 1000px;\"></div>\n",
    "    ''')\n",
    "    fout.close()\n"
   ]
  },
  {
   "cell_type": "code",
   "execution_count": null,
   "metadata": {
    "collapsed": true
   },
   "outputs": [],
   "source": [
    "def getPeriod(vlist, s, e):\n",
    "    startTime = datetime.datetime.strptime(s, \"%Y-%m-%d %H:%M:%S\")\n",
    "    endTime = datetime.datetime.strptime(e, \"%Y-%m-%d %H:%M:%S\")\n",
    "    rlist=[]\n",
    "    for v in vlist:\n",
    "        if startTime < v[1] < endTime:\n",
    "            if v[1].day != v[2].day:\n",
    "                dayend = datetime.datetime.strptime(v[1].strftime('%Y-%m-%d')+\" 23:59:59\", \"%Y-%m-%d %H:%M:%S\")\n",
    "                nextday = datetime.datetime.strptime(v[2].strftime('%Y-%m-%d')+\" 00:00:00\", \"%Y-%m-%d %H:%M:%S\")\n",
    "                rlist.append([v[0], v[1], dayend, dayend-v[1]])\n",
    "                rlist.append([v[0], nextday, v[2], v[2]-nextday])\n",
    "            else:\n",
    "                rlist.append(v)\n",
    "    return rlist\n",
    "#         if v[1] > v[2]:\n",
    "#             print v[1].day, v[2].day, v[1].strftime('%Y-%m-%d %H:%M:%S'), v[2].strftime('%Y-%m-%d %H:%M:%S')\n",
    "#         else:\n"
   ]
  },
  {
   "cell_type": "code",
   "execution_count": null,
   "metadata": {
    "collapsed": false
   },
   "outputs": [],
   "source": [
    "rlist = getPeriod(merged_visits, \"2013-12-01 00:00:00\", \"2015-01-01 00:00:00\")\n",
    "for r in rlist:\n",
    "    print r\n",
    "report(rlist, \"viz.html\")"
   ]
  },
  {
   "cell_type": "markdown",
   "metadata": {},
   "source": [
    "# Reference"
   ]
  },
  {
   "cell_type": "code",
   "execution_count": null,
   "metadata": {
    "collapsed": true
   },
   "outputs": [],
   "source": [
    "# Query a table\n",
    "# def show_table(cu, name=\"%\"):\n",
    "#     sql=\"SELECT * FROM sqlite_master WHERE type='table' and name like '%s';\"%(name)\n",
    "#     return query(cu, sql)\n",
    "# tb = show_table(cu) # return all table\n",
    "# tb = show_table(cu, 'urls') # return table with name like urls"
   ]
  }
 ],
 "metadata": {
  "kernelspec": {
   "display_name": "Python 2",
   "language": "python",
   "name": "python2"
  },
  "language_info": {
   "codemirror_mode": {
    "name": "ipython",
    "version": 2
   },
   "file_extension": ".py",
   "mimetype": "text/x-python",
   "name": "python",
   "nbconvert_exporter": "python",
   "pygments_lexer": "ipython2",
   "version": "2.7.6"
  }
 },
 "nbformat": 4,
 "nbformat_minor": 0
}
