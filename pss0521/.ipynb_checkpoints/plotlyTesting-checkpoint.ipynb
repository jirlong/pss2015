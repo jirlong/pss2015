{
 "cells": [
  {
   "cell_type": "markdown",
   "metadata": {},
   "source": [
    "# Create plot.ly account and get API key\n",
    "* go to plot.ly\n",
    "* https://plot.ly/settings/api to get your user name and key\n",
    "* visist getting start page to install plotly API, https://plot.ly/python/getting-started/"
   ]
  },
  {
   "cell_type": "code",
   "execution_count": 4,
   "metadata": {
    "collapsed": true
   },
   "outputs": [],
   "source": [
    "import plotly.plotly as py\n",
    "py.sign_in(username, apikey)"
   ]
  },
  {
   "cell_type": "code",
   "execution_count": 5,
   "metadata": {
    "collapsed": false
   },
   "outputs": [
    {
     "name": "stdout",
     "output_type": "stream",
     "text": [
      "https://plot.ly/~jirlong/21\n"
     ]
    },
    {
     "name": "stderr",
     "output_type": "stream",
     "text": [
      "/Users/jirlong/Library/Enthought/Canopy_64bit/User/lib/python2.7/site-packages/requests/packages/urllib3/util/ssl_.py:90: InsecurePlatformWarning:\n",
      "\n",
      "A true SSLContext object is not available. This prevents urllib3 from configuring SSL appropriately and may cause certain SSL connections to fail. For more information, see https://urllib3.readthedocs.org/en/latest/security.html#insecureplatformwarning.\n",
      "\n"
     ]
    }
   ],
   "source": [
    "from plotly.graph_objs import *\n",
    "import numpy as np\n",
    "\n",
    "x = np.random.randn(500)\n",
    "y = np.random.randn(500)+1\n",
    "\n",
    "data = Data([\n",
    "    Histogram2d(\n",
    "        x=x,\n",
    "        y=y\n",
    "    )\n",
    "])\n",
    "plot_url = py.plot(data, filename='2d-histogram')\n",
    "print plot_url"
   ]
  },
  {
   "cell_type": "code",
   "execution_count": 7,
   "metadata": {
    "collapsed": false
   },
   "outputs": [
    {
     "name": "stdout",
     "output_type": "stream",
     "text": [
      "https://plot.ly/~jirlong/21/700/500\n"
     ]
    },
    {
     "data": {
      "text/html": [
       "<iframe height=\"550\" id=\"igraph\" scrolling=\"no\" seamless=\"seamless\" src=\"https://plot.ly/~jirlong/21/700/500\" width=\"750\"></iframe>"
      ],
      "text/plain": [
       "<IPython.core.display.HTML object>"
      ]
     },
     "execution_count": 7,
     "metadata": {},
     "output_type": "execute_result"
    }
   ],
   "source": [
    "from IPython.display import HTML\n",
    "\n",
    "def show_plot(url, width=700, height=500):\n",
    "    s = '<iframe height=\"%s\" id=\"igraph\" scrolling=\"no\" seamless=\"seamless\" src=\"%s\" width=\"%s\"></iframe>' %\\\n",
    "    (height+50, \"/\".join(map(str,[url, width, height])), width+50)\n",
    "    print \"/\".join(map(str,[url, width, height]))\n",
    "    return HTML(s)\n",
    "show_plot(plot_url)"
   ]
  },
  {
   "cell_type": "code",
   "execution_count": 10,
   "metadata": {
    "collapsed": false
   },
   "outputs": [
    {
     "name": "stdout",
     "output_type": "stream",
     "text": [
      "1/2/3/4/5/6/7/8/9/10\n"
     ]
    }
   ],
   "source": [
    "a = [1, 2, 3, 4, 5, 6, 7, 8, 9, 10]\n",
    "print '/'.join([str(i) for i in a] )"
   ]
  },
  {
   "cell_type": "code",
   "execution_count": 18,
   "metadata": {
    "collapsed": false
   },
   "outputs": [],
   "source": [
    "import cPickle as pickle"
   ]
  },
  {
   "cell_type": "code",
   "execution_count": 20,
   "metadata": {
    "collapsed": false
   },
   "outputs": [],
   "source": [
    "newsData  = pickle.load(open('LibNews.min.p', 'rb'))"
   ]
  },
  {
   "cell_type": "code",
   "execution_count": 35,
   "metadata": {
    "collapsed": false
   },
   "outputs": [
    {
     "name": "stdout",
     "output_type": "stream",
     "text": [
      "<type 'list'>\n",
      "6416 美國\n",
      "3576 中國\n",
      "3373 日本\n",
      "2681 英國\n",
      "1484 台灣\n",
      "1365 南韓\n",
      "1165 俄羅斯\n",
      "931 法國\n",
      "711 德國\n",
      "708 北韓\n",
      "699 香港\n",
      "581 印度\n",
      "575 澳洲\n",
      "528 以色列\n",
      "449 菲律賓\n",
      "435 伊朗\n",
      "394 加拿大\n",
      "385 義大利\n",
      "341 阿富汗\n",
      "320 埃及\n",
      "310 敘利亞\n",
      "304 西班牙\n",
      "294 利比亞\n",
      "281 墨西哥\n",
      "268 伊拉克\n",
      "265 馬來西亞\n",
      "252 巴基斯坦\n",
      "250 巴西\n",
      "241 瑞士\n",
      "233 荷蘭\n",
      "229 泰國\n",
      "226 馬利\n",
      "219 新加坡\n",
      "205 瑞典\n",
      "194 沙烏地阿拉伯\n",
      "194 印尼\n",
      "184 紐西蘭\n",
      "182 南非\n",
      "181 越南\n",
      "176 哥倫比亞\n",
      "174 土耳其\n",
      "162 巴勒斯坦\n",
      "150 挪威\n",
      "144 希臘\n",
      "139 緬甸\n",
      "124 比利時\n",
      "121 海地\n",
      "118 智利\n",
      "116 葉門\n",
      "111 丹麥\n",
      "108 波蘭\n",
      "108 愛爾蘭\n",
      "108 前蘇聯\n",
      "106 突尼西亞\n",
      "106 古巴\n",
      "101 阿根廷\n",
      "98 奧地利\n",
      "97 蘇格蘭\n",
      "95 委內瑞拉\n",
      "92 卡達\n",
      "89 蘇丹\n",
      "86 阿拉伯聯合大公國\n",
      "86 烏克蘭\n",
      "83 約旦\n",
      "81 肯亞\n",
      "78 孟加拉國\n",
      "78 冰島\n",
      "75 喬治亞\n",
      "73 芬蘭\n",
      "71 黎巴嫩\n",
      "69 索馬利亞\n",
      "67 柬埔寨\n",
      "64 阿爾及利亞\n",
      "64 巴林\n",
      "62 葡萄牙\n",
      "57 奈及利亞\n",
      "56 捷克\n",
      "54 梵蒂岡\n",
      "49 羅馬尼亞\n",
      "49 澳門\n",
      "48 厄瓜多\n",
      "47 阿曼\n",
      "45 匈牙利\n",
      "44 科威特\n",
      "44 摩洛哥\n",
      "40 幾內亞\n",
      "39 秘魯\n",
      "39 尼泊爾\n",
      "36 哈薩克\n",
      "35 查德\n",
      "34 塞爾維亞\n",
      "33 迦納\n",
      "33 辛巴威\n",
      "31 汶萊\n",
      "31 寮國\n",
      "31 保加利亞\n",
      "30 玻利維亞\n",
      "29 斯里蘭卡\n",
      "29 坦尚尼亞\n",
      "28 盧森堡\n",
      "27 象牙海岸\n",
      "25 衣索比亞\n",
      "25 烏茲別克\n",
      "25 尼日\n",
      "23 巴布亞紐幾內亞\n",
      "22 烏干達\n",
      "22 波札那\n",
      "22 巴拿馬\n",
      "22 多明尼加\n",
      "22 南蘇丹\n",
      "21 瓜地馬拉\n",
      "21 摩納哥\n",
      "20 白俄\n",
      "20 剛果民主共和國\n",
      "19 賴比瑞亞\n",
      "19 科索沃\n",
      "19 尼加拉瓜\n",
      "18 巴拉圭\n",
      "18 加泰隆尼亞\n",
      "17 烏拉圭\n",
      "16 馬爾地夫\n",
      "16 吉爾吉斯\n",
      "15 薩摩亞\n",
      "15 愛沙尼亞\n",
      "15 安哥拉\n",
      "14 馬達加斯加\n",
      "14 茅利塔尼亞\n",
      "14 拉脫維亞\n",
      "14 宏都拉斯\n",
      "14 克羅埃西亞\n",
      "13 賽普勒斯\n",
      "13 東加\n",
      "13 亞塞拜然\n",
      "12 塞內加爾\n",
      "11 阿爾巴尼亞\n",
      "11 立陶宛\n",
      "11 盧安達\n",
      "11 斯洛伐克\n",
      "11 布吉納法索\n",
      "11 哥斯大黎加\n",
      "11 亞美尼亞\n",
      "10 斐濟\n",
      "10 巴哈馬\n",
      "10 塔吉克\n",
      "10 不丹\n",
      "9 薩爾瓦多\n",
      "9 莫洛伊斯蘭解放陣線\n",
      "9 牙買加\n",
      "9 史瓦濟蘭\n",
      "8 獅子山\n",
      "8 東帝汶\n",
      "8 斯洛維尼亞\n",
      "8 尚比亞\n",
      "7 莫三比克\n",
      "7 波多黎各\n",
      "7 土庫曼\n",
      "7 喀麥隆\n",
      "7 吉里巴斯\n",
      "7 吉布地\n",
      "7 列支敦斯登\n",
      "7 中非共和國\n",
      "6 馬爾他\n",
      "6 馬拉威\n",
      "6 蒙特內哥羅\n",
      "6 納米比亞\n",
      "5 馬紹爾群島\n",
      "5 赤道幾內亞\n",
      "5 貝里斯\n",
      "5 蒲隆地\n",
      "5 甘比亞\n",
      "5 帛琉\n",
      "5 吐瓦魯\n",
      "5 加彭\n",
      "4 庫克群島\n",
      "4 厄利垂亞\n",
      "3 馬其頓\n",
      "3 萬那杜\n",
      "3 摩爾多瓦\n",
      "3 密克羅尼西亞聯邦\n",
      "3 安地卡及巴布達\n",
      "3 多哥\n",
      "3 塞席爾\n",
      "2 賴索托\n",
      "2 貝南\n",
      "2 諾魯\n",
      "2 蘇利南\n",
      "2 維德角\n",
      "2 索羅門群島\n",
      "2 波赫\n",
      "2 模里西斯\n",
      "2 格瑞那達\n",
      "2 幾內亞比索\n",
      "2 千里達及托巴哥\n",
      "2 剛果共和國\n",
      "1 蓋亞那\n",
      "1 蒙古國\n",
      "1 聖文森\n",
      "1 聖多美和普林西比\n",
      "1 紐埃\n",
      "1 巴貝多\n",
      "1 安道爾\n",
      "1 多米尼克\n"
     ]
    },
    {
     "data": {
      "text/plain": [
       "(array([ 191.,    5.,    2.,    0.,    1.,    2.,    0.,    0.,    0.,    1.]),\n",
       " array([  1.00000000e+00,   6.42500000e+02,   1.28400000e+03,\n",
       "          1.92550000e+03,   2.56700000e+03,   3.20850000e+03,\n",
       "          3.85000000e+03,   4.49150000e+03,   5.13300000e+03,\n",
       "          5.77450000e+03,   6.41600000e+03]),\n",
       " <a list of 10 Patch objects>)"
      ]
     },
     "execution_count": 35,
     "metadata": {},
     "output_type": "execute_result"
    }
   ],
   "source": [
    "print type(newsData)\n",
    "cdict = {}\n",
    "for news in newsData:\n",
    "#     print '='*60\n",
    "#     print news['title'].strip('\\n')\n",
    "    for c in news['country']:\n",
    "        cdict.setdefault(c, 0)\n",
    "        cdict[c] += 1\n",
    "#         print c,\n",
    "#     print\n",
    "import matplotlib.pyplot as plt\n",
    "for v, c in sorted([(v, c) for c, v in cdict.items()], reverse=True):\n",
    "    print v, c\n",
    "fig = plt.figure(figsize=(16, 12), dpi=64)\n",
    "plt.hist(cdict.values(), facecolor='green', alpha=0.5)\n",
    "# plot_url = py.plot_mpl(fig)\n",
    "# plt.show()"
   ]
  },
  {
   "cell_type": "raw",
   "metadata": {},
   "source": [
    "import plotly.plotly as py\n",
    "from plotly.graph_objs import *\n",
    "\n",
    "from datetime import datetime\n",
    "x = [\n",
    "    datetime(year=2013, month=10, day=04),\n",
    "    datetime(year=2013, month=11, day=05),\n",
    "    datetime(year=2013, month=12, day=06)\n",
    "]\n",
    "\n",
    "data = Data([\n",
    "    Scatter(\n",
    "        x=x,\n",
    "        y=[1, 3, 6]\n",
    "    )\n",
    "])\n",
    "plot_url = py.plot(data, filename='python-datetime')"
   ]
  },
  {
   "cell_type": "code",
   "execution_count": 45,
   "metadata": {
    "collapsed": false
   },
   "outputs": [
    {
     "name": "stdout",
     "output_type": "stream",
     "text": [
      "[{'unhashedCountry': [], 'country': ['\\xe5\\x8f\\xb0\\xe7\\x81\\xa3', '\\xe6\\xb3\\x95\\xe5\\x9c\\x8b'], 'agency': ' \\xe8\\x87\\xaa\\xe7\\x94\\xb1\\xe6\\x99\\x82\\xe5\\xa0\\xb1', 'unhashed_country': ['\\xe5\\x8f\\xb0\\xe7\\x81\\xa3', '\\xe6\\xb3\\x95\\xe5\\x9c\\x8b'], 'date': '2010-01-31', 'title': '\\xe8\\x87\\xaa\\xe6\\x8e\\x8f\\xe8\\x85\\xb0\\xe5\\x8c\\x855000\\xe8\\x90\\xac \\xe5\\xb0\\x8f\\xe5\\xb7\\xa5\\xe5\\xbb\\xa0\\xe8\\x80\\x81\\xe9\\x97\\x86 \\xe7\\xa8\\xae\\xe6\\xa8\\xb9\\xe6\\x95\\x91\\xe5\\x9c\\xb0\\xe7\\x90\\x83\\r\\n', 'id': '201001312460117', 'tags': '\\xe5\\xa0\\xb1\\xe7\\xab\\xa0 | A14 | \\xe5\\x9c\\x8b\\xe9\\x9a\\x9b\\xe6\\x96\\xb0\\xe8\\x81\\x9e | By \\xe8\\xac\\x9d\\xe9\\xb3\\xb3\\xe7\\xa7\\x8b\\xe3\\x80\\x81\\xe6\\xb4\\xaa\\xe7\\xb4\\xa0\\xe5\\x8d\\xbf\\xe3\\x80\\x81\\xe9\\x99\\xb3\\xe5\\x93\\x81\\xe7\\xab\\xb9\\r\\n'}]\n",
      "[('2010-01', 109), ('2010-02', 63), ('2010-03', 115), ('2010-04', 110), ('2010-05', 116), ('2010-06', 108), ('2010-07', 117), ('2010-08', 126), ('2010-09', 128), ('2010-10', 132), ('2010-11', 111), ('2010-12', 160), ('2011-01', 133), ('2011-02', 118), ('2011-03', 119), ('2011-04', 141), ('2011-05', 116), ('2011-06', 125), ('2011-07', 111), ('2011-08', 132), ('2011-09', 140), ('2011-10', 114), ('2011-11', 114), ('2011-12', 103), ('2012-01', 120), ('2012-02', 114), ('2012-03', 131), ('2012-04', 136), ('2012-05', 150), ('2012-06', 128), ('2012-07', 133), ('2012-08', 163), ('2012-09', 140), ('2012-10', 157), ('2012-11', 151), ('2012-12', 146), ('2013-01', 188), ('2013-02', 133), ('2013-03', 133), ('2013-04', 155), ('2013-05', 172), ('2013-06', 190), ('2013-07', 123), ('2013-08', 173), ('2013-09', 174), ('2013-10', 170), ('2013-11', 133), ('2013-12', 142)]\n"
     ]
    },
    {
     "name": "stderr",
     "output_type": "stream",
     "text": [
      "/Users/jirlong/Library/Enthought/Canopy_64bit/User/lib/python2.7/site-packages/requests/packages/urllib3/util/ssl_.py:90: InsecurePlatformWarning:\n",
      "\n",
      "A true SSLContext object is not available. This prevents urllib3 from configuring SSL appropriately and may cause certain SSL connections to fail. For more information, see https://urllib3.readthedocs.org/en/latest/security.html#insecureplatformwarning.\n",
      "\n"
     ]
    }
   ],
   "source": [
    "print newsData[:1]\n",
    "cmdict = {}\n",
    "for news in newsData:\n",
    "    for c in news['country']:\n",
    "        cmdict.setdefault(c, {})\n",
    "        m = news['date'][:7]\n",
    "        cmdict[c].setdefault(m, 0)\n",
    "        cmdict[c][m] += 1\n",
    "# from datetime import datetime\n",
    "mvlist = sorted([(m, v) for m, v in cmdict['美國'].items()])\n",
    "x, y = [], []\n",
    "for mv in mvlist:\n",
    "#     dates = mv[0].split('-')\n",
    "#     year, m = int(dates[0]), int(dates[1])\n",
    "#     x.append(datetime(year=y, month=m))\n",
    "    x.append(mv[0])\n",
    "    y.append(mv[1])\n",
    "data = Data([\n",
    "        Scatter(\n",
    "            x=x,\n",
    "            y=y\n",
    "        )\n",
    "        \n",
    "    ])\n",
    "plot_url = py.plot(data, filename='python-datetime') \n",
    "print mvlist"
   ]
  },
  {
   "cell_type": "raw",
   "metadata": {},
   "source": [
    "import plotly.plotly as py\n",
    "from plotly.graph_objs import *\n",
    "\n",
    "trace1 = Scatter(\n",
    "    x=[0, 1, 2, 3, 4, 5, 6, 7, 8],\n",
    "    y=[8, 7, 6, 5, 4, 3, 2, 1, 0]\n",
    ")\n",
    "trace2 = Scatter(\n",
    "    x=[0, 1, 2, 3, 4, 5, 6, 7, 8],\n",
    "    y=[0, 1, 2, 3, 4, 5, 6, 7, 8]\n",
    ")\n",
    "data = Data([trace1, trace2])\n",
    "layout = Layout(\n",
    "    xaxis=XAxis(\n",
    "        type='log',\n",
    "        autorange=True\n",
    "    ),\n",
    "    yaxis=YAxis(\n",
    "        type='log',\n",
    "        autorange=True\n",
    "    )\n",
    ")\n",
    "fig = Figure(data=data, layout=layout)\n",
    "plot_url = py.plot(fig, filename='plotly-log-axes')"
   ]
  },
  {
   "cell_type": "code",
   "execution_count": 52,
   "metadata": {
    "collapsed": false
   },
   "outputs": [
    {
     "name": "stderr",
     "output_type": "stream",
     "text": [
      "/Users/jirlong/Library/Enthought/Canopy_64bit/User/lib/python2.7/site-packages/requests/packages/urllib3/util/ssl_.py:90: InsecurePlatformWarning:\n",
      "\n",
      "A true SSLContext object is not available. This prevents urllib3 from configuring SSL appropriately and may cause certain SSL connections to fail. For more information, see https://urllib3.readthedocs.org/en/latest/security.html#insecureplatformwarning.\n",
      "\n"
     ]
    }
   ],
   "source": [
    "# for c in cmdict:\n",
    "#     newssum = sum(cmdict[c].values())\n",
    "clist = sorted([(sum(cmdict[c].values()), c) for c in cmdict], reverse=True)\n",
    "scatters = []\n",
    "for totalfreq, c in clist[:30]:\n",
    "    mvlist = sorted([(m, v) for m, v in cmdict[c].items()])\n",
    "    x = [mv[0] for mv in mvlist]\n",
    "    y = [mv[1] for mv in mvlist]\n",
    "    scatters.append(Scatter(x=x, y=y, name = c))\n",
    "data = Data(scatters)\n",
    "fig = Figure(data=data)\n",
    "plot_url = py.plot(fig, filename='plotly-log-axes')\n",
    "        "
   ]
  },
  {
   "cell_type": "code",
   "execution_count": 63,
   "metadata": {
    "collapsed": false
   },
   "outputs": [
    {
     "name": "stdout",
     "output_type": "stream",
     "text": [
      "0.859703795194 南韓 北韓\n",
      "0.712106938702 美國 中國\n",
      "0.710169693405 中國 香港\n",
      "0.632934881925 中國 日本\n",
      "0.6145048875 日本 南韓\n",
      "0.602404002783 美國 香港\n",
      "0.538941561213 法國 德國\n",
      "0.528401349207 中國 南韓\n",
      "0.494707364605 美國 日本\n",
      "0.457623098865 英國 法國\n",
      "0.440539605797 日本 北韓\n",
      "0.432002539472 美國 法國\n",
      "0.431203848914 中國 北韓\n",
      "0.401172315245 以色列 埃及\n",
      "0.370873903274 美國 南韓\n",
      "0.349331881806 印度 澳洲\n",
      "0.34568131707 美國 德國\n",
      "0.343401995627 以色列 伊朗\n",
      "0.339748779227 伊朗 義大利\n",
      "0.337150886765 美國 英國\n"
     ]
    }
   ],
   "source": [
    "c2mlist = {}\n",
    "monthlist = []\n",
    "from scipy.stats.stats import pearsonr\n",
    "for c in cmdict:\n",
    "    for m in cmdict[c]:\n",
    "        if m not in monthlist:\n",
    "            monthlist.append(m)\n",
    "monthlist = sorted(monthlist)\n",
    "c2mlist = {}\n",
    "for c in cmdict:\n",
    "    c2mlist.setdefault(c, [])\n",
    "    for m in monthlist:\n",
    "        if not cmdict[c].has_key(m):\n",
    "            c2mlist[c].append(0)\n",
    "        else:\n",
    "            c2mlist[c].append(cmdict[c][m])\n",
    "\n",
    "cpair = {}\n",
    "clist = sorted([(sum(cmdict[c].values()), c) for c in cmdict], reverse=True)\n",
    "top20c = [c for v, c in clist[:20]]\n",
    "for i, c1 in enumerate(top20c):\n",
    "    for j, c2 in enumerate(top20c):\n",
    "        if c1 != c2 and j > i:\n",
    "            cpair.setdefault((c1, c2), 0)\n",
    "            cpair[(c1, c2)], p = pearsonr(c2mlist[c1], c2mlist[c2])\n",
    "cpairlist = sorted([(r, cs) for cs, r in cpair.items()], reverse=True)\n",
    "for r, cs in cpairlist[:20]:\n",
    "    print r, cs[0], cs[1]\n",
    "            \n",
    "# c2mlist[c] = sorted([(m, v) for m, v in cmdict[c].items()])\n",
    "# for c in c2mlist:\n",
    "#     print c, len(c2mlist[c])\n",
    "    \n",
    "    "
   ]
  }
 ],
 "metadata": {
  "kernelspec": {
   "display_name": "Python 2",
   "language": "python",
   "name": "python2"
  },
  "language_info": {
   "codemirror_mode": {
    "name": "ipython",
    "version": 2
   },
   "file_extension": ".py",
   "mimetype": "text/x-python",
   "name": "python",
   "nbconvert_exporter": "python",
   "pygments_lexer": "ipython2",
   "version": "2.7.6"
  }
 },
 "nbformat": 4,
 "nbformat_minor": 0
}
