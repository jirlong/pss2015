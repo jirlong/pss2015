{
 "cells": [
  {
   "cell_type": "code",
   "execution_count": 4,
   "metadata": {
    "collapsed": true
   },
   "outputs": [],
   "source": [
    "# import twitter\n",
    "from twitter import *\n",
    "token = \"53118769-wLlA6jnOmx9Zz0cxsDMA8FOUxG6BJGC1hWwocMi3e\" #3\n",
    "token_key = \"dGaW6wAzGQUDcLtYOnsBOie3RyYVt0aMFC5nKCe0lbN6g\" #4\n",
    "con_secret = \"SVqAV10DG8HBHUoUBEA\" #1\n",
    "con_secret_key = \"RmwdKHSryKhSousyTx25WFtZtCb1CxfXA1IRPhdf4\"#2"
   ]
  },
  {
   "cell_type": "code",
   "execution_count": 5,
   "metadata": {
    "collapsed": false
   },
   "outputs": [],
   "source": [
    "t = Twitter(\n",
    "auth=OAuth(token, token_key, con_secret, con_secret_key))"
   ]
  },
  {
   "cell_type": "code",
   "execution_count": 17,
   "metadata": {
    "collapsed": false
   },
   "outputs": [],
   "source": [
    "# t.statuses.home_timeline()\n",
    "tweets = t.search.tweets(q=\"#pycon\")"
   ]
  },
  {
   "cell_type": "code",
   "execution_count": 18,
   "metadata": {
    "collapsed": false
   },
   "outputs": [
    {
     "name": "stdout",
     "output_type": "stream",
     "text": [
      "search_metadata\n",
      "statuses\n"
     ]
    }
   ],
   "source": [
    "tweets = t.search.tweets(q=\"taiwan\", lang = 'en', count = 100)\n"
   ]
  },
  {
   "cell_type": "code",
   "execution_count": 32,
   "metadata": {
    "collapsed": false
   },
   "outputs": [
    {
     "name": "stdout",
     "output_type": "stream",
     "text": [
      "100\n",
      "------------------------------\n",
      "Thu May 07 03:49:22 +0000 2015\n",
      "Learn about GAFE Literacy Tools at the 2015 Taiwan Google for Education Summit http://t.co/lqLoFon7q3\n",
      "------------------------------\n",
      "Thu May 07 03:49:19 +0000 2015\n",
      "Learn about GAFE Literacy Tools at the 2015 Taiwan Google for Education Summit http://t.co/LZD49AWzpu\n",
      "------------------------------\n",
      "Thu May 07 03:49:17 +0000 2015\n",
      "اساااا /😢\\ \n",
      "@.trulyhae Hyuk: We, DnE can finally go to Taiwan to meet you all! http://t.co/WfznTs4ISO\n",
      "------------------------------\n",
      "Thu May 07 03:49:16 +0000 2015\n",
      "Learn about GAFE Literacy Tools at the 2015 Taiwan Google for Education Summit http://t.co/Ha8dKjDDox\n",
      "------------------------------\n",
      "Thu May 07 03:49:08 +0000 2015\n",
      "RT @Shay530: YoonA - innisfree『Summer Love』(1280*853)  #2 http://t.co/lBcqlZSpSF http://t.co/PNs2rHjB9t\n",
      "cr.VOGUE Taiwan http://t.co/xuidzJt…\n",
      "#2\n",
      "------------------------------\n",
      "Thu May 07 03:48:41 +0000 2015\n",
      "Between going to Japan or Taiwan, which one is more affordable?? &gt;__&lt;\n",
      "------------------------------\n",
      "Thu May 07 03:48:20 +0000 2015\n",
      "@taiwan_about again\n",
      "------------------------------\n",
      "Thu May 07 03:48:10 +0000 2015\n",
      "@BioskopOrg http://t.co/FdmQgoCMKL ←←download #bokep taiwan show girls  #ngentot #bokep #ngentot #memek #bugil #bispak\n",
      "#bokep\n",
      "#ngentot\n",
      "#bokep\n",
      "#ngentot\n",
      "#memek\n",
      "#bugil\n",
      "#bispak\n",
      "------------------------------\n",
      "Thu May 07 03:48:09 +0000 2015\n",
      "Demon s bloods lineage http://t.co/lhBtDpJK8n\n",
      "------------------------------\n",
      "Thu May 07 03:48:08 +0000 2015\n",
      "@taiwan_about again\n"
     ]
    }
   ],
   "source": [
    "print len(tweets['statuses'])\n",
    "# print tweets['statuses'][7]\n",
    "for k in tweets['statuses'][:10]:\n",
    "    print \"-\"*30\n",
    "    print k['created_at']\n",
    "    print k['text']\n",
    "    words = k['text'].split()\n",
    "    for word in words:\n",
    "        if word.startswith(\"#\"):\n",
    "            print word"
   ]
  },
  {
   "cell_type": "code",
   "execution_count": null,
   "metadata": {
    "collapsed": true
   },
   "outputs": [],
   "source": []
  }
 ],
 "metadata": {
  "kernelspec": {
   "display_name": "Python 2",
   "language": "python",
   "name": "python2"
  },
  "language_info": {
   "codemirror_mode": {
    "name": "ipython",
    "version": 2
   },
   "file_extension": ".py",
   "mimetype": "text/x-python",
   "name": "python",
   "nbconvert_exporter": "python",
   "pygments_lexer": "ipython2",
   "version": "2.7.6"
  }
 },
 "nbformat": 4,
 "nbformat_minor": 0
}
