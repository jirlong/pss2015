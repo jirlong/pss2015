{
 "cells": [
  {
   "cell_type": "code",
   "execution_count": 4,
   "metadata": {
    "collapsed": true
   },
   "outputs": [],
   "source": [
    "# import twitter\n",
    "from twitter import *\n",
    "token = \"53118769-wLlA6jnOmx9Zz0cxsDMA8FOUxG6BJGC1hWwocMi3e\" #3\n",
    "token_key = \"dGaW6wAzGQUDcLtYOnsBOie3RyYVt0aMFC5nKCe0lbN6g\" #4\n",
    "con_secret = \"SVqAV10DG8HBHUoUBEA\" #1\n",
    "con_secret_key = \"RmwdKHSryKhSousyTx25WFtZtCb1CxfXA1IRPhdf4\"#2"
   ]
  },
  {
   "cell_type": "code",
   "execution_count": 5,
   "metadata": {
    "collapsed": false
   },
   "outputs": [],
   "source": [
    "t = Twitter(\n",
    "auth=OAuth(token, token_key, con_secret, con_secret_key))"
   ]
  },
  {
   "cell_type": "code",
   "execution_count": 17,
   "metadata": {
    "collapsed": false
   },
   "outputs": [],
   "source": [
    "# t.statuses.home_timeline()\n",
    "tweets = t.search.tweets(q=\"#pycon\")"
   ]
  },
  {
   "cell_type": "code",
   "execution_count": 16,
   "metadata": {
    "collapsed": false
   },
   "outputs": [
    {
     "name": "stdout",
     "output_type": "stream",
     "text": [
      "search_metadata\n",
      "statuses\n"
     ]
    }
   ],
   "source": [
    "tweets = t.search.tweets(q=\"taiwan\", lang = 'en', count = 100)\n",
    "for k in tweets['status']:\n",
    "    print k"
   ]
  }
 ],
 "metadata": {
  "kernelspec": {
   "display_name": "Python 2",
   "language": "python",
   "name": "python2"
  },
  "language_info": {
   "codemirror_mode": {
    "name": "ipython",
    "version": 2
   },
   "file_extension": ".py",
   "mimetype": "text/x-python",
   "name": "python",
   "nbconvert_exporter": "python",
   "pygments_lexer": "ipython2",
   "version": "2.7.6"
  }
 },
 "nbformat": 4,
 "nbformat_minor": 0
}
