{
 "cells": [
  {
   "cell_type": "markdown",
   "metadata": {},
   "source": [
    "NAME: ＿＿＿＿＿＿＿＿＿＿ SCHOOL/DEPARTMET: ＿＿＿＿＿＿＿＿＿＿ StudentID: ＿＿＿＿＿＿＿＿"
   ]
  },
  {
   "cell_type": "markdown",
   "metadata": {},
   "source": [
    "# Youbike\n",
    "* 以下是load youbike data的程式碼，並包含「兩個」站台的資料如下作為範例。請回答下列問題\n",
    "        {u'retCode': u'1', u'retVal': [{u'sareaen': u'Xinyi Dist.', u'sna': u'\\u6377\\u904b\\u5e02\\u653f\\u5e9c\\u7ad9(3\\u865f\\u51fa\\u53e3)', u'mday': u'20150424123443', u'tot': u'180', u'sbi': u'18'}, {u'sareaen': u'Daan Dist.', u'sna': u'\\u6377\\u904b\\u570b\\u7236\\u7d00\\u5ff5\\u9928\\u7ad9(2\\u865f\\u51fa\\u53e3)', u'mday': u'20150424123438', u'tot': u'48', u'sbi': u'16'}]}"
   ]
  },
  {
   "cell_type": "markdown",
   "metadata": {},
   "source": [
    "---\n",
    "###1. (5 points) 在上述資料中{u'retCode': u'1',...}，u''所代表的意義為何？10個字以內。\n"
   ]
  },
  {
   "cell_type": "markdown",
   "metadata": {},
   "source": [
    "###2. (5 points) 下列程式嘗試讀取各站sbi（腳踏車數量）並加總。但下列程式碼的後兩行會遇到一個Error，請描述產生Error的原因？並嘗試改正他以達到目的。\n",
    "* 參考上面的站台資料會有助於你作答。"
   ]
  },
  {
   "cell_type": "code",
   "execution_count": 8,
   "metadata": {
    "collapsed": false
   },
   "outputs": [
    {
     "name": "stdout",
     "output_type": "stream",
     "text": [
      "<type 'dict'>\n"
     ]
    }
   ],
   "source": [
    "import json\n",
    "import urllib2\n",
    "response = urllib2.urlopen('http://opendata.dot.taipei.gov.tw/opendata/gwjs_cityhall.json')\n",
    "data = json.load(response)\n",
    "total_sbi = 0\n",
    "print type(data)\n",
    "for site in data['retVal']:\n",
    "    total_sbi += int(site['sbi'])"
   ]
  },
  {
   "cell_type": "markdown",
   "metadata": {},
   "source": [
    "###3 (5 points). 寫出下列程式的執行結果"
   ]
  },
  {
   "cell_type": "code",
   "execution_count": 9,
   "metadata": {
    "collapsed": false
   },
   "outputs": [
    {
     "name": "stdout",
     "output_type": "stream",
     "text": [
      "2*1=2 2*2=4 \n",
      "3*1=3 \n",
      "\n"
     ]
    }
   ],
   "source": [
    "for i in range(2, 5):## i = 2, 3, 4\n",
    "    for j in range(1, 5-i):     # i=2, j=range(1, 3) = [1, 2] \n",
    "                                # i=3, j=range(1, 2) = [1] \n",
    "        print \"%d*%d=%d\"%(i, j, i*j),#注意有逗點\n",
    "    print \"\"#注意有換行"
   ]
  },
  {
   "cell_type": "markdown",
   "metadata": {},
   "source": [
    "# Ditionary and list"
   ]
  },
  {
   "cell_type": "markdown",
   "metadata": {},
   "source": [
    "###4 (20 points). 寫出下列程式中每一個print的執行結果 （注意，和考古題的數據不太一樣）\n",
    "    tweetdict ={'metadata': {'count': 100, 'completed_in': 0.073, 'query': '%23CongressOccupied', 'max_id': 458228775009148928}, 'statuses': [{'text': 'Opinions are divided in Taiwan following the end of #CongressOccupied protests http://t.co/HtPQ3yZROS', 'id': 248642170, 'retweet': [{'coordinate': 0, 'id': 23181418, 'hashtag' : ['#CongressOccupied', '#Taiwan']}]}, {'text': 'Taiwan Congress were occupied by hundreds of university stuents', 'id': 248312438, 'retweet': [{'coordinate': 0, 'id': 23181418, 'hashtag' : ['#CongressOccupied', '#sunflower']}]}]}"
   ]
  },
  {
   "cell_type": "code",
   "execution_count": 15,
   "metadata": {
    "collapsed": false
   },
   "outputs": [
    {
     "name": "stdout",
     "output_type": "stream",
     "text": [
      "<type 'dict'>\n",
      "count\n",
      "query\n",
      "completed_in\n",
      "max_id\n",
      "248642170\n",
      "248312438\n",
      "[{'coordinate': 0, 'id': 23181418, 'hashtag': ['#CongressOccupied', '#Taiwan']}]\n",
      "#Taiwan\n"
     ]
    }
   ],
   "source": [
    "tweetdict ={'metadata': {'count': 100, 'completed_in': 0.073, 'query': '%23CongressOccupied', 'max_id': 458228775009148928}, 'statuses': [{'text': 'Opinions are divided in Taiwan following the end of #CongressOccupied protests http://t.co/HtPQ3yZROS', 'id': 248642170, 'retweet': [{'coordinate': 0, 'id': 23181418, 'hashtag' : ['#CongressOccupied', '#Taiwan']}]}, {'text': 'Taiwan Congress were occupied by hundreds of university stuents', 'id': 248312438, 'retweet': [{'coordinate': 0, 'id': 23181418, 'hashtag' : ['#CongressOccupied', '#sunflower']}]}]}\n",
    "\n",
    "print type(tweetdict['metadata'])\n",
    "for k in tweetdict['metadata']:\n",
    "    print k\n",
    "\n",
    "\n",
    "for k in tweetdict['statuses']:\n",
    "    print k['id']\n",
    "\n",
    "\n",
    "print tweetdict['statuses'][0]['retweet']\n",
    "\n",
    "print tweetdict['statuses'][0]['retweet'][0]['hashtag'][1]\n"
   ]
  },
  {
   "cell_type": "markdown",
   "metadata": {},
   "source": [
    "#Grading\n",
    "###5 (5 points). 下面的grades list包含某個班級6位學生的期中、期末成績，加總後得到每個學生的總成績。而下面的程式能計算出班級的總平均為多少，請協助填寫下面的格子已達到計算總平均的目標。\n",
    "* 例如[60, 40]代表某位學生期中考60分，期末考40分。本案例的平均成績為98.5（這是重要提示）。\n",
    "* 必須要以變數操作完成，或說，答案不得包含任何數字。"
   ]
  },
  {
   "cell_type": "code",
   "execution_count": 17,
   "metadata": {
    "collapsed": false
   },
   "outputs": [
    {
     "name": "stdout",
     "output_type": "stream",
     "text": [
      "98\n"
     ]
    }
   ],
   "source": [
    "grades = [[60, 35], [30, 65], [36, 80], [65, 30], [55, 40], [35, 60]]\n",
    "total_sum = 0\n",
    "for grade in grades:\n",
    "    individual_sum = grade[0] + grade[1]\n",
    "    total_sum += individual_sum\n",
    "average = total_sum / len(grades)\n",
    "print average"
   ]
  },
  {
   "cell_type": "markdown",
   "metadata": {},
   "source": [
    "###6 (10 points). 若今天我只想計算期末考的平均成績為何，請問要如何計算？"
   ]
  },
  {
   "cell_type": "code",
   "execution_count": 18,
   "metadata": {
    "collapsed": false
   },
   "outputs": [
    {
     "name": "stdout",
     "output_type": "stream",
     "text": [
      "51.6666666667\n"
     ]
    }
   ],
   "source": [
    "grades = [[60, 35], [30, 65], [36, 80], [65, 30], [55, 40], [35, 60]]\n",
    "tot_final = 0\n",
    "for grade in grades:\n",
    "    tot_final += grade[1]\n",
    "print tot_final / float(len(grades))\n",
    "    \n",
    "    ## Add 2~3 lines here\n",
    "    \n",
    "    "
   ]
  },
  {
   "cell_type": "markdown",
   "metadata": {},
   "source": [
    "###7 (5 points). 如何更正下列程式碼所出現的錯誤。\n",
    "\n",
    "        ---------------------------------------------------------------------------\n",
    "TypeError                                 Traceback (most recent call last)\n",
    "<ipython-input-19-bd4d6250b7e4> in <module>()\n",
    "----> 1 print \"%s\\t%d\\n%s\"%('1', 2, 3, 4)\n",
    "\n",
    "TypeError: not all arguments converted during string formatting"
   ]
  },
  {
   "cell_type": "code",
   "execution_count": 20,
   "metadata": {
    "collapsed": false
   },
   "outputs": [
    {
     "ename": "TypeError",
     "evalue": "not enough arguments for format string",
     "output_type": "error",
     "traceback": [
      "\u001b[0;31m---------------------------------------------------------------------------\u001b[0m",
      "\u001b[0;31mTypeError\u001b[0m                                 Traceback (most recent call last)",
      "\u001b[0;32m<ipython-input-20-49d97557bc05>\u001b[0m in \u001b[0;36m<module>\u001b[0;34m()\u001b[0m\n\u001b[0;32m----> 1\u001b[0;31m \u001b[0;32mprint\u001b[0m \u001b[0;34m\"%s\\t%d\\n%s\"\u001b[0m\u001b[0;34m%\u001b[0m\u001b[0;34m(\u001b[0m\u001b[0;34m'1'\u001b[0m\u001b[0;34m,\u001b[0m \u001b[0;36m2\u001b[0m\u001b[0;34m)\u001b[0m\u001b[0;34m\u001b[0m\u001b[0m\n\u001b[0m",
      "\u001b[0;31mTypeError\u001b[0m: not enough arguments for format string"
     ]
    }
   ],
   "source": [
    "print \"%s\\t%d\\n%s\"%('1', 2)"
   ]
  },
  {
   "cell_type": "markdown",
   "metadata": {},
   "source": [
    "# Chrome History\n",
    "###8 (5 points). 下列程式碼以一個SQL Query以獲取資料，出現的第一個錯誤 **\"NameError: name 'sqlite3' is not defined\"**，請問該錯誤的說明為何？應該要怎麼修改才不會有這個錯誤（假設下列程式碼的History檔可以順利讀取）？\n",
    "* ANS\n",
    "\n",
    "###9 (10 points). 承上，修改了之後，仍會因為後3行而產生二個錯誤，你認為是什麼？\n",
    "* ANS"
   ]
  },
  {
   "cell_type": "code",
   "execution_count": 22,
   "metadata": {
    "collapsed": false
   },
   "outputs": [
    {
     "ename": "OperationalError",
     "evalue": "no such table: urls",
     "output_type": "error",
     "traceback": [
      "\u001b[0;31m---------------------------------------------------------------------------\u001b[0m",
      "\u001b[0;31mOperationalError\u001b[0m                          Traceback (most recent call last)",
      "\u001b[0;32m<ipython-input-22-c51145fbc763>\u001b[0m in \u001b[0;36m<module>\u001b[0;34m()\u001b[0m\n\u001b[1;32m      2\u001b[0m \u001b[0mconn\u001b[0m\u001b[0;34m=\u001b[0m\u001b[0msqlite3\u001b[0m\u001b[0;34m.\u001b[0m\u001b[0mconnect\u001b[0m\u001b[0;34m(\u001b[0m\u001b[0;34m\"History\"\u001b[0m\u001b[0;34m)\u001b[0m\u001b[0;34m\u001b[0m\u001b[0m\n\u001b[1;32m      3\u001b[0m \u001b[0mcu\u001b[0m \u001b[0;34m=\u001b[0m \u001b[0mconn\u001b[0m\u001b[0;34m.\u001b[0m\u001b[0mcursor\u001b[0m\u001b[0;34m(\u001b[0m\u001b[0;34m)\u001b[0m\u001b[0;34m\u001b[0m\u001b[0m\n\u001b[0;32m----> 4\u001b[0;31m \u001b[0mcu\u001b[0m\u001b[0;34m.\u001b[0m\u001b[0mexecute\u001b[0m\u001b[0;34m(\u001b[0m\u001b[0;34m\"select visit_count, url from urls order by visit_count;\"\u001b[0m\u001b[0;34m)\u001b[0m\u001b[0;34m\u001b[0m\u001b[0m\n\u001b[0m\u001b[1;32m      5\u001b[0m \u001b[0mresult\u001b[0m\u001b[0;34m=\u001b[0m\u001b[0mcu\u001b[0m\u001b[0;34m.\u001b[0m\u001b[0mfetchall\u001b[0m\u001b[0;34m(\u001b[0m\u001b[0;34m)\u001b[0m\u001b[0;34m\u001b[0m\u001b[0m\n\u001b[1;32m      6\u001b[0m \u001b[0;32mfor\u001b[0m \u001b[0mrow\u001b[0m \u001b[0;32min\u001b[0m \u001b[0mresult\u001b[0m\u001b[0;34m:\u001b[0m\u001b[0;34m\u001b[0m\u001b[0m\n",
      "\u001b[0;31mOperationalError\u001b[0m: no such table: urls"
     ]
    }
   ],
   "source": [
    "import sqlite3\n",
    "conn=sqlite3.connect(\"History\")\n",
    "cu = conn.cursor()\n",
    "cu.execute(\"select visit_count, url from urls order by visit_count;\")\n",
    "result=cu.fetchall()\n",
    "for row in result:\n",
    "    print row[0], row[1]"
   ]
  },
  {
   "cell_type": "markdown",
   "metadata": {},
   "source": [
    "# Logic Expression\n",
    "###10 (5 points). 寫出下列程式的執行結果"
   ]
  },
  {
   "cell_type": "code",
   "execution_count": 23,
   "metadata": {
    "collapsed": false
   },
   "outputs": [
    {
     "name": "stdout",
     "output_type": "stream",
     "text": [
      "5\n",
      "5\n",
      "5\n",
      "5\n"
     ]
    }
   ],
   "source": [
    "alist = [1, 3, 4, 5, 6]\n",
    "for i in range(alist[2]):\n",
    "    print alist[3]"
   ]
  },
  {
   "cell_type": "markdown",
   "metadata": {},
   "source": [
    "###11 (10 points). 下列程式碼有二處錯誤，請問可能原因為何？"
   ]
  },
  {
   "cell_type": "code",
   "execution_count": 32,
   "metadata": {
    "collapsed": false
   },
   "outputs": [
    {
     "name": "stdout",
     "output_type": "stream",
     "text": [
      "4\n",
      "5\n",
      "6\n",
      "3\n"
     ]
    }
   ],
   "source": [
    "adict = {1:2, 3:2, 5:2, 7:3}\n",
    "print len(adict)\n",
    "print len([1, 2, 3, 4, 5])\n",
    "print len(\"Taiwan\")\n",
    "print len((1, 3, 2))"
   ]
  },
  {
   "cell_type": "markdown",
   "metadata": {},
   "source": [
    "# Function\n",
    "* 以下的程式碼可以把輸入的兩個整數，sbi和tot，sbi除以tot的結果為現在的腳踏車站有多「滿」。下面的transferCorlo函式可依據sbi和tot把它轉換為顏色。當越滿就越接近紅色（#FF0000），越不滿，就越接近黑色（#000000）。\n",
    "\n",
    "###12 (5 points). 下列程式碼有一處錯誤，請問可能原因為何？\n",
    "\n",
    "###13 (5 points). 最後一行是把sbi print出來程式碼，請問其所print的數值是多少？\n"
   ]
  },
  {
   "cell_type": "code",
   "execution_count": null,
   "metadata": {
    "collapsed": false
   },
   "outputs": [],
   "source": [
    "def transferColor(ctr, tot):\n",
    "    sbi = int(ctr*255.0/tot)\n",
    "    hex = \"#%02x%02x%02x\" % (sbi, 0, 0)\n",
    "    return hex\n",
    "\n",
    "sbi, tot = 51, 64\n",
    "print transferColor(sbi, tot) # transferColor(51, 64)\n",
    "print sbi"
   ]
  },
  {
   "cell_type": "markdown",
   "metadata": {},
   "source": [
    "### 14 (5 points). 描述下面程式碼中的json.load和json.dump所執行的功能。"
   ]
  },
  {
   "cell_type": "code",
   "execution_count": null,
   "metadata": {
    "collapsed": false
   },
   "outputs": [],
   "source": [
    "response = urllib2.urlopen('http://opendata.dot.taipei.gov.tw/opendata/gwjs_cityhall.json')\n",
    "data = json.load(response)\n",
    "f = open('youbike_data.json', 'wb')\n",
    "json.dump(data, f)\n",
    "f.close()"
   ]
  },
  {
   "cell_type": "markdown",
   "metadata": {},
   "source": [
    "### 15 (10 points). 寫出下列程式碼的執行結果於空白處（7 points）。並請回答，你認為這個函式的功能為何（3 points）？"
   ]
  },
  {
   "cell_type": "code",
   "execution_count": 33,
   "metadata": {
    "collapsed": false
   },
   "outputs": [
    {
     "name": "stdout",
     "output_type": "stream",
     "text": [
      "2\n",
      "3\n",
      "5\n",
      "7\n",
      "11\n",
      "13\n",
      "17\n"
     ]
    }
   ],
   "source": [
    "\n",
    "for num in range(2, 19): #[2~18]\n",
    "    judge = True # 預設這個數是一個質數\n",
    "    for i in range(2,math.sqrt(num)+1):\n",
    "        if (num % i) == 0:\n",
    "            judge = False\n",
    "    if judge:\n",
    "        print num\n"
   ]
  },
  {
   "cell_type": "markdown",
   "metadata": {},
   "source": [
    "###16 (10 points). 寫出下列程式碼的執行結果於空白處（7 points），並且回答，你認為這段程式碼的功能為何（3 points）。"
   ]
  },
  {
   "cell_type": "code",
   "execution_count": null,
   "metadata": {
    "collapsed": false
   },
   "outputs": [],
   "source": [
    "alist = [1, 1, 3, 3, 4, 4, 2, 2, 5, 2, 5, 2, 2, 2, 5]\n",
    "blist, clist = [], []\n",
    "for a in alist:\n",
    "    if a not in blist:\n",
    "        blist.append(a)\n",
    "        clist.append(0)\n",
    "for a in alist:\n",
    "    for i in range(len(blist)):\n",
    "        if blist[i] == a:\n",
    "            clist[i] += 1\n",
    "print blist\n",
    "print clist"
   ]
  },
  {
   "cell_type": "markdown",
   "metadata": {},
   "source": [
    "###17 (10 points). 寫出下列程式碼的執行結果於空白處。"
   ]
  },
  {
   "cell_type": "code",
   "execution_count": null,
   "metadata": {
    "collapsed": false
   },
   "outputs": [],
   "source": [
    "alist = [1, 1, 3, 3, 4, 4, 2, 2, 5, 2, 5, 2, 2, 2, 5]\n",
    "blist = []\n",
    "c = 0\n",
    "for a in alist:\n",
    "    if c != a:\n",
    "        c = a\n",
    "        blist.append(1)\n",
    "    else:\n",
    "        blist[-1]+=1\n",
    "print blist"
   ]
  }
 ],
 "metadata": {
  "kernelspec": {
   "display_name": "Python 2",
   "language": "python",
   "name": "python2"
  },
  "language_info": {
   "codemirror_mode": {
    "name": "ipython",
    "version": 2
   },
   "file_extension": ".py",
   "mimetype": "text/x-python",
   "name": "python",
   "nbconvert_exporter": "python",
   "pygments_lexer": "ipython2",
   "version": "2.7.6"
  }
 },
 "nbformat": 4,
 "nbformat_minor": 0
}
