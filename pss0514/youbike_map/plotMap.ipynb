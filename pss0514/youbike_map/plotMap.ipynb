{
 "cells": [
  {
   "cell_type": "markdown",
   "metadata": {},
   "source": [
    "# Practice0430 - Plotting Youbike site on google map\n",
    "* 這次的作業要各位利用python wrapper for google map在google map上標示出每個腳踏車站，出題動機是考驗你有沒有辦法自己閱讀或吸收新的內容。\n",
    "* 給分分為三部分，達成第一部份（標示上去）得80分，第二部分（依照腳踏車站滿的程度標示不同的顏色）做完得100分，若你有辦法標示該腳踏車站的名字為何，得額外的10分。\n",
    "* 以下的程式碼可以給你讀取Youbike的資料，尤其是這次作業要處理的經緯度。"
   ]
  },
  {
   "cell_type": "code",
   "execution_count": 1,
   "metadata": {
    "collapsed": false
   },
   "outputs": [
    {
     "name": "stdout",
     "output_type": "stream",
     "text": [
      "25.0408578889 121.567904444\n",
      "25.041 121.556945\n",
      "25.0377972222 121.565169444\n",
      "25.0360361111 121.562325\n",
      "25.0365638889 121.5686639\n",
      "25.0347361111 121.565658333\n",
      "25.0330388889 121.565619444\n",
      "25.0352138889 121.563688889\n",
      "25.03159 121.574353\n",
      "25.0286611111 121.566116667\n"
     ]
    }
   ],
   "source": [
    "import urllib2\n",
    "import json\n",
    "import numpy\n",
    "response = urllib2.urlopen('http://opendata.dot.taipei.gov.tw/opendata/gwjs_cityhall.json')\n",
    "data = json.load(response)\n",
    "for row in data['retVal'][:10]:\n",
    "    print row['lat'], row['lng']"
   ]
  },
  {
   "cell_type": "markdown",
   "metadata": {},
   "source": [
    "* 以下的code可以讓你在地圖上畫一個點\n",
    "* 以下三行的意義，請自行參見pygmaps.py的內容（直接用ipython notebook打開它，尤其注意main後面那幾行）\n",
    "        mymap = pygmaps.maps(37.428, -122.145, 16)\n",
    "        mymap.addpoint(37.427, -122.145, \"#0000FF\")\n",
    "        mymap.draw('map.html')\n",
    "* 以下兩行的意義，是為了直接在ipython notebook中秀出結果，你也可以不要加這兩行，直接從檔案總管（或Mac的Finder）上，直接開啟map.html就可以看到結果。\n",
    "        from IPython.display import HTML\n",
    "        HTML('<iframe src=viz.html width=700 height=350></iframe>')"
   ]
  },
  {
   "cell_type": "code",
   "execution_count": 3,
   "metadata": {
    "collapsed": false
   },
   "outputs": [
    {
     "data": {
      "text/html": [
       "<iframe src=map_1points.html width=700 height=350></iframe>"
      ],
      "text/plain": [
       "<IPython.core.display.HTML object>"
      ]
     },
     "execution_count": 3,
     "metadata": {},
     "output_type": "execute_result"
    }
   ],
   "source": [
    "import pygmaps\n",
    "\n",
    "avglat, avglng = 0.0, 0.0\n",
    "for row in data['retVal']:\n",
    "    avglat += float(row['lat'])\n",
    "    avglng += float(row['lng'])\n",
    "avglat /= len(data['retVal'])\n",
    "avglng /= len(data['retVal'])\n",
    "mymap = pygmaps.maps(avglat, avglng, 12)\n",
    "\n",
    "for row in data['retVal']:\n",
    "    if float(row['sbi'])/float(row['tot']) < 0.05:\n",
    "        c = \"#FF0000\"\n",
    "    else:\n",
    "        c = \"#0000FF\"\n",
    "    mymap.addpoint(float(row['lat']), float(row['lng']), c, row['sna'].encode('utf-8'))\n",
    "mymap.draw('map_1points.html')\n",
    "from IPython.display import HTML\n",
    "HTML('<iframe src=map_1points.html width=700 height=350></iframe>')"
   ]
  },
  {
   "cell_type": "markdown",
   "metadata": {},
   "source": [
    "## Part 1. 把所有腳踏車站的站點plot在地圖上，以得到下圖的結果。"
   ]
  },
  {
   "cell_type": "code",
   "execution_count": 32,
   "metadata": {
    "collapsed": false
   },
   "outputs": [
    {
     "data": {
      "text/html": [
       "<iframe src=map_nocolor.html width=700 height=350></iframe>"
      ],
      "text/plain": [
       "<IPython.core.display.HTML object>"
      ]
     },
     "execution_count": 32,
     "metadata": {},
     "output_type": "execute_result"
    }
   ],
   "source": [
    "HTML('<iframe src=map_nocolor.html width=700 height=350></iframe>')"
   ]
  },
  {
   "cell_type": "markdown",
   "metadata": {},
   "source": [
    "## Part 2. 把所有腳踏車站的站點plot在地圖上，以得到下圖的結果。但這次要上色，如果停車格90%滿，藍色。20%~90%為綠色，5%~20%為橘色，若剩下5%的車的話紅色。\n",
    "* 注意，下面這行加入資料的函式可以更動顏色。\n",
    "        mymap.addpoint(lat, lng, \"#0000FF\")"
   ]
  },
  {
   "cell_type": "code",
   "execution_count": 34,
   "metadata": {
    "collapsed": false
   },
   "outputs": [
    {
     "data": {
      "text/html": [
       "<iframe src=map.html width=700 height=350></iframe>"
      ],
      "text/plain": [
       "<IPython.core.display.HTML object>"
      ]
     },
     "execution_count": 34,
     "metadata": {},
     "output_type": "execute_result"
    }
   ],
   "source": [
    "HTML('<iframe src=map.html width=700 height=350></iframe>')"
   ]
  }
 ],
 "metadata": {
  "kernelspec": {
   "display_name": "Python 2",
   "language": "python",
   "name": "python2"
  },
  "language_info": {
   "codemirror_mode": {
    "name": "ipython",
    "version": 2
   },
   "file_extension": ".py",
   "mimetype": "text/x-python",
   "name": "python",
   "nbconvert_exporter": "python",
   "pygments_lexer": "ipython2",
   "version": "2.7.6"
  }
 },
 "nbformat": 4,
 "nbformat_minor": 0
}
