{
 "cells": [
  {
   "cell_type": "code",
   "execution_count": 2,
   "metadata": {
    "collapsed": false
   },
   "outputs": [],
   "source": [
    "from twitter import *\n",
    "import json\n",
    "import time"
   ]
  },
  {
   "cell_type": "code",
   "execution_count": 3,
   "metadata": {
    "collapsed": true
   },
   "outputs": [],
   "source": [
    "OAUTH_TOKEN = \"53118769-wLlA6jnOmx9Zz0cxsDMA8FOUxG6BJGC1hWwocMi3e\"\n",
    "OAUTH_SECRET = \"dGaW6wAzGQUDcLtYOnsBOie3RyYVt0aMFC5nKCe0lbN6g\"\n",
    "CONSUMER_KEY = \"SVqAV10DG8HBHUoUBEA\"\n",
    "CONSUMER_SECRET = \"RmwdKHSryKhSousyTx25WFtZtCb1CxfXA1IRPhdf4\""
   ]
  },
  {
   "cell_type": "code",
   "execution_count": 4,
   "metadata": {
    "collapsed": false
   },
   "outputs": [],
   "source": [
    "tquery = Twitter(\n",
    "                    auth=OAuth(OAUTH_TOKEN, OAUTH_SECRET,\n",
    "                               CONSUMER_KEY, CONSUMER_SECRET)\n",
    "                   )"
   ]
  },
  {
   "cell_type": "code",
   "execution_count": 10,
   "metadata": {
    "collapsed": false
   },
   "outputs": [
    {
     "name": "stdout",
     "output_type": "stream",
     "text": [
      "0\n"
     ]
    }
   ],
   "source": [
    "tweets = tquery.search.tweets(q=\"#congressoccupied\", lang = 'en', count = 100)\n",
    "print len(tweets['statuses'])"
   ]
  },
  {
   "cell_type": "code",
   "execution_count": 7,
   "metadata": {
    "collapsed": false
   },
   "outputs": [],
   "source": [
    "for t in tweets['statuses']:\n",
    "    print t"
   ]
  }
 ],
 "metadata": {
  "kernelspec": {
   "display_name": "Python 2",
   "language": "python",
   "name": "python2"
  },
  "language_info": {
   "codemirror_mode": {
    "name": "ipython",
    "version": 2
   },
   "file_extension": ".py",
   "mimetype": "text/x-python",
   "name": "python",
   "nbconvert_exporter": "python",
   "pygments_lexer": "ipython2",
   "version": "2.7.6"
  }
 },
 "nbformat": 4,
 "nbformat_minor": 0
}
