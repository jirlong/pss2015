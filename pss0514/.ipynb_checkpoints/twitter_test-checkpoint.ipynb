{
 "cells": [
  {
   "cell_type": "code",
   "execution_count": 2,
   "metadata": {
    "collapsed": false
   },
   "outputs": [],
   "source": [
    "# import twitter\n",
    "from twitter import *\n",
    "import sys\n",
    "import json\n",
    "key_dict = json.load(open(\"../../_mylib/twitter_pswd.json\", \"r\"))\n",
    "token = key_dict['t']\n",
    "token_key = key_dict['tk']\n",
    "con_secret = key_dict['c']\n",
    "con_secret_key = key_dict['ck']\n",
    "\n",
    "# You should add your key here\n",
    "# token = \"\" #3\n",
    "# token_key = \"\" #4\n",
    "# con_secret = \"\" #1\n",
    "# con_secret_key = \"\"#2"
   ]
  },
  {
   "cell_type": "code",
   "execution_count": 3,
   "metadata": {
    "collapsed": false
   },
   "outputs": [],
   "source": [
    "t = Twitter(\n",
    "auth=OAuth(token, token_key, con_secret, con_secret_key))"
   ]
  },
  {
   "cell_type": "code",
   "execution_count": 4,
   "metadata": {
    "collapsed": false
   },
   "outputs": [],
   "source": [
    "# Your first query\n",
    "# t.statuses.home_timeline()\n",
    "tweets = t.search.tweets(q=\"#pycon\")\n",
    "# @nytchinese, obama, 馬英九, #taiwan, "
   ]
  },
  {
   "cell_type": "markdown",
   "metadata": {},
   "source": [
    "#twitter api\n",
    "* search api: https://dev.twitter.com/rest/public/search\n",
    "* Location of your twitter in your computer\n",
    "    * Windows所在位置爲 C:\\Users\\NTNU-GLIS\\AppData\\Local\\Enthought\\Canopy\\User\\python)，\n",
    "    * 如果以Mac來說的話就是/Users/jirlong/Library/Enthought/Canopy_64bit/System/bin/python。\n",
    "    * Windows所在位置爲 C:\\Users\\NTNU-GLIS\\AppData\\Local\\Enthought\\Canopy\\User\\python)，\n",
    "    * 如果以Mac來說的話就是/Users/jirlong/Library/Enthought/Canopy_64bit/System/bin/python。\n",
    "* You can use the since and until operator.\n",
    "\n",
    "        https://api.twitter.com/1.1/statuses/user_timeline.json?include_entities=true&inc‌​lude_rts=true&screen_name=your_screen_name&since:2011-05-16&until:2011-08-16\n",
    "* t.search.tweets(q='hello', count=3, until='2013-03-01')\n",
    "* You cannot use the Search API to find Tweets older than about a week\n",
    "* http://stackoverflow.com/questions/15197319/python-twitter-search-tweets-with-until\n",
    "* http://stackoverflow.com/questions/8890257/example-json-http-request-for-twitter-api\n"
   ]
  },
  {
   "cell_type": "code",
   "execution_count": 39,
   "metadata": {
    "collapsed": false
   },
   "outputs": [
    {
     "name": "stdout",
     "output_type": "stream",
     "text": [
      "0\n"
     ]
    }
   ],
   "source": [
    "tweets = t.search.tweets(q=\"taiwan\", count = 100, until = \"2015-05-05\")\n",
    "# tweets = t.search.tweets(q=\"佔領立法院\", lang = 'en', count = 100)\n",
    "print len(tweets['statuses'])"
   ]
  },
  {
   "cell_type": "code",
   "execution_count": 45,
   "metadata": {
    "collapsed": false
   },
   "outputs": [
    {
     "ename": "HTTPError",
     "evalue": "HTTP Error 400: Bad Request",
     "output_type": "error",
     "traceback": [
      "\u001b[0;31m---------------------------------------------------------------------------\u001b[0m",
      "\u001b[0;31mHTTPError\u001b[0m                                 Traceback (most recent call last)",
      "\u001b[0;32m<ipython-input-45-bd8650dfe588>\u001b[0m in \u001b[0;36m<module>\u001b[0;34m()\u001b[0m\n\u001b[1;32m      1\u001b[0m \u001b[0;32mimport\u001b[0m \u001b[0murllib2\u001b[0m\u001b[0;34m\u001b[0m\u001b[0m\n\u001b[1;32m      2\u001b[0m \u001b[0;31m# response = urllib2.urlopen('https://twitter.com/search?q=taiwan%20until%3A2012-01-01&src=typd')\u001b[0m\u001b[0;34m\u001b[0m\u001b[0;34m\u001b[0m\u001b[0m\n\u001b[0;32m----> 3\u001b[0;31m \u001b[0mresponse\u001b[0m \u001b[0;34m=\u001b[0m \u001b[0murllib2\u001b[0m\u001b[0;34m.\u001b[0m\u001b[0murlopen\u001b[0m\u001b[0;34m(\u001b[0m\u001b[0;34m'https://api.twitter.com/1.1/search/tweets.json?q=taiwan&since_id=24012619984051000&max_id=250126199840518145&result_type=mixed&count=4'\u001b[0m\u001b[0;34m)\u001b[0m\u001b[0;34m\u001b[0m\u001b[0m\n\u001b[0m\u001b[1;32m      4\u001b[0m \u001b[0;32mprint\u001b[0m \u001b[0mresponse\u001b[0m\u001b[0;34m\u001b[0m\u001b[0m\n\u001b[1;32m      5\u001b[0m \u001b[0;34m\u001b[0m\u001b[0m\n",
      "\u001b[0;32m/Applications/Canopy.app/appdata/canopy-1.5.1.2730.macosx-x86_64/Canopy.app/Contents/lib/python2.7/urllib2.pyc\u001b[0m in \u001b[0;36murlopen\u001b[0;34m(url, data, timeout)\u001b[0m\n\u001b[1;32m    125\u001b[0m     \u001b[0;32mif\u001b[0m \u001b[0m_opener\u001b[0m \u001b[0;32mis\u001b[0m \u001b[0mNone\u001b[0m\u001b[0;34m:\u001b[0m\u001b[0;34m\u001b[0m\u001b[0m\n\u001b[1;32m    126\u001b[0m         \u001b[0m_opener\u001b[0m \u001b[0;34m=\u001b[0m \u001b[0mbuild_opener\u001b[0m\u001b[0;34m(\u001b[0m\u001b[0;34m)\u001b[0m\u001b[0;34m\u001b[0m\u001b[0m\n\u001b[0;32m--> 127\u001b[0;31m     \u001b[0;32mreturn\u001b[0m \u001b[0m_opener\u001b[0m\u001b[0;34m.\u001b[0m\u001b[0mopen\u001b[0m\u001b[0;34m(\u001b[0m\u001b[0murl\u001b[0m\u001b[0;34m,\u001b[0m \u001b[0mdata\u001b[0m\u001b[0;34m,\u001b[0m \u001b[0mtimeout\u001b[0m\u001b[0;34m)\u001b[0m\u001b[0;34m\u001b[0m\u001b[0m\n\u001b[0m\u001b[1;32m    128\u001b[0m \u001b[0;34m\u001b[0m\u001b[0m\n\u001b[1;32m    129\u001b[0m \u001b[0;32mdef\u001b[0m \u001b[0minstall_opener\u001b[0m\u001b[0;34m(\u001b[0m\u001b[0mopener\u001b[0m\u001b[0;34m)\u001b[0m\u001b[0;34m:\u001b[0m\u001b[0;34m\u001b[0m\u001b[0m\n",
      "\u001b[0;32m/Applications/Canopy.app/appdata/canopy-1.5.1.2730.macosx-x86_64/Canopy.app/Contents/lib/python2.7/urllib2.pyc\u001b[0m in \u001b[0;36mopen\u001b[0;34m(self, fullurl, data, timeout)\u001b[0m\n\u001b[1;32m    408\u001b[0m         \u001b[0;32mfor\u001b[0m \u001b[0mprocessor\u001b[0m \u001b[0;32min\u001b[0m \u001b[0mself\u001b[0m\u001b[0;34m.\u001b[0m\u001b[0mprocess_response\u001b[0m\u001b[0;34m.\u001b[0m\u001b[0mget\u001b[0m\u001b[0;34m(\u001b[0m\u001b[0mprotocol\u001b[0m\u001b[0;34m,\u001b[0m \u001b[0;34m[\u001b[0m\u001b[0;34m]\u001b[0m\u001b[0;34m)\u001b[0m\u001b[0;34m:\u001b[0m\u001b[0;34m\u001b[0m\u001b[0m\n\u001b[1;32m    409\u001b[0m             \u001b[0mmeth\u001b[0m \u001b[0;34m=\u001b[0m \u001b[0mgetattr\u001b[0m\u001b[0;34m(\u001b[0m\u001b[0mprocessor\u001b[0m\u001b[0;34m,\u001b[0m \u001b[0mmeth_name\u001b[0m\u001b[0;34m)\u001b[0m\u001b[0;34m\u001b[0m\u001b[0m\n\u001b[0;32m--> 410\u001b[0;31m             \u001b[0mresponse\u001b[0m \u001b[0;34m=\u001b[0m \u001b[0mmeth\u001b[0m\u001b[0;34m(\u001b[0m\u001b[0mreq\u001b[0m\u001b[0;34m,\u001b[0m \u001b[0mresponse\u001b[0m\u001b[0;34m)\u001b[0m\u001b[0;34m\u001b[0m\u001b[0m\n\u001b[0m\u001b[1;32m    411\u001b[0m \u001b[0;34m\u001b[0m\u001b[0m\n\u001b[1;32m    412\u001b[0m         \u001b[0;32mreturn\u001b[0m \u001b[0mresponse\u001b[0m\u001b[0;34m\u001b[0m\u001b[0m\n",
      "\u001b[0;32m/Applications/Canopy.app/appdata/canopy-1.5.1.2730.macosx-x86_64/Canopy.app/Contents/lib/python2.7/urllib2.pyc\u001b[0m in \u001b[0;36mhttp_response\u001b[0;34m(self, request, response)\u001b[0m\n\u001b[1;32m    521\u001b[0m         \u001b[0;32mif\u001b[0m \u001b[0;32mnot\u001b[0m \u001b[0;34m(\u001b[0m\u001b[0;36m200\u001b[0m \u001b[0;34m<=\u001b[0m \u001b[0mcode\u001b[0m \u001b[0;34m<\u001b[0m \u001b[0;36m300\u001b[0m\u001b[0;34m)\u001b[0m\u001b[0;34m:\u001b[0m\u001b[0;34m\u001b[0m\u001b[0m\n\u001b[1;32m    522\u001b[0m             response = self.parent.error(\n\u001b[0;32m--> 523\u001b[0;31m                 'http', request, response, code, msg, hdrs)\n\u001b[0m\u001b[1;32m    524\u001b[0m \u001b[0;34m\u001b[0m\u001b[0m\n\u001b[1;32m    525\u001b[0m         \u001b[0;32mreturn\u001b[0m \u001b[0mresponse\u001b[0m\u001b[0;34m\u001b[0m\u001b[0m\n",
      "\u001b[0;32m/Applications/Canopy.app/appdata/canopy-1.5.1.2730.macosx-x86_64/Canopy.app/Contents/lib/python2.7/urllib2.pyc\u001b[0m in \u001b[0;36merror\u001b[0;34m(self, proto, *args)\u001b[0m\n\u001b[1;32m    446\u001b[0m         \u001b[0;32mif\u001b[0m \u001b[0mhttp_err\u001b[0m\u001b[0;34m:\u001b[0m\u001b[0;34m\u001b[0m\u001b[0m\n\u001b[1;32m    447\u001b[0m             \u001b[0margs\u001b[0m \u001b[0;34m=\u001b[0m \u001b[0;34m(\u001b[0m\u001b[0mdict\u001b[0m\u001b[0;34m,\u001b[0m \u001b[0;34m'default'\u001b[0m\u001b[0;34m,\u001b[0m \u001b[0;34m'http_error_default'\u001b[0m\u001b[0;34m)\u001b[0m \u001b[0;34m+\u001b[0m \u001b[0morig_args\u001b[0m\u001b[0;34m\u001b[0m\u001b[0m\n\u001b[0;32m--> 448\u001b[0;31m             \u001b[0;32mreturn\u001b[0m \u001b[0mself\u001b[0m\u001b[0;34m.\u001b[0m\u001b[0m_call_chain\u001b[0m\u001b[0;34m(\u001b[0m\u001b[0;34m*\u001b[0m\u001b[0margs\u001b[0m\u001b[0;34m)\u001b[0m\u001b[0;34m\u001b[0m\u001b[0m\n\u001b[0m\u001b[1;32m    449\u001b[0m \u001b[0;34m\u001b[0m\u001b[0m\n\u001b[1;32m    450\u001b[0m \u001b[0;31m# XXX probably also want an abstract factory that knows when it makes\u001b[0m\u001b[0;34m\u001b[0m\u001b[0;34m\u001b[0m\u001b[0m\n",
      "\u001b[0;32m/Applications/Canopy.app/appdata/canopy-1.5.1.2730.macosx-x86_64/Canopy.app/Contents/lib/python2.7/urllib2.pyc\u001b[0m in \u001b[0;36m_call_chain\u001b[0;34m(self, chain, kind, meth_name, *args)\u001b[0m\n\u001b[1;32m    380\u001b[0m             \u001b[0mfunc\u001b[0m \u001b[0;34m=\u001b[0m \u001b[0mgetattr\u001b[0m\u001b[0;34m(\u001b[0m\u001b[0mhandler\u001b[0m\u001b[0;34m,\u001b[0m \u001b[0mmeth_name\u001b[0m\u001b[0;34m)\u001b[0m\u001b[0;34m\u001b[0m\u001b[0m\n\u001b[1;32m    381\u001b[0m \u001b[0;34m\u001b[0m\u001b[0m\n\u001b[0;32m--> 382\u001b[0;31m             \u001b[0mresult\u001b[0m \u001b[0;34m=\u001b[0m \u001b[0mfunc\u001b[0m\u001b[0;34m(\u001b[0m\u001b[0;34m*\u001b[0m\u001b[0margs\u001b[0m\u001b[0;34m)\u001b[0m\u001b[0;34m\u001b[0m\u001b[0m\n\u001b[0m\u001b[1;32m    383\u001b[0m             \u001b[0;32mif\u001b[0m \u001b[0mresult\u001b[0m \u001b[0;32mis\u001b[0m \u001b[0;32mnot\u001b[0m \u001b[0mNone\u001b[0m\u001b[0;34m:\u001b[0m\u001b[0;34m\u001b[0m\u001b[0m\n\u001b[1;32m    384\u001b[0m                 \u001b[0;32mreturn\u001b[0m \u001b[0mresult\u001b[0m\u001b[0;34m\u001b[0m\u001b[0m\n",
      "\u001b[0;32m/Applications/Canopy.app/appdata/canopy-1.5.1.2730.macosx-x86_64/Canopy.app/Contents/lib/python2.7/urllib2.pyc\u001b[0m in \u001b[0;36mhttp_error_default\u001b[0;34m(self, req, fp, code, msg, hdrs)\u001b[0m\n\u001b[1;32m    529\u001b[0m \u001b[0;32mclass\u001b[0m \u001b[0mHTTPDefaultErrorHandler\u001b[0m\u001b[0;34m(\u001b[0m\u001b[0mBaseHandler\u001b[0m\u001b[0;34m)\u001b[0m\u001b[0;34m:\u001b[0m\u001b[0;34m\u001b[0m\u001b[0m\n\u001b[1;32m    530\u001b[0m     \u001b[0;32mdef\u001b[0m \u001b[0mhttp_error_default\u001b[0m\u001b[0;34m(\u001b[0m\u001b[0mself\u001b[0m\u001b[0;34m,\u001b[0m \u001b[0mreq\u001b[0m\u001b[0;34m,\u001b[0m \u001b[0mfp\u001b[0m\u001b[0;34m,\u001b[0m \u001b[0mcode\u001b[0m\u001b[0;34m,\u001b[0m \u001b[0mmsg\u001b[0m\u001b[0;34m,\u001b[0m \u001b[0mhdrs\u001b[0m\u001b[0;34m)\u001b[0m\u001b[0;34m:\u001b[0m\u001b[0;34m\u001b[0m\u001b[0m\n\u001b[0;32m--> 531\u001b[0;31m         \u001b[0;32mraise\u001b[0m \u001b[0mHTTPError\u001b[0m\u001b[0;34m(\u001b[0m\u001b[0mreq\u001b[0m\u001b[0;34m.\u001b[0m\u001b[0mget_full_url\u001b[0m\u001b[0;34m(\u001b[0m\u001b[0;34m)\u001b[0m\u001b[0;34m,\u001b[0m \u001b[0mcode\u001b[0m\u001b[0;34m,\u001b[0m \u001b[0mmsg\u001b[0m\u001b[0;34m,\u001b[0m \u001b[0mhdrs\u001b[0m\u001b[0;34m,\u001b[0m \u001b[0mfp\u001b[0m\u001b[0;34m)\u001b[0m\u001b[0;34m\u001b[0m\u001b[0m\n\u001b[0m\u001b[1;32m    532\u001b[0m \u001b[0;34m\u001b[0m\u001b[0m\n\u001b[1;32m    533\u001b[0m \u001b[0;32mclass\u001b[0m \u001b[0mHTTPRedirectHandler\u001b[0m\u001b[0;34m(\u001b[0m\u001b[0mBaseHandler\u001b[0m\u001b[0;34m)\u001b[0m\u001b[0;34m:\u001b[0m\u001b[0;34m\u001b[0m\u001b[0m\n",
      "\u001b[0;31mHTTPError\u001b[0m: HTTP Error 400: Bad Request"
     ]
    }
   ],
   "source": [
    "import urllib2\n",
    "# response = urllib2.urlopen('https://twitter.com/search?q=taiwan%20until%3A2012-01-01&src=typd')\n",
    "response = urllib2.urlopen('https://api.twitter.com/1.1/search/tweets.json?q=taiwan&since_id=24012619984051000&max_id=250126199840518145&result_type=mixed&count=4')\n",
    "print response\n",
    "\n",
    "# data = json.load(response)\n",
    "# print data\n"
   ]
  },
  {
   "cell_type": "code",
   "execution_count": 25,
   "metadata": {
    "collapsed": false
   },
   "outputs": [
    {
     "name": "stdout",
     "output_type": "stream",
     "text": [
      "{u'contributors': None, u'truncated': False, u'text': u'RT @Defoliation2H: \\u3010Defoliation2H\\u3011We are going to give out 2 types of photo card during #DnE in #Taiwan ^^ http://t.co/oeXUqyDTlx', u'in_reply_to_status_id': None, u'id': 598522461320192000, u'favorite_count': 0, u'source': u'<a href=\"http://twitter.com/download/android\" rel=\"nofollow\">Twitter for Android</a>', u'retweeted': False, u'coordinates': None, u'entities': {u'symbols': [], u'user_mentions': [{u'id': 2659624261, u'indices': [3, 17], u'id_str': u'2659624261', u'screen_name': u'Defoliation2H', u'name': u'Defoliation2H'}], u'hashtags': [{u'indices': [88, 92], u'text': u'DnE'}, {u'indices': [96, 103], u'text': u'Taiwan'}], u'urls': [], u'media': [{u'source_user_id': 2659624261, u'source_status_id_str': u'598514496810811392', u'expanded_url': u'http://twitter.com/Defoliation2H/status/598514496810811392/photo/1', u'display_url': u'pic.twitter.com/oeXUqyDTlx', u'url': u'http://t.co/oeXUqyDTlx', u'media_url_https': u'https://pbs.twimg.com/media/CE5ZwJTUkAA4DwR.jpg', u'source_user_id_str': u'2659624261', u'source_status_id': 598514496810811392, u'id_str': u'598514484152406016', u'sizes': {u'large': {u'h': 604, u'resize': u'fit', u'w': 800}, u'small': {u'h': 256, u'resize': u'fit', u'w': 340}, u'medium': {u'h': 453, u'resize': u'fit', u'w': 600}, u'thumb': {u'h': 150, u'resize': u'crop', u'w': 150}}, u'indices': [107, 129], u'type': u'photo', u'id': 598514484152406016, u'media_url': u'http://pbs.twimg.com/media/CE5ZwJTUkAA4DwR.jpg'}]}, u'in_reply_to_screen_name': None, u'in_reply_to_user_id': None, u'retweet_count': 24, u'id_str': u'598522461320192000', u'favorited': False, u'retweeted_status': {u'contributors': None, u'truncated': False, u'text': u'\\u3010Defoliation2H\\u3011We are going to give out 2 types of photo card during #DnE in #Taiwan ^^ http://t.co/oeXUqyDTlx', u'in_reply_to_status_id': None, u'id': 598514496810811392, u'favorite_count': 5, u'source': u'<a href=\"http://twitter.com/download/iphone\" rel=\"nofollow\">Twitter for iPhone</a>', u'retweeted': False, u'coordinates': None, u'entities': {u'symbols': [], u'user_mentions': [], u'hashtags': [{u'indices': [69, 73], u'text': u'DnE'}, {u'indices': [77, 84], u'text': u'Taiwan'}], u'urls': [], u'media': [{u'expanded_url': u'http://twitter.com/Defoliation2H/status/598514496810811392/photo/1', u'display_url': u'pic.twitter.com/oeXUqyDTlx', u'url': u'http://t.co/oeXUqyDTlx', u'media_url_https': u'https://pbs.twimg.com/media/CE5ZwJTUkAA4DwR.jpg', u'id_str': u'598514484152406016', u'sizes': {u'large': {u'h': 604, u'resize': u'fit', u'w': 800}, u'small': {u'h': 256, u'resize': u'fit', u'w': 340}, u'medium': {u'h': 453, u'resize': u'fit', u'w': 600}, u'thumb': {u'h': 150, u'resize': u'crop', u'w': 150}}, u'indices': [88, 110], u'type': u'photo', u'id': 598514484152406016, u'media_url': u'http://pbs.twimg.com/media/CE5ZwJTUkAA4DwR.jpg'}]}, u'in_reply_to_screen_name': None, u'in_reply_to_user_id': None, u'retweet_count': 24, u'id_str': u'598514496810811392', u'favorited': False, u'user': {u'follow_request_sent': False, u'profile_use_background_image': True, u'default_profile_image': False, u'id': 2659624261, u'profile_background_image_url_https': u'https://abs.twimg.com/images/themes/theme1/bg.png', u'verified': False, u'profile_text_color': u'333333', u'profile_image_url_https': u'https://pbs.twimg.com/profile_images/598243990748672000/-j3oqVlJ_normal.jpg', u'profile_sidebar_fill_color': u'DDEEF6', u'entities': {u'url': {u'urls': [{u'url': u'http://t.co/nxriFtjRbX', u'indices': [0, 22], u'expanded_url': u'http://defoliationeh.lofter.com', u'display_url': u'defoliationeh.lofter.com'}]}, u'description': {u'urls': []}}, u'followers_count': 323, u'profile_sidebar_border_color': u'C0DEED', u'id_str': u'2659624261', u'profile_background_color': u'C0DEED', u'listed_count': 12, u'is_translation_enabled': False, u'utc_offset': 28800, u'statuses_count': 68, u'description': u'The Chinese Fansite of EUNHAE', u'friends_count': 6, u'location': u'', u'profile_link_color': u'0084B4', u'profile_image_url': u'http://pbs.twimg.com/profile_images/598243990748672000/-j3oqVlJ_normal.jpg', u'following': False, u'geo_enabled': False, u'profile_background_image_url': u'http://abs.twimg.com/images/themes/theme1/bg.png', u'screen_name': u'Defoliation2H', u'lang': u'\\u9078\\u64c7\\u8a9e\\u8a00...', u'profile_background_tile': False, u'favourites_count': 0, u'name': u'Defoliation2H', u'notifications': False, u'url': u'http://t.co/nxriFtjRbX', u'created_at': u'Sat Jul 19 14:32:15 +0000 2014', u'contributors_enabled': False, u'time_zone': u'Krasnoyarsk', u'protected': False, u'default_profile': True, u'is_translator': False}, u'geo': None, u'in_reply_to_user_id_str': None, u'possibly_sensitive': False, u'lang': u'en', u'created_at': u'Wed May 13 15:45:50 +0000 2015', u'in_reply_to_status_id_str': None, u'place': None, u'metadata': {u'iso_language_code': u'en', u'result_type': u'recent'}}, u'user': {u'follow_request_sent': False, u'profile_use_background_image': True, u'default_profile_image': False, u'id': 475654286, u'profile_background_image_url_https': u'https://pbs.twimg.com/profile_background_images/470422345140559872/1_ry7uJB.jpeg', u'verified': False, u'profile_text_color': u'333333', u'profile_image_url_https': u'https://pbs.twimg.com/profile_images/596717042218049536/h64bzF6W_normal.jpg', u'profile_sidebar_fill_color': u'DDEEF6', u'entities': {u'description': {u'urls': []}}, u'followers_count': 1075, u'profile_sidebar_border_color': u'000000', u'id_str': u'475654286', u'profile_background_color': u'C0DEED', u'listed_count': 2, u'is_translation_enabled': False, u'utc_offset': 25200, u'statuses_count': 48695, u'description': u'love those idiots! #teameunhaehyuk', u'friends_count': 557, u'location': u'404', u'profile_link_color': u'0084B4', u'profile_image_url': u'http://pbs.twimg.com/profile_images/596717042218049536/h64bzF6W_normal.jpg', u'following': False, u'geo_enabled': True, u'profile_banner_url': u'https://pbs.twimg.com/profile_banners/475654286/1431102753', u'profile_background_image_url': u'http://pbs.twimg.com/profile_background_images/470422345140559872/1_ry7uJB.jpeg', u'screen_name': u'forhae', u'lang': u'id', u'profile_background_tile': True, u'favourites_count': 795, u'name': u'pujia', u'notifications': False, u'url': None, u'created_at': u'Fri Jan 27 09:05:21 +0000 2012', u'contributors_enabled': False, u'time_zone': u'Bangkok', u'protected': False, u'default_profile': False, u'is_translator': False}, u'geo': None, u'in_reply_to_user_id_str': None, u'possibly_sensitive': False, u'lang': u'en', u'created_at': u'Wed May 13 16:17:29 +0000 2015', u'in_reply_to_status_id_str': None, u'place': None, u'metadata': {u'iso_language_code': u'en', u'result_type': u'recent'}}\n"
     ]
    }
   ],
   "source": [
    "print tweets['statuses'][3]"
   ]
  },
  {
   "cell_type": "code",
   "execution_count": 26,
   "metadata": {
    "collapsed": false
   },
   "outputs": [
    {
     "name": "stdout",
     "output_type": "stream",
     "text": [
      "100\n",
      "------------------------------\n",
      "Wed May 13 16:22:48 +0000 2015\n",
      "Better late than never... http://t.co/lHmWwUcObE #TAIWAN\n",
      "#TAIWAN\n",
      "------------------------------\n",
      "Wed May 13 16:19:48 +0000 2015\n",
      "New on http://t.co/yV3vJZJHJm Ni hao from #Taiwan! http://t.co/czUD0UDIog\n",
      "#Taiwan!\n",
      "------------------------------\n",
      "Wed May 13 16:19:23 +0000 2015\n",
      "@LuRendy 😀😊😄😍🇱️🇺️🎾💦🎾💦🎾🎾🎾 🏆3⃣0⃣0⃣🏆 🎉🍻🎊 #Tennis #Taiwan #history\n",
      "@LuRendy\n",
      "#Tennis\n",
      "#Taiwan\n",
      "#history\n",
      "------------------------------\n",
      "Wed May 13 16:17:29 +0000 2015\n",
      "RT @Defoliation2H: 【Defoliation2H】We are going to give out 2 types of photo card during #DnE in #Taiwan ^^ http://t.co/oeXUqyDTlx\n",
      "@Defoliation2H:\n",
      "#DnE\n",
      "#Taiwan\n",
      "------------------------------\n",
      "Wed May 13 16:15:58 +0000 2015\n",
      "#SaoTomeandPrincipe balancing #Taiwan and #China ties? http://t.co/tpNKpnMGgR #SinoAfrica\n",
      "#SaoTomeandPrincipe\n",
      "#Taiwan\n",
      "#China\n",
      "#SinoAfrica\n",
      "------------------------------\n",
      "Wed May 13 16:12:45 +0000 2015\n",
      "LIVE RADIO\n",
      "http://t.co/DtWwYfxYTo\n",
      "#USA \n",
      "#JerseyCity\n",
      "#Sweden \n",
      "#USA\n",
      "#Sydney \n",
      "#TAIWAN\n",
      "#CANADA \n",
      "#Nashville \n",
      "#London \n",
      "#France \n",
      "#Austria\n",
      "#USA\n",
      "#JerseyCity\n",
      "#Sweden\n",
      "#USA\n",
      "#Sydney\n",
      "#TAIWAN\n",
      "#CANADA\n",
      "#Nashville\n",
      "#London\n",
      "#France\n",
      "#Austria\n",
      "------------------------------\n",
      "Wed May 13 16:11:35 +0000 2015\n",
      "RT @Defoliation2H: 【Defoliation2H】We are going to give out 2 types of photo card during #DnE in #Taiwan ^^ http://t.co/oeXUqyDTlx\n",
      "@Defoliation2H:\n",
      "#DnE\n",
      "#Taiwan\n",
      "------------------------------\n",
      "Wed May 13 16:11:22 +0000 2015\n",
      "#Taiwan http://t.co/FYICpSqTBb | Family of Indians facing life sentence in Taiwan on drugs charges: Taipei - Ta...  http://t.co/yXX5raZn3v\n",
      "#Taiwan\n",
      "------------------------------\n",
      "Wed May 13 16:10:50 +0000 2015\n",
      "RT @canadatravelgal: #Taiwan Scenes - [Photographing 2015] Week 16 http://t.co/lSKDGfO7KM #travel #photography #TTOT via @canadatravelgal h…\n",
      "@canadatravelgal:\n",
      "#Taiwan\n",
      "#travel\n",
      "#photography\n",
      "#TTOT\n",
      "@canadatravelgal\n",
      "------------------------------\n",
      "Wed May 13 16:09:41 +0000 2015\n",
      "RT @TaiwanExplorer: For K-Pop fans, Korean band #RAINBOW came to #Taiwan, they made this video travelogue https://t.co/039dD5qUEd #레인보우\n",
      "@TaiwanExplorer:\n",
      "#RAINBOW\n",
      "#Taiwan,\n",
      "#레인보우\n",
      "------------------------------\n",
      "Wed May 13 16:09:26 +0000 2015\n",
      "RT @Defoliation2H: 【Defoliation2H】We are going to give out 2 types of photo card during #DnE in #Taiwan ^^ http://t.co/oeXUqyDTlx\n",
      "@Defoliation2H:\n",
      "#DnE\n",
      "#Taiwan\n",
      "------------------------------\n",
      "Wed May 13 16:09:11 +0000 2015\n",
      "RT @Defoliation2H: 【Defoliation2H】We are going to give out 2 types of photo card during #DnE in #Taiwan ^^ http://t.co/oeXUqyDTlx\n",
      "@Defoliation2H:\n",
      "#DnE\n",
      "#Taiwan\n",
      "------------------------------\n",
      "Wed May 13 16:09:06 +0000 2015\n",
      "#Taiwan 'CSI' won't return for a new season, but will get a proper sendoff: One of CBS' most iconic franchises... http://t.co/WqRyUvARIL\n",
      "#Taiwan\n",
      "------------------------------\n",
      "Wed May 13 16:07:27 +0000 2015\n",
      "RT @Defoliation2H: 【Defoliation2H】We are going to give out 2 types of photo card during #DnE in #Taiwan ^^ http://t.co/oeXUqyDTlx\n",
      "@Defoliation2H:\n",
      "#DnE\n",
      "#Taiwan\n",
      "------------------------------\n",
      "Wed May 13 16:06:40 +0000 2015\n",
      "RT @Defoliation2H: 【Defoliation2H】We are going to give out 2 types of photo card during #DnE in #Taiwan ^^ http://t.co/oeXUqyDTlx\n",
      "@Defoliation2H:\n",
      "#DnE\n",
      "#Taiwan\n",
      "------------------------------\n",
      "Wed May 13 16:06:18 +0000 2015\n",
      "RT @startup_stadium: Think you know a thing or two about #Taiwan? Here’s something you might have missed! http://t.co/hMdjiFh0NK http://t.c…\n",
      "@startup_stadium:\n",
      "#Taiwan?\n",
      "------------------------------\n",
      "Wed May 13 16:05:54 +0000 2015\n",
      "We must boycott insane Koreans! http://t.co/otayPwGOqI #Canada #Greece #Taiwan #Turkey #Thailand #Singapore #Vietnam\n",
      "#Canada\n",
      "#Greece\n",
      "#Taiwan\n",
      "#Turkey\n",
      "#Thailand\n",
      "#Singapore\n",
      "#Vietnam\n",
      "------------------------------\n",
      "Wed May 13 16:05:24 +0000 2015\n",
      "RT @Defoliation2H: 【Defoliation2H】We are going to give out 2 types of photo card during #DnE in #Taiwan ^^ http://t.co/oeXUqyDTlx\n",
      "@Defoliation2H:\n",
      "#DnE\n",
      "#Taiwan\n",
      "------------------------------\n",
      "Wed May 13 16:04:12 +0000 2015\n",
      "RT @Defoliation2H: 【Defoliation2H】We are going to give out 2 types of photo card during #DnE in #Taiwan ^^ http://t.co/oeXUqyDTlx\n",
      "@Defoliation2H:\n",
      "#DnE\n",
      "#Taiwan\n",
      "------------------------------\n",
      "Wed May 13 16:03:39 +0000 2015\n",
      "RT @EF_intrafish: Lovely fresh #seafood in Kaohsiung, #Taiwan today. Love travelling for @IntraFish http://t.co/cehVhCaisQ\n",
      "@EF_intrafish:\n",
      "#seafood\n",
      "#Taiwan\n",
      "@IntraFish\n"
     ]
    }
   ],
   "source": [
    "print len(tweets['statuses'])\n",
    "# print tweets['statuses'][7]\n",
    "for k in tweets['statuses'][:20]:\n",
    "    print \"-\"*30\n",
    "    print k['created_at']\n",
    "    print k['text']\n",
    "    words = k['text'].split()\n",
    "    for word in words:\n",
    "        if word.startswith(\"#\") or word.startswith(\"@\"):\n",
    "            print word"
   ]
  },
  {
   "cell_type": "code",
   "execution_count": null,
   "metadata": {
    "collapsed": true
   },
   "outputs": [],
   "source": []
  },
  {
   "cell_type": "code",
   "execution_count": null,
   "metadata": {
    "collapsed": true
   },
   "outputs": [],
   "source": []
  }
 ],
 "metadata": {
  "kernelspec": {
   "display_name": "Python 2",
   "language": "python",
   "name": "python2"
  },
  "language_info": {
   "codemirror_mode": {
    "name": "ipython",
    "version": 2
   },
   "file_extension": ".py",
   "mimetype": "text/x-python",
   "name": "python",
   "nbconvert_exporter": "python",
   "pygments_lexer": "ipython2",
   "version": "2.7.6"
  }
 },
 "nbformat": 4,
 "nbformat_minor": 0
}
